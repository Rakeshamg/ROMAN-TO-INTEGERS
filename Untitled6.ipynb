{
 "cells": [
  {
   "cell_type": "code",
   "execution_count": 4,
   "id": "87d0f8ad",
   "metadata": {},
   "outputs": [],
   "source": [
    "def goodnoon():\n",
    "    print(\"Hello user.a very good noon to you as well have anice day\")\n",
    "    "
   ]
  },
  {
   "cell_type": "code",
   "execution_count": null,
   "id": "b7a9b387",
   "metadata": {},
   "outputs": [],
   "source": []
  },
  {
   "cell_type": "code",
   "execution_count": 5,
   "id": "298265ed",
   "metadata": {},
   "outputs": [],
   "source": [
    "def goodevng():\n",
    "    print(\"Hello user.a very good evng to you as well have anice day\")\n",
    "    "
   ]
  },
  {
   "cell_type": "code",
   "execution_count": 6,
   "id": "69933552",
   "metadata": {},
   "outputs": [],
   "source": [
    "def goodnyt():\n",
    "    print(\"Hello user.a very good nyt to you as well have anice day\")\n",
    "    "
   ]
  },
  {
   "cell_type": "code",
   "execution_count": 9,
   "id": "710adaae",
   "metadata": {},
   "outputs": [
    {
     "name": "stdout",
     "output_type": "stream",
     "text": [
      "Greet the system \n",
      " 1 for goodmorning\n",
      " 2 for goodnoon\n",
      " 3 for goodevng\n",
      " 4 for goodnyt\n",
      "9\n",
      "have a nice day\n"
     ]
    }
   ],
   "source": [
    "\n",
    "print('Greet the system \\n 1 for goodmorning\\n 2 for goodnoon\\n 3 for goodevng\\n 4 for goodnyt')\n",
    "a=int(input())\n",
    "\n",
    "if (a==1):\n",
    "    goodmorning()\n",
    "elif (a==2):\n",
    "    goodnoon()\n",
    "elif (a==3):\n",
    "    goodevng()\n",
    "elif (a==4):\n",
    "    goodnyt()\n",
    "else:\n",
    "    print(\"have a nice day\")"
   ]
  },
  {
   "cell_type": "code",
   "execution_count": 4,
   "id": "8db54836",
   "metadata": {},
   "outputs": [],
   "source": [
    "def sayhello(username):\n",
    "    greet=\"Hello\"\n",
    "    print(greet+' '+username)\n",
    "    "
   ]
  },
  {
   "cell_type": "code",
   "execution_count": 5,
   "id": "0e1e6b24",
   "metadata": {},
   "outputs": [
    {
     "name": "stdout",
     "output_type": "stream",
     "text": [
      "Hello eshwar\n",
      "Hello adhi\n",
      "Hello chaithu\n",
      "Hello srikar\n"
     ]
    }
   ],
   "source": [
    "a=['eshwar','adhi','chaithu','srikar']\n",
    "\n",
    "for i in a:\n",
    "    sayhello(i)"
   ]
  },
  {
   "cell_type": "code",
   "execution_count": 7,
   "id": "b3dc96eb",
   "metadata": {},
   "outputs": [],
   "source": [
    "def simplecalc(a,b=100):\n",
    "    c=a+b\n",
    "    print(c)\n",
    "\n",
    "    \n",
    "\n",
    "    "
   ]
  },
  {
   "cell_type": "code",
   "execution_count": 11,
   "id": "b4965432",
   "metadata": {},
   "outputs": [
    {
     "name": "stdout",
     "output_type": "stream",
     "text": [
      "a is : 10\n",
      "b is : 10\n",
      "110\n",
      "20\n"
     ]
    }
   ],
   "source": [
    "a=int(input(\"a is : \"))\n",
    "b=int(input(\"b is : \"))\n",
    "simplecalc(a)\n",
    "simplecalc(a,b)            \n"
   ]
  },
  {
   "cell_type": "code",
   "execution_count": 1,
   "id": "9c8b85e9",
   "metadata": {},
   "outputs": [],
   "source": [
    "def largestinthree(a,b,c):\n",
    "    if a>b and a>c :\n",
    "        return a\n",
    "    if b>c and b>a :\n",
    "        return b\n",
    "    else:\n",
    "        return c\n"
   ]
  },
  {
   "cell_type": "code",
   "execution_count": 2,
   "id": "6b078da2",
   "metadata": {},
   "outputs": [
    {
     "name": "stdout",
     "output_type": "stream",
     "text": [
      "num: 29\n",
      "num: 70\n",
      "num: 99\n",
      "greatest of three numbers is: 99\n"
     ]
    }
   ],
   "source": [
    "a=int(input(\"num: \"))\n",
    "b=int(input(\"num: \"))\n",
    "c=int(input(\"num: \"))\n",
    "res=largestinthree(a,b,c)\n",
    "print('greatest of three numbers is:',res)"
   ]
  },
  {
   "cell_type": "code",
   "execution_count": 5,
   "id": "bd2c385e",
   "metadata": {},
   "outputs": [
    {
     "name": "stdout",
     "output_type": "stream",
     "text": [
      "e\n"
     ]
    }
   ],
   "source": [
    "a='lovely'\n",
    "print(a[-3])"
   ]
  },
  {
   "cell_type": "code",
   "execution_count": 7,
   "id": "586c1338",
   "metadata": {},
   "outputs": [
    {
     "name": "stdout",
     "output_type": "stream",
     "text": [
      "kes\n"
     ]
    }
   ],
   "source": [
    "a='rakesh'\n",
    "b=a[2:5]\n",
    "print(b)"
   ]
  },
  {
   "cell_type": "code",
   "execution_count": 1,
   "id": "e0de336c",
   "metadata": {},
   "outputs": [
    {
     "name": "stdout",
     "output_type": "stream",
     "text": [
      "my name is : amaragondarakesh\n",
      "rgna\n"
     ]
    }
   ],
   "source": [
    "a=input(\"my name is : \")\n",
    "b=a[3:10:2]\n",
    "print(b)"
   ]
  },
  {
   "cell_type": "code",
   "execution_count": 2,
   "id": "dc6c2d9a",
   "metadata": {},
   "outputs": [
    {
     "name": "stdout",
     "output_type": "stream",
     "text": [
      "amaragondarakesh\n"
     ]
    }
   ],
   "source": [
    "a='amaragonda'\n",
    "b='rakesh'\n",
    "print(a+b)"
   ]
  },
  {
   "cell_type": "code",
   "execution_count": 3,
   "id": "9824b9d8",
   "metadata": {},
   "outputs": [
    {
     "name": "stdout",
     "output_type": "stream",
     "text": [
      "True\n"
     ]
    }
   ],
   "source": [
    "a='python pragramming'\n",
    "print(\"L\" not in a)"
   ]
  },
  {
   "cell_type": "code",
   "execution_count": 4,
   "id": "bc18cf9d",
   "metadata": {},
   "outputs": [
    {
     "name": "stdout",
     "output_type": "stream",
     "text": [
      "False\n"
     ]
    }
   ],
   "source": [
    "print(\"P\" in a)"
   ]
  },
  {
   "cell_type": "code",
   "execution_count": 5,
   "id": "640a5ab4",
   "metadata": {},
   "outputs": [
    {
     "name": "stdout",
     "output_type": "stream",
     "text": [
      "True\n"
     ]
    }
   ],
   "source": [
    "print(\"p\" in a)"
   ]
  },
  {
   "cell_type": "code",
   "execution_count": 6,
   "id": "aa8daa99",
   "metadata": {},
   "outputs": [
    {
     "name": "stdout",
     "output_type": "stream",
     "text": [
      "rakeshrakeshrakesh\n"
     ]
    }
   ],
   "source": [
    "a='rakesh'\n",
    "print(a*3)"
   ]
  },
  {
   "cell_type": "code",
   "execution_count": 7,
   "id": "7c29036d",
   "metadata": {},
   "outputs": [
    {
     "name": "stdout",
     "output_type": "stream",
     "text": [
      "rakeshrakeshrakesh\n"
     ]
    }
   ],
   "source": [
    "b=6\n",
    "print((b-3)*a)"
   ]
  },
  {
   "cell_type": "code",
   "execution_count": 10,
   "id": "ccad66ee",
   "metadata": {},
   "outputs": [
    {
     "name": "stdout",
     "output_type": "stream",
     "text": [
      "Lovely professional university\n"
     ]
    }
   ],
   "source": [
    "a='Lovely professional university'\n",
    "print(a.capitalize())"
   ]
  },
  {
   "cell_type": "code",
   "execution_count": 11,
   "id": "604f96a8",
   "metadata": {},
   "outputs": [
    {
     "name": "stdout",
     "output_type": "stream",
     "text": [
      "LOVELY PROFESSIONAL UNIVERSITY\n"
     ]
    }
   ],
   "source": [
    "print(a.upper())"
   ]
  },
  {
   "cell_type": "code",
   "execution_count": 12,
   "id": "986d584c",
   "metadata": {},
   "outputs": [
    {
     "name": "stdout",
     "output_type": "stream",
     "text": [
      "lovely professional university\n"
     ]
    }
   ],
   "source": [
    "print(a.lower())"
   ]
  },
  {
   "cell_type": "code",
   "execution_count": 14,
   "id": "9f13dfde",
   "metadata": {},
   "outputs": [
    {
     "name": "stdout",
     "output_type": "stream",
     "text": [
      "Lovely Professional University\n"
     ]
    }
   ],
   "source": [
    "print(a.title())"
   ]
  },
  {
   "cell_type": "code",
   "execution_count": 15,
   "id": "0c8b7b8b",
   "metadata": {},
   "outputs": [
    {
     "name": "stdout",
     "output_type": "stream",
     "text": [
      "lOVELY PROFESSIONAL UNIVERSITY\n"
     ]
    }
   ],
   "source": [
    "print(a.swapcase())"
   ]
  },
  {
   "cell_type": "code",
   "execution_count": 17,
   "id": "b5dc5b05",
   "metadata": {},
   "outputs": [
    {
     "name": "stdout",
     "output_type": "stream",
     "text": [
      "['Lovely', 'professional', 'university']\n"
     ]
    }
   ],
   "source": [
    "print(a.split())"
   ]
  },
  {
   "cell_type": "code",
   "execution_count": 24,
   "id": "bc5ef441",
   "metadata": {},
   "outputs": [
    {
     "name": "stdout",
     "output_type": "stream",
     "text": [
      "Lovely professional university\n"
     ]
    }
   ],
   "source": [
    "print(a.center(25,'&'))"
   ]
  },
  {
   "cell_type": "code",
   "execution_count": 26,
   "id": "aa750611",
   "metadata": {},
   "outputs": [
    {
     "name": "stdout",
     "output_type": "stream",
     "text": [
      "@@rakesh@@\n"
     ]
    }
   ],
   "source": [
    "b='rakesh'\n",
    "print(b.center(10,\"@\"))"
   ]
  },
  {
   "cell_type": "code",
   "execution_count": 30,
   "id": "2fafc5ad",
   "metadata": {},
   "outputs": [
    {
     "name": "stdout",
     "output_type": "stream",
     "text": [
      "2\n"
     ]
    }
   ],
   "source": [
    "c='The term artificial intelligence had previously been used to describe machines that mimic and display human cognitive skills that are associated with the human mind such as learning and problem-solving This definition has since been rejected by major AI researchers who now describe AI in terms of rationality and acting rationally which does not limit how intelligence can be articulated'\n",
    "print(c.count(\"that\"))\n"
   ]
  },
  {
   "cell_type": "code",
   "execution_count": 3,
   "id": "c2e921c6",
   "metadata": {},
   "outputs": [
    {
     "name": "stdout",
     "output_type": "stream",
     "text": [
      "d\n"
     ]
    }
   ],
   "source": [
    "L1=[\"a\",\"b\",\"c\",\"d\",1,2,3]\n",
    "L2=['A','B','C',10,11,12]\n",
    "print(L1[3])"
   ]
  },
  {
   "cell_type": "code",
   "execution_count": 8,
   "id": "78d95388",
   "metadata": {},
   "outputs": [
    {
     "name": "stdout",
     "output_type": "stream",
     "text": [
      "['a', 'b', 'c', 'd', 1]\n"
     ]
    }
   ],
   "source": [
    "print(L1[0:5])"
   ]
  },
  {
   "cell_type": "code",
   "execution_count": 6,
   "id": "31be1ab1",
   "metadata": {},
   "outputs": [
    {
     "name": "stdout",
     "output_type": "stream",
     "text": [
      "False\n"
     ]
    }
   ],
   "source": [
    "print('A'  in L1)"
   ]
  },
  {
   "cell_type": "code",
   "execution_count": 7,
   "id": "cbff9ae5",
   "metadata": {},
   "outputs": [
    {
     "name": "stdout",
     "output_type": "stream",
     "text": [
      "['a', 'b', 'c', 'd', 1, 2, 3, 'A', 'B', 'C', 10, 11, 12]\n"
     ]
    }
   ],
   "source": [
    "print(L1+L2)"
   ]
  },
  {
   "cell_type": "code",
   "execution_count": 9,
   "id": "cc2fd66a",
   "metadata": {},
   "outputs": [
    {
     "name": "stdout",
     "output_type": "stream",
     "text": [
      "a\n",
      "b\n",
      "c\n",
      "d\n",
      "1\n",
      "2\n",
      "3\n"
     ]
    }
   ],
   "source": [
    "for i in L1:\n",
    "    print(i)"
   ]
  },
  {
   "cell_type": "code",
   "execution_count": null,
   "id": "1c44300b",
   "metadata": {},
   "outputs": [],
   "source": [
    "m=int(input())\n",
    "for i in range(0,m):\n",
    "    print(L1(i))\n",
    "    "
   ]
  },
  {
   "cell_type": "code",
   "execution_count": 1,
   "id": "a16e876c",
   "metadata": {},
   "outputs": [
    {
     "name": "stdout",
     "output_type": "stream",
     "text": [
      "PPythonrPythonoPythongPythonrPythonaPythonmPythonmPythoniPythonnPythong\n"
     ]
    }
   ],
   "source": [
    "a=\"Python\"\n",
    "b=\"Programming\"\n",
    "print(a.join(b))"
   ]
  },
  {
   "cell_type": "code",
   "execution_count": 2,
   "id": "6fb9cf30",
   "metadata": {},
   "outputs": [
    {
     "name": "stdout",
     "output_type": "stream",
     "text": [
      "p_r_o_g_r_a_m_m_i_n_g\n"
     ]
    }
   ],
   "source": [
    "a='_'\n",
    "b='programming'\n",
    "print(a.join(b))"
   ]
  },
  {
   "cell_type": "code",
   "execution_count": 3,
   "id": "79ee6bea",
   "metadata": {},
   "outputs": [
    {
     "name": "stdout",
     "output_type": "stream",
     "text": [
      "False\n"
     ]
    }
   ],
   "source": [
    "print(b.isupper())"
   ]
  },
  {
   "cell_type": "code",
   "execution_count": 4,
   "id": "bed17c46",
   "metadata": {},
   "outputs": [
    {
     "name": "stdout",
     "output_type": "stream",
     "text": [
      "PROGRAMMING\n"
     ]
    }
   ],
   "source": [
    "print(b.upper())"
   ]
  },
  {
   "cell_type": "code",
   "execution_count": 5,
   "id": "451f2d8d",
   "metadata": {},
   "outputs": [
    {
     "name": "stdout",
     "output_type": "stream",
     "text": [
      "True\n"
     ]
    }
   ],
   "source": [
    "print(b.islower())"
   ]
  },
  {
   "cell_type": "code",
   "execution_count": 8,
   "id": "2431cbb8",
   "metadata": {},
   "outputs": [
    {
     "name": "stdout",
     "output_type": "stream",
     "text": [
      "PROGRAMMING\n"
     ]
    }
   ],
   "source": [
    "if not(b.isupper()):\n",
    "    print(b.upper())\n"
   ]
  },
  {
   "cell_type": "code",
   "execution_count": 9,
   "id": "2ea459b2",
   "metadata": {},
   "outputs": [
    {
     "name": "stdout",
     "output_type": "stream",
     "text": [
      "True\n"
     ]
    }
   ],
   "source": [
    "print(b.isalpha())"
   ]
  },
  {
   "cell_type": "code",
   "execution_count": 10,
   "id": "33530532",
   "metadata": {},
   "outputs": [
    {
     "name": "stdout",
     "output_type": "stream",
     "text": [
      "False\n"
     ]
    }
   ],
   "source": [
    "b='python programming'\n",
    "print(b.isalpha())"
   ]
  },
  {
   "cell_type": "code",
   "execution_count": 11,
   "id": "5400b8ec",
   "metadata": {},
   "outputs": [
    {
     "name": "stdout",
     "output_type": "stream",
     "text": [
      "False\n"
     ]
    }
   ],
   "source": [
    "print(b.isalnum())"
   ]
  },
  {
   "cell_type": "code",
   "execution_count": 13,
   "id": "369bad28",
   "metadata": {},
   "outputs": [
    {
     "name": "stdout",
     "output_type": "stream",
     "text": [
      "True\n"
     ]
    }
   ],
   "source": [
    "a='ra123'\n",
    "print(a.isalnum())"
   ]
  },
  {
   "cell_type": "code",
   "execution_count": 14,
   "id": "5f06ce93",
   "metadata": {},
   "outputs": [
    {
     "name": "stdout",
     "output_type": "stream",
     "text": [
      "False\n"
     ]
    }
   ],
   "source": [
    "print(b.isdigit())"
   ]
  },
  {
   "cell_type": "code",
   "execution_count": 15,
   "id": "0d95f6d9",
   "metadata": {},
   "outputs": [
    {
     "name": "stdout",
     "output_type": "stream",
     "text": [
      "False\n"
     ]
    }
   ],
   "source": [
    "print(a.isdigit())"
   ]
  },
  {
   "cell_type": "code",
   "execution_count": 16,
   "id": "c3258f38",
   "metadata": {},
   "outputs": [
    {
     "name": "stdout",
     "output_type": "stream",
     "text": [
      "True\n"
     ]
    }
   ],
   "source": [
    "a='123'\n",
    "print(a.isdigit())"
   ]
  },
  {
   "cell_type": "code",
   "execution_count": 17,
   "id": "d8a94f81",
   "metadata": {},
   "outputs": [
    {
     "name": "stdout",
     "output_type": "stream",
     "text": [
      "False\n"
     ]
    }
   ],
   "source": [
    "print(b.isspace())"
   ]
  },
  {
   "cell_type": "code",
   "execution_count": 18,
   "id": "a64f5f7a",
   "metadata": {},
   "outputs": [
    {
     "name": "stdout",
     "output_type": "stream",
     "text": [
      "True\n"
     ]
    }
   ],
   "source": [
    "c='     '\n",
    "print(c.isspace())"
   ]
  },
  {
   "cell_type": "code",
   "execution_count": 2,
   "id": "d1b31c6c",
   "metadata": {},
   "outputs": [
    {
     "name": "stdout",
     "output_type": "stream",
     "text": [
      "hello\n",
      "python\n"
     ]
    }
   ],
   "source": [
    "print(\"hello\\npython\")"
   ]
  },
  {
   "cell_type": "code",
   "execution_count": 3,
   "id": "2e3897ad",
   "metadata": {},
   "outputs": [
    {
     "name": "stdout",
     "output_type": "stream",
     "text": [
      "hello\tpython\n"
     ]
    }
   ],
   "source": [
    "print((\"hello\\tpython\"))"
   ]
  },
  {
   "cell_type": "code",
   "execution_count": 7,
   "id": "1eace221",
   "metadata": {},
   "outputs": [
    {
     "name": "stdout",
     "output_type": "stream",
     "text": [
      "True\n"
     ]
    }
   ],
   "source": [
    "a=\"Rakesh\"\n",
    "print(a.startswith('R'))"
   ]
  },
  {
   "cell_type": "code",
   "execution_count": 9,
   "id": "43628cff",
   "metadata": {},
   "outputs": [
    {
     "name": "stdout",
     "output_type": "stream",
     "text": [
      "False\n"
     ]
    }
   ],
   "source": [
    "print(a.endswith('H'))"
   ]
  },
  {
   "cell_type": "code",
   "execution_count": 11,
   "id": "609f647b",
   "metadata": {},
   "outputs": [
    {
     "name": "stdout",
     "output_type": "stream",
     "text": [
      "0\n"
     ]
    }
   ],
   "source": [
    "print(a.find('Ra'))"
   ]
  },
  {
   "cell_type": "code",
   "execution_count": 12,
   "id": "881d6238",
   "metadata": {},
   "outputs": [
    {
     "name": "stdout",
     "output_type": "stream",
     "text": [
      "6\n"
     ]
    }
   ],
   "source": [
    "print(len(a))"
   ]
  },
  {
   "cell_type": "code",
   "execution_count": 13,
   "id": "5a6d4ac8",
   "metadata": {},
   "outputs": [
    {
     "name": "stdout",
     "output_type": "stream",
     "text": [
      "R\n"
     ]
    }
   ],
   "source": [
    "print(min(a))"
   ]
  },
  {
   "cell_type": "code",
   "execution_count": 14,
   "id": "5d4914d9",
   "metadata": {},
   "outputs": [
    {
     "name": "stdout",
     "output_type": "stream",
     "text": [
      "s\n"
     ]
    }
   ],
   "source": [
    "print(max(a))"
   ]
  },
  {
   "cell_type": "code",
   "execution_count": 15,
   "id": "20c0f2c8",
   "metadata": {},
   "outputs": [
    {
     "name": "stdout",
     "output_type": "stream",
     "text": [
      "valid\n",
      " \n",
      "y\n"
     ]
    }
   ],
   "source": [
    "x=\"python is easy programming\"\n",
    "if (x.startswith('python')) and (x.endswith('programming')):\n",
    "    print(\"valid\")\n",
    "else:\n",
    "    print(\"invalid\")\n",
    "print(min(x))\n",
    "print(max(x))\n",
    "    "
   ]
  },
  {
   "cell_type": "code",
   "execution_count": 18,
   "id": "04f2cc8a",
   "metadata": {},
   "outputs": [
    {
     "name": "stdout",
     "output_type": "stream",
     "text": [
      "!\"#$%&'()*+,-./:;<=>?@[\\]^_`{|}~\n",
      "0123456789\n",
      "0123456789abcdefghijklmnopqrstuvwxyzABCDEFGHIJKLMNOPQRSTUVWXYZ!\"#$%&'()*+,-./:;<=>?@[\\]^_`{|}~ \t\n",
      "\r",
      "\u000b",
      "\f",
      "\n"
     ]
    }
   ],
   "source": [
    "import string\n",
    "print(string.punctuation)\n",
    "print(string.digits)\n",
    "print(string.printable)"
   ]
  },
  {
   "cell_type": "code",
   "execution_count": 19,
   "id": "994a2050",
   "metadata": {},
   "outputs": [
    {
     "name": "stdout",
     "output_type": "stream",
     "text": [
      "String after removing all Punctuation's:  List  \n",
      " tuple  \n",
      " Dictionary  \n",
      " Comment  \n",
      " Multiply  \n",
      " not  \n",
      " and  \n",
      " or  \n",
      " format specifier  \n",
      " String           \n"
     ]
    }
   ],
   "source": [
    "import string\n",
    "punctuations = string.punctuation\n",
    "result = \" \"\n",
    "str = \"List - []\\n tuple - ()\\n Dictionary - {}\\n Comment - #\\n Multiply - *\\n not - !\\n and - &\\n or - |\\n format specifier - %\\n String - \" \" $ @ ; : ' / + = \"  \n",
    "for i in str:\n",
    "\tif i not in punctuations:\n",
    "\t\tresult = result + i\n",
    "print(\"String after removing all Punctuation's:\", result)"
   ]
  },
  {
   "cell_type": "code",
   "execution_count": 20,
   "id": "176b1f4d",
   "metadata": {},
   "outputs": [
    {
     "name": "stdout",
     "output_type": "stream",
     "text": [
      "141\n"
     ]
    }
   ],
   "source": [
    "print(len(str))"
   ]
  },
  {
   "cell_type": "code",
   "execution_count": 3,
   "id": "0eb379bd",
   "metadata": {},
   "outputs": [
    {
     "name": "stdout",
     "output_type": "stream",
     "text": [
      "hello python!\n",
      "h 2\n",
      "e 1\n",
      "l 2\n",
      "l 2\n",
      "o 2\n",
      "  1\n",
      "p 1\n",
      "y 1\n",
      "t 1\n",
      "h 2\n",
      "o 2\n",
      "n 1\n",
      "! 1\n",
      "[' ', '!', 'e', 'h', 'h', 'l', 'l', 'n', 'o', 'o', 'p', 't', 'y']\n"
     ]
    }
   ],
   "source": [
    "a=(input())\n",
    "for i in a:\n",
    "    x=0\n",
    "    for j in a:\n",
    "        if i==j:\n",
    "            x=x+1\n",
    "    print(i,x)\n",
    "    \n",
    "        \n",
    "    \n",
    "print(sorted(list(a)))    \n"
   ]
  },
  {
   "cell_type": "code",
   "execution_count": 7,
   "id": "771b9da3",
   "metadata": {},
   "outputs": [
    {
     "name": "stdout",
     "output_type": "stream",
     "text": [
      "[]\n"
     ]
    }
   ],
   "source": [
    "b=[ ]\n",
    "print(b)"
   ]
  },
  {
   "cell_type": "code",
   "execution_count": 10,
   "id": "304bb440",
   "metadata": {},
   "outputs": [
    {
     "name": "stdout",
     "output_type": "stream",
     "text": [
      "[5, 6, 7, 8, 9, 0]\n"
     ]
    }
   ],
   "source": [
    "L1=[1,2,3,4]\n",
    "b=L1[4:10]\n",
    "print(b)"
   ]
  },
  {
   "cell_type": "code",
   "execution_count": 12,
   "id": "a0ca829c",
   "metadata": {},
   "outputs": [
    {
     "name": "stdout",
     "output_type": "stream",
     "text": [
      "[1, 2, 3, 4, 5, 6, 7, 8, 9, 0, 5, 6, 7, 8, 9]\n"
     ]
    }
   ],
   "source": [
    "L2=[5,6,7,8,9]\n",
    "print(L1+L2)"
   ]
  },
  {
   "cell_type": "code",
   "execution_count": 16,
   "id": "1fe96cb4",
   "metadata": {},
   "outputs": [
    {
     "name": "stdout",
     "output_type": "stream",
     "text": [
      "[1, 2, 3]\n"
     ]
    }
   ],
   "source": [
    "a=[ 5,6,7  ]\n",
    "a[0]=1\n",
    "a[1]=2\n",
    "a[2]=3\n",
    "print(a)"
   ]
  },
  {
   "cell_type": "code",
   "execution_count": 17,
   "id": "64e1eee9",
   "metadata": {},
   "outputs": [
    {
     "name": "stdout",
     "output_type": "stream",
     "text": [
      "True\n"
     ]
    }
   ],
   "source": [
    "print(1 in L1)"
   ]
  },
  {
   "cell_type": "code",
   "execution_count": 20,
   "id": "ac61f174",
   "metadata": {},
   "outputs": [
    {
     "name": "stdout",
     "output_type": "stream",
     "text": [
      "[1, 2, 3, 8, [8], 8]\n"
     ]
    }
   ],
   "source": [
    "a.append(8)\n",
    "print(a)"
   ]
  },
  {
   "cell_type": "code",
   "execution_count": 25,
   "id": "341538ee",
   "metadata": {},
   "outputs": [
    {
     "name": "stdout",
     "output_type": "stream",
     "text": [
      "['c', 'f', 3]\n"
     ]
    }
   ],
   "source": [
    "x=['a','b','c','d','e','f',1,2,3,4,5,6,7,8]\n",
    "print(x[2:11:3])"
   ]
  },
  {
   "cell_type": "code",
   "execution_count": 1,
   "id": "7b2e5bf3",
   "metadata": {},
   "outputs": [
    {
     "name": "stdout",
     "output_type": "stream",
     "text": [
      "[1, 100, 100, 100, 2, 3, 4, 5, 6, 7, 8]\n"
     ]
    }
   ],
   "source": [
    "n=[1,2,3,4,5,6,7,8]\n",
    "n[1:1]=[100,100,100]\n",
    "print(n)"
   ]
  },
  {
   "cell_type": "code",
   "execution_count": 3,
   "id": "5955a02c",
   "metadata": {},
   "outputs": [
    {
     "name": "stdout",
     "output_type": "stream",
     "text": [
      "[5, 6, 7, 100, 100, 2, 3, 4, 5, 6, 7, 8]\n"
     ]
    }
   ],
   "source": [
    "n[0:2]=[5,6,7]\n",
    "print(n)"
   ]
  },
  {
   "cell_type": "code",
   "execution_count": 9,
   "id": "33dd009d",
   "metadata": {},
   "outputs": [
    {
     "name": "stdout",
     "output_type": "stream",
     "text": [
      "[5, 6, 2, 3, 4, 5, 6, 7, 8]\n"
     ]
    }
   ],
   "source": [
    "n[2:2]=[ ]\n",
    "print(n)"
   ]
  },
  {
   "cell_type": "code",
   "execution_count": 9,
   "id": "61fbab93",
   "metadata": {},
   "outputs": [
    {
     "name": "stdout",
     "output_type": "stream",
     "text": [
      "5\n",
      "1\n",
      "2\n",
      "3\n",
      "4\n",
      "5\n",
      "[1, 2, 3, 4, 5]\n",
      "1\n"
     ]
    }
   ],
   "source": [
    "b=[]\n",
    "a=int(input(\"\"))\n",
    "for i in range(a):\n",
    "    x=int(input())\n",
    "    b.append(x)\n",
    "print(b)\n",
    "if b[1]>b[-1]:\n",
    "    print(max(b))\n",
    "else:\n",
    "    print(min(b))\n",
    "    \n",
    "    \n",
    "    \n",
    "    \n",
    "\n"
   ]
  },
  {
   "cell_type": "code",
   "execution_count": 10,
   "id": "36e5054d",
   "metadata": {},
   "outputs": [
    {
     "name": "stdout",
     "output_type": "stream",
     "text": [
      "5\n"
     ]
    }
   ],
   "source": [
    "print(len(b))"
   ]
  },
  {
   "cell_type": "code",
   "execution_count": 11,
   "id": "439fb109",
   "metadata": {},
   "outputs": [
    {
     "name": "stdout",
     "output_type": "stream",
     "text": [
      "15\n"
     ]
    }
   ],
   "source": [
    "print(sum(b))\n"
   ]
  },
  {
   "cell_type": "code",
   "execution_count": 12,
   "id": "a76aaad0",
   "metadata": {},
   "outputs": [
    {
     "name": "stdout",
     "output_type": "stream",
     "text": [
      "[1, 2, 3, 4, 5]\n"
     ]
    }
   ],
   "source": [
    "print(sorted(b))"
   ]
  },
  {
   "cell_type": "code",
   "execution_count": 13,
   "id": "55dfe2be",
   "metadata": {},
   "outputs": [
    {
     "name": "stdout",
     "output_type": "stream",
     "text": [
      "5\n",
      "1\n"
     ]
    }
   ],
   "source": [
    "print(max(b))\n",
    "print(min(b))"
   ]
  },
  {
   "cell_type": "code",
   "execution_count": 14,
   "id": "2077070d",
   "metadata": {},
   "outputs": [
    {
     "name": "stdout",
     "output_type": "stream",
     "text": [
      "['adhi', 'rakesh']\n"
     ]
    }
   ],
   "source": [
    "a=['rakesh','adhi']\n",
    "print(sorted(a))"
   ]
  },
  {
   "cell_type": "code",
   "execution_count": 15,
   "id": "5533f51c",
   "metadata": {},
   "outputs": [
    {
     "name": "stdout",
     "output_type": "stream",
     "text": [
      "['r', 'a', 'k', 'e', 's', 'h']\n"
     ]
    }
   ],
   "source": [
    "b='rakesh'\n",
    "a=list(b)\n",
    "print(a)"
   ]
  },
  {
   "cell_type": "code",
   "execution_count": 17,
   "id": "0ca8af31",
   "metadata": {},
   "outputs": [
    {
     "name": "stdout",
     "output_type": "stream",
     "text": [
      "[(0, 'r'), (1, 'a'), (2, 'k'), (3, 'e'), (4, 's'), (5, 'h')]\n"
     ]
    }
   ],
   "source": [
    "print(list(enumerate(b)))"
   ]
  },
  {
   "cell_type": "code",
   "execution_count": 18,
   "id": "c9700829",
   "metadata": {},
   "outputs": [
    {
     "name": "stdout",
     "output_type": "stream",
     "text": [
      "7\n"
     ]
    }
   ],
   "source": [
    "n=[1,2,3,4,5,6,7,8]\n",
    "print(max(n)-min(n))"
   ]
  },
  {
   "cell_type": "code",
   "execution_count": 19,
   "id": "b89260f3",
   "metadata": {},
   "outputs": [
    {
     "name": "stdout",
     "output_type": "stream",
     "text": [
      "[1, 2, 3, 4, 5, 'a', 'b', 'r']\n"
     ]
    }
   ],
   "source": [
    "a=[1,2,3,4,5,6,'a','b','r']\n",
    "a.remove(6)\n",
    "print(a)\n",
    "   "
   ]
  },
  {
   "cell_type": "code",
   "execution_count": 20,
   "id": "7508298d",
   "metadata": {},
   "outputs": [
    {
     "name": "stdout",
     "output_type": "stream",
     "text": [
      "[1, 2, 3, 9, 4, 5, 'a', 'b', 'r']\n"
     ]
    }
   ],
   "source": [
    "a.insert(3,9)\n",
    "print(a)"
   ]
  },
  {
   "cell_type": "code",
   "execution_count": 22,
   "id": "6132a01b",
   "metadata": {},
   "outputs": [
    {
     "name": "stdout",
     "output_type": "stream",
     "text": [
      "[1, 2, 3, 9, 4, 'a', 'b']\n"
     ]
    }
   ],
   "source": [
    "a.pop()\n",
    "print(a)"
   ]
  },
  {
   "cell_type": "code",
   "execution_count": 23,
   "id": "efa36571",
   "metadata": {},
   "outputs": [
    {
     "name": "stdout",
     "output_type": "stream",
     "text": [
      "[1, 2, 3, 9, 4, 'a', 'b']\n"
     ]
    }
   ],
   "source": [
    "a.count(3)\n",
    "print(a)"
   ]
  },
  {
   "cell_type": "code",
   "execution_count": 3,
   "id": "b5790ba4",
   "metadata": {},
   "outputs": [
    {
     "name": "stdout",
     "output_type": "stream",
     "text": [
      "[5, 4, 3, 2, 1]\n"
     ]
    }
   ],
   "source": [
    "a=[1,2,3,4,5]\n",
    "a.reverse()\n",
    "print(a)"
   ]
  },
  {
   "cell_type": "code",
   "execution_count": 11,
   "id": "9fcbd21a",
   "metadata": {},
   "outputs": [
    {
     "name": "stdout",
     "output_type": "stream",
     "text": [
      "3\n"
     ]
    },
    {
     "ename": "IndexError",
     "evalue": "list index out of range",
     "output_type": "error",
     "traceback": [
      "\u001b[0;31m---------------------------------------------------------------------------\u001b[0m",
      "\u001b[0;31mIndexError\u001b[0m                                Traceback (most recent call last)",
      "Input \u001b[0;32mIn [11]\u001b[0m, in \u001b[0;36m<cell line: 2>\u001b[0;34m()\u001b[0m\n\u001b[1;32m      1\u001b[0m a\u001b[38;5;241m=\u001b[39m[\u001b[38;5;241m1\u001b[39m,\u001b[38;5;241m2\u001b[39m,\u001b[38;5;241m3\u001b[39m,\u001b[38;5;241m3\u001b[39m,\u001b[38;5;241m4\u001b[39m,\u001b[38;5;241m5\u001b[39m]\n\u001b[1;32m      2\u001b[0m \u001b[38;5;28;01mfor\u001b[39;00m i \u001b[38;5;129;01min\u001b[39;00m \u001b[38;5;28mrange\u001b[39m(\u001b[38;5;241m0\u001b[39m,\u001b[38;5;28mlen\u001b[39m(a)):\n\u001b[0;32m----> 3\u001b[0m     \u001b[38;5;28;01mif\u001b[39;00m a[i]\u001b[38;5;241m==\u001b[39m\u001b[43ma\u001b[49m\u001b[43m[\u001b[49m\u001b[43mi\u001b[49m\u001b[38;5;241;43m+\u001b[39;49m\u001b[38;5;241;43m1\u001b[39;49m\u001b[43m]\u001b[49m:\n\u001b[1;32m      4\u001b[0m         \u001b[38;5;28mprint\u001b[39m(a[i])\n",
      "\u001b[0;31mIndexError\u001b[0m: list index out of range"
     ]
    }
   ],
   "source": [
    "a=[1,2,3,3,4,5]\n",
    "for i in range(0,len(a)):\n",
    "    if a[i]==a[i+1]:\n",
    "        print(a[i])\n",
    "        "
   ]
  },
  {
   "cell_type": "code",
   "execution_count": 15,
   "id": "75170b26",
   "metadata": {},
   "outputs": [
    {
     "name": "stdout",
     "output_type": "stream",
     "text": [
      "hello rakesh\n",
      "h : <built-in method count of str object at 0x7fa3e0dea030>\n",
      "e : <built-in method count of str object at 0x7fa3e0dea030>\n",
      "l : <built-in method count of str object at 0x7fa3e0dea030>\n",
      "l : <built-in method count of str object at 0x7fa3e0dea030>\n",
      "o : <built-in method count of str object at 0x7fa3e0dea030>\n",
      "  : <built-in method count of str object at 0x7fa3e0dea030>\n",
      "r : <built-in method count of str object at 0x7fa3e0dea030>\n",
      "a : <built-in method count of str object at 0x7fa3e0dea030>\n",
      "k : <built-in method count of str object at 0x7fa3e0dea030>\n",
      "e : <built-in method count of str object at 0x7fa3e0dea030>\n",
      "s : <built-in method count of str object at 0x7fa3e0dea030>\n",
      "h : <built-in method count of str object at 0x7fa3e0dea030>\n"
     ]
    }
   ],
   "source": [
    "a=input()\n",
    "for i in range(0,len(a)):\n",
    "    n=a.count\n",
    "    print(a[i],\":\",n)"
   ]
  },
  {
   "cell_type": "code",
   "execution_count": 16,
   "id": "69d46b08",
   "metadata": {},
   "outputs": [
    {
     "name": "stdout",
     "output_type": "stream",
     "text": [
      "hello python\n",
      "['hello python']\n",
      "h 2\n",
      "e 1\n",
      "l 2\n",
      "l 2\n",
      "o 2\n",
      "  1\n",
      "p 1\n",
      "y 1\n",
      "t 1\n",
      "h 2\n",
      "o 2\n",
      "n 1\n",
      "[' ', 'e', 'h', 'h', 'l', 'l', 'n', 'o', 'o', 'p', 't', 'y']\n"
     ]
    }
   ],
   "source": [
    "lst=[]\n",
    "a=(input())\n",
    "lst.append(a)\n",
    "print(lst)\n",
    "for i in a:\n",
    "    x=0\n",
    "    for j in a:\n",
    "        if i==j:\n",
    "            x=x+1\n",
    "    print(i,x)\n",
    "    \n",
    "        \n",
    "    \n",
    "print(sorted(list(a)))    \n"
   ]
  },
  {
   "cell_type": "code",
   "execution_count": 7,
   "id": "63f9d409",
   "metadata": {},
   "outputs": [
    {
     "name": "stdout",
     "output_type": "stream",
     "text": [
      "given tuple:  ('i', 'love', 'python')\n",
      "['i', 'love', 'python']\n",
      "['i', 'practice', 'python']\n",
      "('i', 'practice', 'python')\n"
     ]
    }
   ],
   "source": [
    "a=('i','love','python')\n",
    "print(\"given tuple: \",a)\n",
    "b=list(a)\n",
    "print(b)\n",
    "b[1]='practice'\n",
    "print(b)\n",
    "c=tuple(b)\n",
    "print(c)\n"
   ]
  },
  {
   "cell_type": "code",
   "execution_count": 10,
   "id": "829eba48",
   "metadata": {},
   "outputs": [
    {
     "name": "stdout",
     "output_type": "stream",
     "text": [
      "6\n"
     ]
    }
   ],
   "source": [
    "x=(91,2,2,3,4,5)\n",
    "print(len(x))"
   ]
  },
  {
   "cell_type": "code",
   "execution_count": 11,
   "id": "3ccd0d06",
   "metadata": {},
   "outputs": [
    {
     "name": "stdout",
     "output_type": "stream",
     "text": [
      "2\n"
     ]
    }
   ],
   "source": [
    "print(x.count(2))"
   ]
  },
  {
   "cell_type": "code",
   "execution_count": 12,
   "id": "7b535f13",
   "metadata": {},
   "outputs": [
    {
     "name": "stdout",
     "output_type": "stream",
     "text": [
      "enter element that has to be counted: 2\n",
      "2\n"
     ]
    }
   ],
   "source": [
    "a=(1,2,2,3,4,4,4,5,6,7,8)\n",
    "b=int(input(\"enter element that has to be counted: \"))\n",
    "print(b)"
   ]
  },
  {
   "cell_type": "code",
   "execution_count": 14,
   "id": "552be7f8",
   "metadata": {},
   "outputs": [
    {
     "name": "stdout",
     "output_type": "stream",
     "text": [
      "tuple: (1, 2, 34, 5, 6, 78, 34, 67, 27)\n",
      "sum: 254\n"
     ]
    }
   ],
   "source": [
    "a=(1,2,34,5,6,78,34,67,27)\n",
    "print(\"tuple:\",a)\n",
    "print(\"sum:\",sum(a))"
   ]
  },
  {
   "cell_type": "code",
   "execution_count": 15,
   "id": "69c14a9a",
   "metadata": {},
   "outputs": [
    {
     "name": "stdout",
     "output_type": "stream",
     "text": [
      "max: 78\n"
     ]
    }
   ],
   "source": [
    "print(\"max:\",max(a))"
   ]
  },
  {
   "cell_type": "code",
   "execution_count": 16,
   "id": "447fa56e",
   "metadata": {},
   "outputs": [
    {
     "name": "stdout",
     "output_type": "stream",
     "text": [
      "True\n"
     ]
    }
   ],
   "source": [
    "print(all(a))"
   ]
  },
  {
   "cell_type": "code",
   "execution_count": 17,
   "id": "e116add0",
   "metadata": {},
   "outputs": [
    {
     "name": "stdout",
     "output_type": "stream",
     "text": [
      "True\n"
     ]
    }
   ],
   "source": [
    "print(any(a))"
   ]
  },
  {
   "cell_type": "code",
   "execution_count": 29,
   "id": "6d3a5a55",
   "metadata": {},
   "outputs": [
    {
     "name": "stdout",
     "output_type": "stream",
     "text": [
      "{'id': 1, 'name': 'xyz', 'sec': 'k22kp', 'fee': 120000}\n",
      "{'id': 2, 'name': 'pqr', 'sec': 'k0c24', 'fee': 120000}\n"
     ]
    }
   ],
   "source": [
    "student1={'id':1,'name':'xyz','sec': 'k22kp','fee':120000}\n",
    "student2={'id':2,'name':'pqr','sec': 'k0c24','fee':120000}\n",
    "print(student1)\n",
    "print(student2)"
   ]
  },
  {
   "cell_type": "code",
   "execution_count": 30,
   "id": "dfedf2b7",
   "metadata": {},
   "outputs": [
    {
     "name": "stdout",
     "output_type": "stream",
     "text": [
      "<class 'dict'>\n"
     ]
    }
   ],
   "source": [
    "print(type(a))"
   ]
  },
  {
   "cell_type": "code",
   "execution_count": 28,
   "id": "7210cbd7",
   "metadata": {},
   "outputs": [
    {
     "name": "stdout",
     "output_type": "stream",
     "text": [
      "1\n",
      "2\n"
     ]
    }
   ],
   "source": [
    "print(student1['id'])\n",
    "print(student2['id'])"
   ]
  },
  {
   "cell_type": "code",
   "execution_count": 31,
   "id": "c183e1a6",
   "metadata": {},
   "outputs": [
    {
     "name": "stdout",
     "output_type": "stream",
     "text": [
      "['fee', 'id', 'name', 'sec']\n"
     ]
    }
   ],
   "source": [
    "print(sorted(student1))"
   ]
  },
  {
   "cell_type": "code",
   "execution_count": 32,
   "id": "0e8edee1",
   "metadata": {},
   "outputs": [
    {
     "name": "stdout",
     "output_type": "stream",
     "text": [
      "4\n"
     ]
    }
   ],
   "source": [
    "print(len(student1))"
   ]
  },
  {
   "cell_type": "code",
   "execution_count": 33,
   "id": "d58cccbb",
   "metadata": {},
   "outputs": [
    {
     "name": "stdout",
     "output_type": "stream",
     "text": [
      "True\n"
     ]
    }
   ],
   "source": [
    "print(any(student2))"
   ]
  },
  {
   "cell_type": "code",
   "execution_count": 34,
   "id": "de3df3de",
   "metadata": {},
   "outputs": [
    {
     "name": "stdout",
     "output_type": "stream",
     "text": [
      "True\n"
     ]
    }
   ],
   "source": [
    "print(all(student2))"
   ]
  },
  {
   "cell_type": "code",
   "execution_count": 1,
   "id": "8a271318",
   "metadata": {},
   "outputs": [
    {
     "name": "stdout",
     "output_type": "stream",
     "text": [
      "data1: rem\n",
      "data2: jyr\n",
      "True\n",
      "['rem']\n"
     ]
    }
   ],
   "source": [
    "a=input('data1: ').split(',')\n",
    "b=input('data2: ').split(',')\n",
    "dict1=a\n",
    "print(any(a))\n",
    "print(sorted(dict1))"
   ]
  },
  {
   "cell_type": "code",
   "execution_count": 4,
   "id": "dd47e983",
   "metadata": {},
   "outputs": [
    {
     "name": "stdout",
     "output_type": "stream",
     "text": [
      "None\n"
     ]
    }
   ],
   "source": [
    "student1={'id':1,'name':'xyz','sec': 'k22kp','fee':120000}\n",
    "dict1=student1.clear()\n",
    "print(dict1)"
   ]
  },
  {
   "cell_type": "code",
   "execution_count": 5,
   "id": "e7f4cc6a",
   "metadata": {},
   "outputs": [
    {
     "name": "stdout",
     "output_type": "stream",
     "text": [
      "{}\n"
     ]
    }
   ],
   "source": [
    "dict2=student1.copy()\n",
    "print(dict2)"
   ]
  },
  {
   "cell_type": "code",
   "execution_count": 1,
   "id": "7ab2e367",
   "metadata": {},
   "outputs": [
    {
     "name": "stdout",
     "output_type": "stream",
     "text": [
      "{'one': 10, 'two': 10, 'three': 10}\n"
     ]
    }
   ],
   "source": [
    "seq=('one','two','three')\n",
    "dict=dict.fromkeys(seq,10)\n",
    "print(str(dict))\n"
   ]
  },
  {
   "cell_type": "code",
   "execution_count": 2,
   "id": "edd60ac1",
   "metadata": {},
   "outputs": [
    {
     "name": "stdout",
     "output_type": "stream",
     "text": [
      "10\n"
     ]
    }
   ],
   "source": [
    "print(dict.get('one'))"
   ]
  },
  {
   "cell_type": "code",
   "execution_count": 3,
   "id": "03948079",
   "metadata": {},
   "outputs": [
    {
     "name": "stdout",
     "output_type": "stream",
     "text": [
      "dict_items([('one', 10), ('two', 10), ('three', 10)])\n"
     ]
    }
   ],
   "source": [
    "print(dict.items())"
   ]
  },
  {
   "cell_type": "code",
   "execution_count": 4,
   "id": "ed335e97",
   "metadata": {},
   "outputs": [
    {
     "name": "stdout",
     "output_type": "stream",
     "text": [
      "dict_keys(['one', 'two', 'three'])\n"
     ]
    }
   ],
   "source": [
    "print(dict.keys())"
   ]
  },
  {
   "cell_type": "code",
   "execution_count": 6,
   "id": "7a94eac5",
   "metadata": {},
   "outputs": [
    {
     "name": "stdout",
     "output_type": "stream",
     "text": [
      "{'id': 1, 'name': 'xyz', 'sec': 'k22kp', 'fee': 120000, 'hostel': 'bh2'}\n"
     ]
    }
   ],
   "source": [
    "d1={'id':1,'name':'xyz','sec': 'k22kp','fee':120000}\n",
    "d1.setdefault('hostel','bh2')\n",
    "print(d1)"
   ]
  },
  {
   "cell_type": "code",
   "execution_count": 8,
   "id": "eb5de3d0",
   "metadata": {},
   "outputs": [
    {
     "name": "stdout",
     "output_type": "stream",
     "text": [
      "{'id': 1, 'name': 'pqe', 'sec': 'k22kp', 'fee': 120000, 'hostel': 'bh2'}\n"
     ]
    }
   ],
   "source": [
    "d2={'id':1,'name':'pqe','sec': 'k22kp','fee':120000}\n",
    "d1.update(d2)\n",
    "print(d1)"
   ]
  },
  {
   "cell_type": "code",
   "execution_count": 9,
   "id": "6ae07d0c",
   "metadata": {},
   "outputs": [
    {
     "name": "stdout",
     "output_type": "stream",
     "text": [
      "dict_values([1, 'pqe', 'k22kp', 120000])\n"
     ]
    }
   ],
   "source": [
    "print(d2.values())"
   ]
  },
  {
   "cell_type": "code",
   "execution_count": 6,
   "id": "bd650ece",
   "metadata": {},
   "outputs": [
    {
     "data": {
      "text/plain": [
       "dict_items"
      ]
     },
     "execution_count": 6,
     "metadata": {},
     "output_type": "execute_result"
    }
   ],
   "source": [
    "dct={'id':1,'name':'xyz','sec': 'k22kp','fee':120000}\n",
    "dct_view=dct.items()\n",
    "type(dct_view)\n"
   ]
  },
  {
   "cell_type": "code",
   "execution_count": 8,
   "id": "baad5ac4",
   "metadata": {},
   "outputs": [
    {
     "name": "stdout",
     "output_type": "stream",
     "text": [
      "dict_items([('id', 1), ('name', 'xyz'), ('sec', 'k22kp'), ('fee', 120000)])\n"
     ]
    }
   ],
   "source": [
    "print(dct_view)"
   ]
  },
  {
   "cell_type": "code",
   "execution_count": 12,
   "id": "dccd8d0c",
   "metadata": {},
   "outputs": [
    {
     "name": "stdout",
     "output_type": "stream",
     "text": [
      "[('id', 1), ('name', 'xyz'), ('sec', 'k22kp'), ('fee', 120000)]\n"
     ]
    }
   ],
   "source": [
    "dct_view_list=list(dct_view)\n",
    "print(dct_view_list)"
   ]
  },
  {
   "cell_type": "code",
   "execution_count": 16,
   "id": "ef441936",
   "metadata": {},
   "outputs": [
    {
     "name": "stdout",
     "output_type": "stream",
     "text": [
      "<class 'list'>\n",
      "dict_keys(['id', 'name', 'sec', 'fee'])\n",
      "dict_values([1, 'xyz', 'k22kp', 120000])\n",
      "[1, 'xyz', 'k22kp', 120000]\n"
     ]
    }
   ],
   "source": [
    "print(type(dct_view_list))\n",
    "dct_keys=dct.keys()\n",
    "print(dct_keys)\n",
    "dct_values=dct.values()\n",
    "print(dct_values)\n",
    "dct_values_list=list(dct_values)\n",
    "print(dct_values_list)\n",
    "\n"
   ]
  },
  {
   "cell_type": "code",
   "execution_count": 22,
   "id": "c55d6902",
   "metadata": {},
   "outputs": [
    {
     "name": "stdout",
     "output_type": "stream",
     "text": [
      "[(1, 7), (2, 8), (3, 9), (4, 0), (5, 3)]\n"
     ]
    }
   ],
   "source": [
    "l1=[1,2,3,4,5]\n",
    "l2=[7,8,9,0,3]\n",
    "l1_l2dict=zip(l1,l2)\n",
    "l1_l2=list(l1_l2dict)\n",
    "print(l1_l2)"
   ]
  },
  {
   "cell_type": "code",
   "execution_count": 26,
   "id": "425f2a3c",
   "metadata": {},
   "outputs": [
    {
     "name": "stdout",
     "output_type": "stream",
     "text": [
      "{1: 7, 2: 8, 3: 9, 4: 0, 5: 3}\n"
     ]
    }
   ],
   "source": [
    "\n",
    "print(dict(l1_l2))"
   ]
  },
  {
   "cell_type": "code",
   "execution_count": 2,
   "id": "01a84cfc",
   "metadata": {},
   "outputs": [
    {
     "name": "stdout",
     "output_type": "stream",
     "text": [
      "1\n",
      "2\n",
      "3\n",
      "4\n",
      "5\n",
      "6\n",
      "7\n",
      "8\n",
      "9\n",
      "0\n",
      "0\n",
      "9\n",
      "8\n",
      "7\n",
      "6\n",
      "5\n",
      "3\n",
      "2\n",
      "1\n",
      "['1', '2', '3', '4', '5', '6', '7', '8', '9', '0', '0', '9', '8', '7', '6', '5', '3', '2', '1']\n"
     ]
    }
   ],
   "source": [
    "a=[]\n",
    "for i in range(1,20):\n",
    "    x=input()\n",
    "    a.append(x)\n",
    "print(a)    "
   ]
  },
  {
   "cell_type": "markdown",
   "id": "63f9924b",
   "metadata": {},
   "source": [
    "l1="
   ]
  },
  {
   "cell_type": "code",
   "execution_count": 4,
   "id": "44c370bc",
   "metadata": {},
   "outputs": [
    {
     "name": "stdout",
     "output_type": "stream",
     "text": [
      "[1, 2, 3, 4, 5]\n"
     ]
    }
   ],
   "source": [
    "l1=[i for i in range(1,6)]\n",
    "print(l1)"
   ]
  },
  {
   "cell_type": "code",
   "execution_count": 5,
   "id": "086e03d4",
   "metadata": {},
   "outputs": [
    {
     "name": "stdout",
     "output_type": "stream",
     "text": [
      "['even']\n"
     ]
    }
   ],
   "source": [
    "n=10\n",
    "l1=[\"even\" if(n%2) ==0 else \"odd\"]\n",
    "print(l1)"
   ]
  },
  {
   "cell_type": "code",
   "execution_count": 7,
   "id": "1a51b3ff",
   "metadata": {},
   "outputs": [
    {
     "name": "stdout",
     "output_type": "stream",
     "text": [
      "str: PYTHON\n",
      "P Y T H O N "
     ]
    }
   ],
   "source": [
    "a=input(\"str: \")\n",
    "for i in a:\n",
    "    print(i,end=\" \")"
   ]
  },
  {
   "cell_type": "code",
   "execution_count": 12,
   "id": "fd03487a",
   "metadata": {},
   "outputs": [
    {
     "name": "stdout",
     "output_type": "stream",
     "text": [
      "[10, 20, 30, 20, 40, 60, 30, 60, 90]\n"
     ]
    }
   ],
   "source": [
    "l1=[a*b for a in [1,2,3] for b in (10,20,30)]\n",
    "print(l1)\n",
    "\n"
   ]
  },
  {
   "cell_type": "code",
   "execution_count": 2,
   "id": "c29a1284",
   "metadata": {},
   "outputs": [
    {
     "name": "stdout",
     "output_type": "stream",
     "text": [
      "[11, 22, 33, 44, 55, 66, 77, 88, 99, 110, 121, 132, 143, 154, 165, 176, 187, 198, 209, 220]\n"
     ]
    }
   ],
   "source": [
    "l1=[a*b for a in [11] for b in range(1,21)]\n",
    "print(l1)"
   ]
  },
  {
   "cell_type": "code",
   "execution_count": 3,
   "id": "ca22bef5",
   "metadata": {},
   "outputs": [
    {
     "name": "stdout",
     "output_type": "stream",
     "text": [
      "{0: 10, 1: 20, 2: 30}\n"
     ]
    }
   ],
   "source": [
    "l1=[10,20,30]\n",
    "dict1={key: value for key,value in enumerate(l1)}\n",
    "print(dict1)"
   ]
  },
  {
   "cell_type": "code",
   "execution_count": 4,
   "id": "3c3a884f",
   "metadata": {},
   "outputs": [
    {
     "name": "stdout",
     "output_type": "stream",
     "text": [
      "{1: 1, 2: 4, 3: 9, 4: 16}\n"
     ]
    }
   ],
   "source": [
    "dict2={i:i**2 for i in range(1,5)}\n",
    "print(dict2)"
   ]
  },
  {
   "cell_type": "code",
   "execution_count": 5,
   "id": "11e9ae01",
   "metadata": {},
   "outputs": [
    {
     "name": "stdout",
     "output_type": "stream",
     "text": [
      "{'p': 'rakesh', 'y': 'rakesh', 't': 'rakesh', 'h': 'rakesh', 'o': 'rakesh', 'm': 'rakesh'}\n"
     ]
    }
   ],
   "source": [
    "dict3={i:\"rakesh\" for i in \"pythom\"}\n",
    "print(dict3)"
   ]
  },
  {
   "cell_type": "code",
   "execution_count": 6,
   "id": "fbac36c7",
   "metadata": {},
   "outputs": [
    {
     "name": "stdout",
     "output_type": "stream",
     "text": [
      "{'r': 'R', 'a': 'A', 'k': 'K', 'e': 'E', 's': 'S', 'h': 'H'}\n"
     ]
    }
   ],
   "source": [
    "dict4={i.lower() : i for i in \"RAKESH\"}\n",
    "print(dict4)"
   ]
  },
  {
   "cell_type": "code",
   "execution_count": null,
   "id": "ad6aa89d",
   "metadata": {},
   "outputs": [],
   "source": [
    "a=[1,2,3,4,5]\n",
    "b=a\n",
    "c=a[:]\n",
    "d=list(a)\n",
    "e=a.copy"
   ]
  },
  {
   "cell_type": "code",
   "execution_count": 6,
   "id": "5dc00fcf",
   "metadata": {},
   "outputs": [
    {
     "name": "stdout",
     "output_type": "stream",
     "text": [
      "2\n",
      "3\n",
      "[[4, 4, 4], [4, 4, 4]]\n"
     ]
    }
   ],
   "source": [
    "rows=int(input())\n",
    "cols=int(input())\n",
    "compressMatrix = [[4 for i in range(cols)] for j in range(rows)]\n",
    "print(compressMatrix)\n"
   ]
  },
  {
   "cell_type": "code",
   "execution_count": 1,
   "id": "92043268",
   "metadata": {},
   "outputs": [
    {
     "name": "stdout",
     "output_type": "stream",
     "text": [
      "Enter row size: 2\n",
      "Enter col size: 3\n",
      "Enter elements:\n",
      "2\n",
      "3\n",
      "4\n",
      "5\n",
      "6\n",
      "7\n",
      "Sparse matrix is:\n",
      "2 \n",
      "3 \n",
      "4 \n",
      "5 \n",
      "6 \n",
      "7 \n",
      "Sparse representation:\n",
      "[0, 0, 0, 0, 0, 0]\n",
      "[0, 0, 0, 0, 0, 0]\n",
      "[2, 0, 0, 0, 0, 0]\n"
     ]
    },
    {
     "ename": "TypeError",
     "evalue": "list indices must be integers or slices, not list",
     "output_type": "error",
     "traceback": [
      "\u001b[0;31m---------------------------------------------------------------------------\u001b[0m",
      "\u001b[0;31mTypeError\u001b[0m                                 Traceback (most recent call last)",
      "Input \u001b[0;32mIn [1]\u001b[0m, in \u001b[0;36m<cell line: 31>\u001b[0;34m()\u001b[0m\n\u001b[1;32m     29\u001b[0m         \u001b[38;5;28mprint\u001b[39m(mat[i][j],end \u001b[38;5;241m=\u001b[39m \u001b[38;5;124m\"\u001b[39m\u001b[38;5;124m \u001b[39m\u001b[38;5;124m\"\u001b[39m)\n\u001b[1;32m     30\u001b[0m         \u001b[38;5;28mprint\u001b[39m()\n\u001b[0;32m---> 31\u001b[0m \u001b[43msparseMatrix\u001b[49m\u001b[43m(\u001b[49m\u001b[43mmat\u001b[49m\u001b[43m,\u001b[49m\u001b[43m \u001b[49m\u001b[43mm\u001b[49m\u001b[43m,\u001b[49m\u001b[43m \u001b[49m\u001b[43mn\u001b[49m\u001b[43m)\u001b[49m\n",
      "Input \u001b[0;32mIn [1]\u001b[0m, in \u001b[0;36msparseMatrix\u001b[0;34m(sparseMatrix, m, n)\u001b[0m\n\u001b[1;32m     11\u001b[0m \u001b[38;5;28;01mfor\u001b[39;00m i \u001b[38;5;129;01min\u001b[39;00m \u001b[38;5;28mrange\u001b[39m(m):\n\u001b[1;32m     12\u001b[0m     \u001b[38;5;28;01mfor\u001b[39;00m j \u001b[38;5;129;01min\u001b[39;00m \u001b[38;5;28mrange\u001b[39m(n):\n\u001b[0;32m---> 13\u001b[0m         \u001b[38;5;28;01mif\u001b[39;00m (\u001b[43msparseMatrix\u001b[49m\u001b[43m[\u001b[49m\u001b[43mi\u001b[49m\u001b[43m]\u001b[49m[j] \u001b[38;5;241m!=\u001b[39m \u001b[38;5;241m0\u001b[39m):\n\u001b[1;32m     14\u001b[0m             compressMatrix[\u001b[38;5;241m0\u001b[39m][k] \u001b[38;5;241m=\u001b[39m i\n\u001b[1;32m     15\u001b[0m             compressMatrix[\u001b[38;5;241m1\u001b[39m][k] \u001b[38;5;241m=\u001b[39m j\n",
      "\u001b[0;31mTypeError\u001b[0m: list indices must be integers or slices, not list"
     ]
    }
   ],
   "source": [
    "\n",
    "\n",
    "\n",
    "\n",
    "def sparseMatrix(sparseMatrix, m, n):\n",
    "    size = 0\n",
    "    for i in range(m):\n",
    "        for j in range(n):\n",
    "            if (sparseMatrix[i][j] != 0):\n",
    "                size += 1\n",
    "\n",
    "    rows, cols = (3, size)\n",
    "    compressMatrix = [[0 for i in range(cols)] for j in range(rows)]\n",
    "    k = 0\n",
    "    for i in range(m):\n",
    "        for j in range(n):\n",
    "            if (sparseMatrix[i][j] != 0):\n",
    "                compressMatrix[0][k] = i\n",
    "                compressMatrix[1][k] = j\n",
    "                compressMatrix[2][k] = sparseMatrix[i][j]\n",
    "                k += 1\n",
    "                print(\"Sparse representation:\")\n",
    "                for i in compressMatrix:\n",
    "                    print(i)\n",
    "\n",
    "m = int(input(\"Enter row size: \"))\n",
    "n = int(input(\"Enter col size: \"))\n",
    "print(\"Enter elements:\")\n",
    "mat = [[int(input()) for x in range (n)] for y in range(m)]\n",
    "print(\"Sparse matrix is:\")\n",
    "for i in range(m):\n",
    "    for j in range(n):\n",
    "        print(mat[i][j],end = \" \")\n",
    "        print()\n",
    "sparseMatrix(mat, m, n)\n",
    "\n",
    "\n"
   ]
  },
  {
   "cell_type": "markdown",
   "id": "c7605e02",
   "metadata": {},
   "source": [
    " "
   ]
  },
  {
   "cell_type": "code",
   "execution_count": null,
   "id": "b878e987",
   "metadata": {},
   "outputs": [
    {
     "name": "stdout",
     "output_type": "stream",
     "text": [
      "matrix:\n",
      "[[1, 2, 3, 4], [5, 6, 7, 8], [9, 0, 12, 34]]\n",
      "transpotation using nested while:\n",
      "[[1]]\n",
      "[[1, 6], [1, 6]]\n",
      "[[1, 6, 12], [1, 6, 12], [1, 6, 12]]\n"
     ]
    }
   ],
   "source": [
    "matrix=[[1,2,3,4],[5,6,7,8],[9,0,12,34]]\n",
    "transposed = []\n",
    "print(\"matrix:\")\n",
    "print(matrix)\n",
    "print(\"transpotation using nested while:\")\n",
    "i = 0\n",
    "while(i < len(matrix[0])):\n",
    "    j=0\n",
    "    lx=[]\n",
    "    while(i< len(matrix)):\n",
    "        lx.append(matrix[j][i])\n",
    "        j = j+1\n",
    "        transposed.append(lx)\n",
    "        i=i+1\n",
    "        print(transposed)"
   ]
  },
  {
   "cell_type": "code",
   "execution_count": 1,
   "id": "95bd422c",
   "metadata": {},
   "outputs": [
    {
     "name": "stdout",
     "output_type": "stream",
     "text": [
      "10\n"
     ]
    }
   ],
   "source": [
    "class myclass:\n",
    "    a=10\n",
    "    b=20\n",
    "    def sum(x,y):\n",
    "        \n",
    "        self.sum=sum\n",
    "obj1=myclass()\n",
    "print(obj1.a)\n"
   ]
  },
  {
   "cell_type": "code",
   "execution_count": 7,
   "id": "bbe865de",
   "metadata": {},
   "outputs": [
    {
     "name": "stdout",
     "output_type": "stream",
     "text": [
      "chay\n",
      "rakesh\n"
     ]
    }
   ],
   "source": [
    "class sum1:\n",
    "    a=5\n",
    "    b=6\n",
    "    def __init__(self,firstname,lastname):\n",
    "        self.Fname=firstname\n",
    "        self.Lname=lastname\n",
    "obj1=sum1('chay','rakesh')\n",
    "print(obj1.Fname)\n",
    "print(obj1.Lname)"
   ]
  },
  {
   "cell_type": "code",
   "execution_count": 8,
   "id": "6b887fda",
   "metadata": {},
   "outputs": [
    {
     "name": "stdout",
     "output_type": "stream",
     "text": [
      "name:rakesh\n",
      "age:19\n",
      "degree:engineer\n",
      "stud_1.name: rakesh\n",
      "stud_1.age: 19\n",
      "stud_1.degree: engineer\n"
     ]
    }
   ],
   "source": [
    "class Student:\n",
    "    a=input('name:')\n",
    "    b=input('age:')\n",
    "    c=input('degree:')\n",
    "    print(\"stud_1.name:\",a)\n",
    "    print(\"stud_1.age:\",b)\n",
    "    print(\"stud_1.degree:\",c)"
   ]
  },
  {
   "cell_type": "code",
   "execution_count": 5,
   "id": "e0123ca4",
   "metadata": {},
   "outputs": [
    {
     "name": "stdout",
     "output_type": "stream",
     "text": [
      "stud_1 details= sri 20 ram@sh\n",
      "stud_2 details= lak 21 lak@ram\n"
     ]
    }
   ],
   "source": [
    "class student:\n",
    "    def __init__(self,name,age,email):\n",
    "        self.name=name\n",
    "        self.age=age\n",
    "        self.email=email\n",
    "stud_1=student('sri',20,'ram@sh')\n",
    "stud_2=student('lak',21,'lak@ram')\n",
    "print('stud_1 details=',stud_1.name,stud_1.age,stud_1.email)\n",
    "print('stud_2 details=',stud_2.name,stud_2.age,stud_2.email)\n"
   ]
  },
  {
   "cell_type": "code",
   "execution_count": 1,
   "id": "50bee8a4",
   "metadata": {},
   "outputs": [
    {
     "data": {
      "text/plain": [
       "'rolls royce'"
      ]
     },
     "execution_count": 1,
     "metadata": {},
     "output_type": "execute_result"
    }
   ],
   "source": [
    "class cars:\n",
    "    def method1(self,model,regno):\n",
    "        self.model=model\n",
    "        self.regno=regno\n",
    "    def method2(self):\n",
    "        return(self.model)\n",
    "    def method3(self):\n",
    "        return(self.regno)\n",
    "car1=cars()\n",
    "\n",
    "car1.method1('porsche','rolls royce')\n",
    "car1.method2()\n",
    "car1.method3()\n"
   ]
  },
  {
   "cell_type": "code",
   "execution_count": 5,
   "id": "60cd525c",
   "metadata": {},
   "outputs": [
    {
     "name": "stdout",
     "output_type": "stream",
     "text": [
      "bugatti\n"
     ]
    },
    {
     "data": {
      "text/plain": [
       "'bugatti'"
      ]
     },
     "execution_count": 5,
     "metadata": {},
     "output_type": "execute_result"
    }
   ],
   "source": [
    "class car:\n",
    "    def setname(self,name):\n",
    "        self.name=name\n",
    "    def getname(self):\n",
    "        return(self.name)\n",
    "name=input()\n",
    "honda=car()\n",
    "honda.setname(name)\n",
    "honda.getname()"
   ]
  },
  {
   "cell_type": "code",
   "execution_count": 9,
   "id": "9a4e259b",
   "metadata": {},
   "outputs": [
    {
     "name": "stdout",
     "output_type": "stream",
     "text": [
      "stud_1 details= sri 20 ram@sh\n",
      "stud_2 details= lak 21 lak@ram\n"
     ]
    }
   ],
   "source": [
    "class student:\n",
    "    def __init__(self,name,age,email):\n",
    "        self.name=name\n",
    "        self.age=age\n",
    "        self.email=email\n",
    "stud_1=student('sri',20,'ram@sh')\n",
    "stud_2=student('lak',21,'lak@ram')\n",
    "print('stud_1 details=',stud_1.name,stud_1.age,stud_1.email)\n",
    "print('stud_2 details=',stud_2.name,stud_2.age,stud_2.email)\n"
   ]
  },
  {
   "cell_type": "code",
   "execution_count": null,
   "id": "e52a5730",
   "metadata": {},
   "outputs": [],
   "source": []
  },
  {
   "cell_type": "code",
   "execution_count": null,
   "id": "b1494193",
   "metadata": {},
   "outputs": [],
   "source": []
  },
  {
   "cell_type": "code",
   "execution_count": null,
   "id": "118f71df",
   "metadata": {},
   "outputs": [],
   "source": []
  },
  {
   "cell_type": "code",
   "execution_count": null,
   "id": "d0ac682e",
   "metadata": {},
   "outputs": [],
   "source": []
  },
  {
   "cell_type": "code",
   "execution_count": null,
   "id": "f642f111",
   "metadata": {},
   "outputs": [],
   "source": []
  },
  {
   "cell_type": "code",
   "execution_count": null,
   "id": "ddb053a9",
   "metadata": {},
   "outputs": [],
   "source": []
  },
  {
   "cell_type": "code",
   "execution_count": null,
   "id": "e2145ae3",
   "metadata": {},
   "outputs": [],
   "source": []
  },
  {
   "cell_type": "code",
   "execution_count": null,
   "id": "0b427a2d",
   "metadata": {},
   "outputs": [],
   "source": []
  },
  {
   "cell_type": "code",
   "execution_count": null,
   "id": "247e83a2",
   "metadata": {},
   "outputs": [],
   "source": []
  },
  {
   "cell_type": "code",
   "execution_count": 15,
   "id": "be178fb5",
   "metadata": {},
   "outputs": [
    {
     "data": {
      "text/plain": [
       "'chay'"
      ]
     },
     "execution_count": 15,
     "metadata": {},
     "output_type": "execute_result"
    }
   ],
   "source": [
    "class person:\n",
    "    def setname(self,name):\n",
    "        self.name=name\n",
    "    def getname(self):\n",
    "        return(self.name)\n",
    "p1=person()\n",
    "p2=person()\n",
    "p1.setname('rakesh')\n",
    "p2.setname('chay')\n",
    "p1.getname()\n",
    "p2.getname()\n"
   ]
  },
  {
   "cell_type": "code",
   "execution_count": 2,
   "id": "9645bd4d",
   "metadata": {},
   "outputs": [
    {
     "name": "stdout",
     "output_type": "stream",
     "text": [
      "['{\\n', ' \"cells\": [\\n', '  {\\n', '   \"cell_type\": \"code\",\\n', '   \"execution_count\": 4,\\n', '   \"id\": \"87d0f8ad\",\\n', '   \"metadata\": {},\\n', '   \"outputs\": [],\\n', '   \"source\": [\\n', '    \"def goodnoon():\\\\n\",\\n', '    \"    print(\\\\\"Hello user.a very good noon to you as well have anice day\\\\\")\\\\n\",\\n', '    \"    \"\\n', '   ]\\n', '  },\\n', '  {\\n', '   \"cell_type\": \"code\",\\n', '   \"execution_count\": null,\\n', '   \"id\": \"b7a9b387\",\\n', '   \"metadata\": {},\\n', '   \"outputs\": [],\\n', '   \"source\": []\\n', '  },\\n', '  {\\n', '   \"cell_type\": \"code\",\\n', '   \"execution_count\": 5,\\n', '   \"id\": \"298265ed\",\\n', '   \"metadata\": {},\\n', '   \"outputs\": [],\\n', '   \"source\": [\\n', '    \"def goodevng():\\\\n\",\\n', '    \"    print(\\\\\"Hello user.a very good evng to you as well have anice day\\\\\")\\\\n\",\\n', '    \"    \"\\n', '   ]\\n', '  },\\n', '  {\\n', '   \"cell_type\": \"code\",\\n', '   \"execution_count\": 6,\\n', '   \"id\": \"69933552\",\\n', '   \"metadata\": {},\\n', '   \"outputs\": [],\\n', '   \"source\": [\\n', '    \"def goodnyt():\\\\n\",\\n', '    \"    print(\\\\\"Hello user.a very good nyt to you as well have anice day\\\\\")\\\\n\",\\n', '    \"    \"\\n', '   ]\\n', '  },\\n', '  {\\n', '   \"cell_type\": \"code\",\\n', '   \"execution_count\": 9,\\n', '   \"id\": \"710adaae\",\\n', '   \"metadata\": {},\\n', '   \"outputs\": [\\n', '    {\\n', '     \"name\": \"stdout\",\\n', '     \"output_type\": \"stream\",\\n', '     \"text\": [\\n', '      \"Greet the system \\\\n\",\\n', '      \" 1 for goodmorning\\\\n\",\\n', '      \" 2 for goodnoon\\\\n\",\\n', '      \" 3 for goodevng\\\\n\",\\n', '      \" 4 for goodnyt\\\\n\",\\n', '      \"9\\\\n\",\\n', '      \"have a nice day\\\\n\"\\n', '     ]\\n', '    }\\n', '   ],\\n', '   \"source\": [\\n', '    \"\\\\n\",\\n', '    \"print(\\'Greet the system \\\\\\\\n 1 for goodmorning\\\\\\\\n 2 for goodnoon\\\\\\\\n 3 for goodevng\\\\\\\\n 4 for goodnyt\\')\\\\n\",\\n', '    \"a=int(input())\\\\n\",\\n', '    \"\\\\n\",\\n', '    \"if (a==1):\\\\n\",\\n', '    \"    goodmorning()\\\\n\",\\n', '    \"elif (a==2):\\\\n\",\\n', '    \"    goodnoon()\\\\n\",\\n', '    \"elif (a==3):\\\\n\",\\n', '    \"    goodevng()\\\\n\",\\n', '    \"elif (a==4):\\\\n\",\\n', '    \"    goodnyt()\\\\n\",\\n', '    \"else:\\\\n\",\\n', '    \"    print(\\\\\"have a nice day\\\\\")\"\\n', '   ]\\n', '  },\\n', '  {\\n', '   \"cell_type\": \"code\",\\n', '   \"execution_count\": 4,\\n', '   \"id\": \"8db54836\",\\n', '   \"metadata\": {},\\n', '   \"outputs\": [],\\n', '   \"source\": [\\n', '    \"def sayhello(username):\\\\n\",\\n', '    \"    greet=\\\\\"Hello\\\\\"\\\\n\",\\n', '    \"    print(greet+\\' \\'+username)\\\\n\",\\n', '    \"    \"\\n', '   ]\\n', '  },\\n', '  {\\n', '   \"cell_type\": \"code\",\\n', '   \"execution_count\": 5,\\n', '   \"id\": \"0e1e6b24\",\\n', '   \"metadata\": {},\\n', '   \"outputs\": [\\n', '    {\\n', '     \"name\": \"stdout\",\\n', '     \"output_type\": \"stream\",\\n', '     \"text\": [\\n', '      \"Hello eshwar\\\\n\",\\n', '      \"Hello adhi\\\\n\",\\n', '      \"Hello chaithu\\\\n\",\\n', '      \"Hello srikar\\\\n\"\\n', '     ]\\n', '    }\\n', '   ],\\n', '   \"source\": [\\n', '    \"a=[\\'eshwar\\',\\'adhi\\',\\'chaithu\\',\\'srikar\\']\\\\n\",\\n', '    \"\\\\n\",\\n', '    \"for i in a:\\\\n\",\\n', '    \"    sayhello(i)\"\\n', '   ]\\n', '  },\\n', '  {\\n', '   \"cell_type\": \"code\",\\n', '   \"execution_count\": 7,\\n', '   \"id\": \"b3dc96eb\",\\n', '   \"metadata\": {},\\n', '   \"outputs\": [],\\n', '   \"source\": [\\n', '    \"def simplecalc(a,b=100):\\\\n\",\\n', '    \"    c=a+b\\\\n\",\\n', '    \"    print(c)\\\\n\",\\n', '    \"\\\\n\",\\n', '    \"    \\\\n\",\\n', '    \"\\\\n\",\\n', '    \"    \"\\n', '   ]\\n', '  },\\n', '  {\\n', '   \"cell_type\": \"code\",\\n', '   \"execution_count\": 11,\\n', '   \"id\": \"b4965432\",\\n', '   \"metadata\": {},\\n', '   \"outputs\": [\\n', '    {\\n', '     \"name\": \"stdout\",\\n', '     \"output_type\": \"stream\",\\n', '     \"text\": [\\n', '      \"a is : 10\\\\n\",\\n', '      \"b is : 10\\\\n\",\\n', '      \"110\\\\n\",\\n', '      \"20\\\\n\"\\n', '     ]\\n', '    }\\n', '   ],\\n', '   \"source\": [\\n', '    \"a=int(input(\\\\\"a is : \\\\\"))\\\\n\",\\n', '    \"b=int(input(\\\\\"b is : \\\\\"))\\\\n\",\\n', '    \"simplecalc(a)\\\\n\",\\n', '    \"simplecalc(a,b)            \\\\n\"\\n', '   ]\\n', '  },\\n', '  {\\n', '   \"cell_type\": \"code\",\\n', '   \"execution_count\": 1,\\n', '   \"id\": \"9c8b85e9\",\\n', '   \"metadata\": {},\\n', '   \"outputs\": [],\\n', '   \"source\": [\\n', '    \"def largestinthree(a,b,c):\\\\n\",\\n', '    \"    if a>b and a>c :\\\\n\",\\n', '    \"        return a\\\\n\",\\n', '    \"    if b>c and b>a :\\\\n\",\\n', '    \"        return b\\\\n\",\\n', '    \"    else:\\\\n\",\\n', '    \"        return c\\\\n\"\\n', '   ]\\n', '  },\\n', '  {\\n', '   \"cell_type\": \"code\",\\n', '   \"execution_count\": 2,\\n', '   \"id\": \"6b078da2\",\\n', '   \"metadata\": {},\\n', '   \"outputs\": [\\n', '    {\\n', '     \"name\": \"stdout\",\\n', '     \"output_type\": \"stream\",\\n', '     \"text\": [\\n', '      \"num: 29\\\\n\",\\n', '      \"num: 70\\\\n\",\\n', '      \"num: 99\\\\n\",\\n', '      \"greatest of three numbers is: 99\\\\n\"\\n', '     ]\\n', '    }\\n', '   ],\\n', '   \"source\": [\\n', '    \"a=int(input(\\\\\"num: \\\\\"))\\\\n\",\\n', '    \"b=int(input(\\\\\"num: \\\\\"))\\\\n\",\\n', '    \"c=int(input(\\\\\"num: \\\\\"))\\\\n\",\\n', '    \"res=largestinthree(a,b,c)\\\\n\",\\n', '    \"print(\\'greatest of three numbers is:\\',res)\"\\n', '   ]\\n', '  },\\n', '  {\\n', '   \"cell_type\": \"code\",\\n', '   \"execution_count\": 5,\\n', '   \"id\": \"bd2c385e\",\\n', '   \"metadata\": {},\\n', '   \"outputs\": [\\n', '    {\\n', '     \"name\": \"stdout\",\\n', '     \"output_type\": \"stream\",\\n', '     \"text\": [\\n', '      \"e\\\\n\"\\n', '     ]\\n', '    }\\n', '   ],\\n', '   \"source\": [\\n', '    \"a=\\'lovely\\'\\\\n\",\\n', '    \"print(a[-3])\"\\n', '   ]\\n', '  },\\n', '  {\\n', '   \"cell_type\": \"code\",\\n', '   \"execution_count\": 7,\\n', '   \"id\": \"586c1338\",\\n', '   \"metadata\": {},\\n', '   \"outputs\": [\\n', '    {\\n', '     \"name\": \"stdout\",\\n', '     \"output_type\": \"stream\",\\n', '     \"text\": [\\n', '      \"kes\\\\n\"\\n', '     ]\\n', '    }\\n', '   ],\\n', '   \"source\": [\\n', '    \"a=\\'rakesh\\'\\\\n\",\\n', '    \"b=a[2:5]\\\\n\",\\n', '    \"print(b)\"\\n', '   ]\\n', '  },\\n', '  {\\n', '   \"cell_type\": \"code\",\\n', '   \"execution_count\": 1,\\n', '   \"id\": \"e0de336c\",\\n', '   \"metadata\": {},\\n', '   \"outputs\": [\\n', '    {\\n', '     \"name\": \"stdout\",\\n', '     \"output_type\": \"stream\",\\n', '     \"text\": [\\n', '      \"my name is : amaragondarakesh\\\\n\",\\n', '      \"rgna\\\\n\"\\n', '     ]\\n', '    }\\n', '   ],\\n', '   \"source\": [\\n', '    \"a=input(\\\\\"my name is : \\\\\")\\\\n\",\\n', '    \"b=a[3:10:2]\\\\n\",\\n', '    \"print(b)\"\\n', '   ]\\n', '  },\\n', '  {\\n', '   \"cell_type\": \"code\",\\n', '   \"execution_count\": 2,\\n', '   \"id\": \"dc6c2d9a\",\\n', '   \"metadata\": {},\\n', '   \"outputs\": [\\n', '    {\\n', '     \"name\": \"stdout\",\\n', '     \"output_type\": \"stream\",\\n', '     \"text\": [\\n', '      \"amaragondarakesh\\\\n\"\\n', '     ]\\n', '    }\\n', '   ],\\n', '   \"source\": [\\n', '    \"a=\\'amaragonda\\'\\\\n\",\\n', '    \"b=\\'rakesh\\'\\\\n\",\\n', '    \"print(a+b)\"\\n', '   ]\\n', '  },\\n', '  {\\n', '   \"cell_type\": \"code\",\\n', '   \"execution_count\": 3,\\n', '   \"id\": \"9824b9d8\",\\n', '   \"metadata\": {},\\n', '   \"outputs\": [\\n', '    {\\n', '     \"name\": \"stdout\",\\n', '     \"output_type\": \"stream\",\\n', '     \"text\": [\\n', '      \"True\\\\n\"\\n', '     ]\\n', '    }\\n', '   ],\\n', '   \"source\": [\\n', '    \"a=\\'python pragramming\\'\\\\n\",\\n', '    \"print(\\\\\"L\\\\\" not in a)\"\\n', '   ]\\n', '  },\\n', '  {\\n', '   \"cell_type\": \"code\",\\n', '   \"execution_count\": 4,\\n', '   \"id\": \"bc18cf9d\",\\n', '   \"metadata\": {},\\n', '   \"outputs\": [\\n', '    {\\n', '     \"name\": \"stdout\",\\n', '     \"output_type\": \"stream\",\\n', '     \"text\": [\\n', '      \"False\\\\n\"\\n', '     ]\\n', '    }\\n', '   ],\\n', '   \"source\": [\\n', '    \"print(\\\\\"P\\\\\" in a)\"\\n', '   ]\\n', '  },\\n', '  {\\n', '   \"cell_type\": \"code\",\\n', '   \"execution_count\": 5,\\n', '   \"id\": \"640a5ab4\",\\n', '   \"metadata\": {},\\n', '   \"outputs\": [\\n', '    {\\n', '     \"name\": \"stdout\",\\n', '     \"output_type\": \"stream\",\\n', '     \"text\": [\\n', '      \"True\\\\n\"\\n', '     ]\\n', '    }\\n', '   ],\\n', '   \"source\": [\\n', '    \"print(\\\\\"p\\\\\" in a)\"\\n', '   ]\\n', '  },\\n', '  {\\n', '   \"cell_type\": \"code\",\\n', '   \"execution_count\": 6,\\n', '   \"id\": \"aa8daa99\",\\n', '   \"metadata\": {},\\n', '   \"outputs\": [\\n', '    {\\n', '     \"name\": \"stdout\",\\n', '     \"output_type\": \"stream\",\\n', '     \"text\": [\\n', '      \"rakeshrakeshrakesh\\\\n\"\\n', '     ]\\n', '    }\\n', '   ],\\n', '   \"source\": [\\n', '    \"a=\\'rakesh\\'\\\\n\",\\n', '    \"print(a*3)\"\\n', '   ]\\n', '  },\\n', '  {\\n', '   \"cell_type\": \"code\",\\n', '   \"execution_count\": 7,\\n', '   \"id\": \"7c29036d\",\\n', '   \"metadata\": {},\\n', '   \"outputs\": [\\n', '    {\\n', '     \"name\": \"stdout\",\\n', '     \"output_type\": \"stream\",\\n', '     \"text\": [\\n', '      \"rakeshrakeshrakesh\\\\n\"\\n', '     ]\\n', '    }\\n', '   ],\\n', '   \"source\": [\\n', '    \"b=6\\\\n\",\\n', '    \"print((b-3)*a)\"\\n', '   ]\\n', '  },\\n', '  {\\n', '   \"cell_type\": \"code\",\\n', '   \"execution_count\": 10,\\n', '   \"id\": \"ccad66ee\",\\n', '   \"metadata\": {},\\n', '   \"outputs\": [\\n', '    {\\n', '     \"name\": \"stdout\",\\n', '     \"output_type\": \"stream\",\\n', '     \"text\": [\\n', '      \"Lovely professional university\\\\n\"\\n', '     ]\\n', '    }\\n', '   ],\\n', '   \"source\": [\\n', '    \"a=\\'Lovely professional university\\'\\\\n\",\\n', '    \"print(a.capitalize())\"\\n', '   ]\\n', '  },\\n', '  {\\n', '   \"cell_type\": \"code\",\\n', '   \"execution_count\": 11,\\n', '   \"id\": \"604f96a8\",\\n', '   \"metadata\": {},\\n', '   \"outputs\": [\\n', '    {\\n', '     \"name\": \"stdout\",\\n', '     \"output_type\": \"stream\",\\n', '     \"text\": [\\n', '      \"LOVELY PROFESSIONAL UNIVERSITY\\\\n\"\\n', '     ]\\n', '    }\\n', '   ],\\n', '   \"source\": [\\n', '    \"print(a.upper())\"\\n', '   ]\\n', '  },\\n', '  {\\n', '   \"cell_type\": \"code\",\\n', '   \"execution_count\": 12,\\n', '   \"id\": \"986d584c\",\\n', '   \"metadata\": {},\\n', '   \"outputs\": [\\n', '    {\\n', '     \"name\": \"stdout\",\\n', '     \"output_type\": \"stream\",\\n', '     \"text\": [\\n', '      \"lovely professional university\\\\n\"\\n', '     ]\\n', '    }\\n', '   ],\\n', '   \"source\": [\\n', '    \"print(a.lower())\"\\n', '   ]\\n', '  },\\n', '  {\\n', '   \"cell_type\": \"code\",\\n', '   \"execution_count\": 14,\\n', '   \"id\": \"9f13dfde\",\\n', '   \"metadata\": {},\\n', '   \"outputs\": [\\n', '    {\\n', '     \"name\": \"stdout\",\\n', '     \"output_type\": \"stream\",\\n', '     \"text\": [\\n', '      \"Lovely Professional University\\\\n\"\\n', '     ]\\n', '    }\\n', '   ],\\n', '   \"source\": [\\n', '    \"print(a.title())\"\\n', '   ]\\n', '  },\\n', '  {\\n', '   \"cell_type\": \"code\",\\n', '   \"execution_count\": 15,\\n', '   \"id\": \"0c8b7b8b\",\\n', '   \"metadata\": {},\\n', '   \"outputs\": [\\n', '    {\\n', '     \"name\": \"stdout\",\\n', '     \"output_type\": \"stream\",\\n', '     \"text\": [\\n', '      \"lOVELY PROFESSIONAL UNIVERSITY\\\\n\"\\n', '     ]\\n', '    }\\n', '   ],\\n', '   \"source\": [\\n', '    \"print(a.swapcase())\"\\n', '   ]\\n', '  },\\n', '  {\\n', '   \"cell_type\": \"code\",\\n', '   \"execution_count\": 17,\\n', '   \"id\": \"b5dc5b05\",\\n', '   \"metadata\": {},\\n', '   \"outputs\": [\\n', '    {\\n', '     \"name\": \"stdout\",\\n', '     \"output_type\": \"stream\",\\n', '     \"text\": [\\n', '      \"[\\'Lovely\\', \\'professional\\', \\'university\\']\\\\n\"\\n', '     ]\\n', '    }\\n', '   ],\\n', '   \"source\": [\\n', '    \"print(a.split())\"\\n', '   ]\\n', '  },\\n', '  {\\n', '   \"cell_type\": \"code\",\\n', '   \"execution_count\": 24,\\n', '   \"id\": \"bc5ef441\",\\n', '   \"metadata\": {},\\n', '   \"outputs\": [\\n', '    {\\n', '     \"name\": \"stdout\",\\n', '     \"output_type\": \"stream\",\\n', '     \"text\": [\\n', '      \"Lovely professional university\\\\n\"\\n', '     ]\\n', '    }\\n', '   ],\\n', '   \"source\": [\\n', '    \"print(a.center(25,\\'&\\'))\"\\n', '   ]\\n', '  },\\n', '  {\\n', '   \"cell_type\": \"code\",\\n', '   \"execution_count\": 26,\\n', '   \"id\": \"aa750611\",\\n', '   \"metadata\": {},\\n', '   \"outputs\": [\\n', '    {\\n', '     \"name\": \"stdout\",\\n', '     \"output_type\": \"stream\",\\n', '     \"text\": [\\n', '      \"@@rakesh@@\\\\n\"\\n', '     ]\\n', '    }\\n', '   ],\\n', '   \"source\": [\\n', '    \"b=\\'rakesh\\'\\\\n\",\\n', '    \"print(b.center(10,\\\\\"@\\\\\"))\"\\n', '   ]\\n', '  },\\n', '  {\\n', '   \"cell_type\": \"code\",\\n', '   \"execution_count\": 30,\\n', '   \"id\": \"2fafc5ad\",\\n', '   \"metadata\": {},\\n', '   \"outputs\": [\\n', '    {\\n', '     \"name\": \"stdout\",\\n', '     \"output_type\": \"stream\",\\n', '     \"text\": [\\n', '      \"2\\\\n\"\\n', '     ]\\n', '    }\\n', '   ],\\n', '   \"source\": [\\n', '    \"c=\\'The term artificial intelligence had previously been used to describe machines that mimic and display human cognitive skills that are associated with the human mind such as learning and problem-solving This definition has since been rejected by major AI researchers who now describe AI in terms of rationality and acting rationally which does not limit how intelligence can be articulated\\'\\\\n\",\\n', '    \"print(c.count(\\\\\"that\\\\\"))\\\\n\"\\n', '   ]\\n', '  },\\n', '  {\\n', '   \"cell_type\": \"code\",\\n', '   \"execution_count\": 3,\\n', '   \"id\": \"c2e921c6\",\\n', '   \"metadata\": {},\\n', '   \"outputs\": [\\n', '    {\\n', '     \"name\": \"stdout\",\\n', '     \"output_type\": \"stream\",\\n', '     \"text\": [\\n', '      \"d\\\\n\"\\n', '     ]\\n', '    }\\n', '   ],\\n', '   \"source\": [\\n', '    \"L1=[\\\\\"a\\\\\",\\\\\"b\\\\\",\\\\\"c\\\\\",\\\\\"d\\\\\",1,2,3]\\\\n\",\\n', '    \"L2=[\\'A\\',\\'B\\',\\'C\\',10,11,12]\\\\n\",\\n', '    \"print(L1[3])\"\\n', '   ]\\n', '  },\\n', '  {\\n', '   \"cell_type\": \"code\",\\n', '   \"execution_count\": 8,\\n', '   \"id\": \"78d95388\",\\n', '   \"metadata\": {},\\n', '   \"outputs\": [\\n', '    {\\n', '     \"name\": \"stdout\",\\n', '     \"output_type\": \"stream\",\\n', '     \"text\": [\\n', '      \"[\\'a\\', \\'b\\', \\'c\\', \\'d\\', 1]\\\\n\"\\n', '     ]\\n', '    }\\n', '   ],\\n', '   \"source\": [\\n', '    \"print(L1[0:5])\"\\n', '   ]\\n', '  },\\n', '  {\\n', '   \"cell_type\": \"code\",\\n', '   \"execution_count\": 6,\\n', '   \"id\": \"31be1ab1\",\\n', '   \"metadata\": {},\\n', '   \"outputs\": [\\n', '    {\\n', '     \"name\": \"stdout\",\\n', '     \"output_type\": \"stream\",\\n', '     \"text\": [\\n', '      \"False\\\\n\"\\n', '     ]\\n', '    }\\n', '   ],\\n', '   \"source\": [\\n', '    \"print(\\'A\\'  in L1)\"\\n', '   ]\\n', '  },\\n', '  {\\n', '   \"cell_type\": \"code\",\\n', '   \"execution_count\": 7,\\n', '   \"id\": \"cbff9ae5\",\\n', '   \"metadata\": {},\\n', '   \"outputs\": [\\n', '    {\\n', '     \"name\": \"stdout\",\\n', '     \"output_type\": \"stream\",\\n', '     \"text\": [\\n', '      \"[\\'a\\', \\'b\\', \\'c\\', \\'d\\', 1, 2, 3, \\'A\\', \\'B\\', \\'C\\', 10, 11, 12]\\\\n\"\\n', '     ]\\n', '    }\\n', '   ],\\n', '   \"source\": [\\n', '    \"print(L1+L2)\"\\n', '   ]\\n', '  },\\n', '  {\\n', '   \"cell_type\": \"code\",\\n', '   \"execution_count\": 9,\\n', '   \"id\": \"cc2fd66a\",\\n', '   \"metadata\": {},\\n', '   \"outputs\": [\\n', '    {\\n', '     \"name\": \"stdout\",\\n', '     \"output_type\": \"stream\",\\n', '     \"text\": [\\n', '      \"a\\\\n\",\\n', '      \"b\\\\n\",\\n', '      \"c\\\\n\",\\n', '      \"d\\\\n\",\\n', '      \"1\\\\n\",\\n', '      \"2\\\\n\",\\n', '      \"3\\\\n\"\\n', '     ]\\n', '    }\\n', '   ],\\n', '   \"source\": [\\n', '    \"for i in L1:\\\\n\",\\n', '    \"    print(i)\"\\n', '   ]\\n', '  },\\n', '  {\\n', '   \"cell_type\": \"code\",\\n', '   \"execution_count\": null,\\n', '   \"id\": \"1c44300b\",\\n', '   \"metadata\": {},\\n', '   \"outputs\": [],\\n', '   \"source\": [\\n', '    \"m=int(input())\\\\n\",\\n', '    \"for i in range(0,m):\\\\n\",\\n', '    \"    print(L1(i))\\\\n\",\\n', '    \"    \"\\n', '   ]\\n', '  },\\n', '  {\\n', '   \"cell_type\": \"code\",\\n', '   \"execution_count\": 1,\\n', '   \"id\": \"a16e876c\",\\n', '   \"metadata\": {},\\n', '   \"outputs\": [\\n', '    {\\n', '     \"name\": \"stdout\",\\n', '     \"output_type\": \"stream\",\\n', '     \"text\": [\\n', '      \"PPythonrPythonoPythongPythonrPythonaPythonmPythonmPythoniPythonnPythong\\\\n\"\\n', '     ]\\n', '    }\\n', '   ],\\n', '   \"source\": [\\n', '    \"a=\\\\\"Python\\\\\"\\\\n\",\\n', '    \"b=\\\\\"Programming\\\\\"\\\\n\",\\n', '    \"print(a.join(b))\"\\n', '   ]\\n', '  },\\n', '  {\\n', '   \"cell_type\": \"code\",\\n', '   \"execution_count\": 2,\\n', '   \"id\": \"6fb9cf30\",\\n', '   \"metadata\": {},\\n', '   \"outputs\": [\\n', '    {\\n', '     \"name\": \"stdout\",\\n', '     \"output_type\": \"stream\",\\n', '     \"text\": [\\n', '      \"p_r_o_g_r_a_m_m_i_n_g\\\\n\"\\n', '     ]\\n', '    }\\n', '   ],\\n', '   \"source\": [\\n', '    \"a=\\'_\\'\\\\n\",\\n', '    \"b=\\'programming\\'\\\\n\",\\n', '    \"print(a.join(b))\"\\n', '   ]\\n', '  },\\n', '  {\\n', '   \"cell_type\": \"code\",\\n', '   \"execution_count\": 3,\\n', '   \"id\": \"79ee6bea\",\\n', '   \"metadata\": {},\\n', '   \"outputs\": [\\n', '    {\\n', '     \"name\": \"stdout\",\\n', '     \"output_type\": \"stream\",\\n', '     \"text\": [\\n', '      \"False\\\\n\"\\n', '     ]\\n', '    }\\n', '   ],\\n', '   \"source\": [\\n', '    \"print(b.isupper())\"\\n', '   ]\\n', '  },\\n', '  {\\n', '   \"cell_type\": \"code\",\\n', '   \"execution_count\": 4,\\n', '   \"id\": \"bed17c46\",\\n', '   \"metadata\": {},\\n', '   \"outputs\": [\\n', '    {\\n', '     \"name\": \"stdout\",\\n', '     \"output_type\": \"stream\",\\n', '     \"text\": [\\n', '      \"PROGRAMMING\\\\n\"\\n', '     ]\\n', '    }\\n', '   ],\\n', '   \"source\": [\\n', '    \"print(b.upper())\"\\n', '   ]\\n', '  },\\n', '  {\\n', '   \"cell_type\": \"code\",\\n', '   \"execution_count\": 5,\\n', '   \"id\": \"451f2d8d\",\\n', '   \"metadata\": {},\\n', '   \"outputs\": [\\n', '    {\\n', '     \"name\": \"stdout\",\\n', '     \"output_type\": \"stream\",\\n', '     \"text\": [\\n', '      \"True\\\\n\"\\n', '     ]\\n', '    }\\n', '   ],\\n', '   \"source\": [\\n', '    \"print(b.islower())\"\\n', '   ]\\n', '  },\\n', '  {\\n', '   \"cell_type\": \"code\",\\n', '   \"execution_count\": 8,\\n', '   \"id\": \"2431cbb8\",\\n', '   \"metadata\": {},\\n', '   \"outputs\": [\\n', '    {\\n', '     \"name\": \"stdout\",\\n', '     \"output_type\": \"stream\",\\n', '     \"text\": [\\n', '      \"PROGRAMMING\\\\n\"\\n', '     ]\\n', '    }\\n', '   ],\\n', '   \"source\": [\\n', '    \"if not(b.isupper()):\\\\n\",\\n', '    \"    print(b.upper())\\\\n\"\\n', '   ]\\n', '  },\\n', '  {\\n', '   \"cell_type\": \"code\",\\n', '   \"execution_count\": 9,\\n', '   \"id\": \"2ea459b2\",\\n', '   \"metadata\": {},\\n', '   \"outputs\": [\\n', '    {\\n', '     \"name\": \"stdout\",\\n', '     \"output_type\": \"stream\",\\n', '     \"text\": [\\n', '      \"True\\\\n\"\\n', '     ]\\n', '    }\\n', '   ],\\n', '   \"source\": [\\n', '    \"print(b.isalpha())\"\\n', '   ]\\n', '  },\\n', '  {\\n', '   \"cell_type\": \"code\",\\n', '   \"execution_count\": 10,\\n', '   \"id\": \"33530532\",\\n', '   \"metadata\": {},\\n', '   \"outputs\": [\\n', '    {\\n', '     \"name\": \"stdout\",\\n', '     \"output_type\": \"stream\",\\n', '     \"text\": [\\n', '      \"False\\\\n\"\\n', '     ]\\n', '    }\\n', '   ],\\n', '   \"source\": [\\n', '    \"b=\\'python programming\\'\\\\n\",\\n', '    \"print(b.isalpha())\"\\n', '   ]\\n', '  },\\n', '  {\\n', '   \"cell_type\": \"code\",\\n', '   \"execution_count\": 11,\\n', '   \"id\": \"5400b8ec\",\\n', '   \"metadata\": {},\\n', '   \"outputs\": [\\n', '    {\\n', '     \"name\": \"stdout\",\\n', '     \"output_type\": \"stream\",\\n', '     \"text\": [\\n', '      \"False\\\\n\"\\n', '     ]\\n', '    }\\n', '   ],\\n', '   \"source\": [\\n', '    \"print(b.isalnum())\"\\n', '   ]\\n', '  },\\n', '  {\\n', '   \"cell_type\": \"code\",\\n', '   \"execution_count\": 13,\\n', '   \"id\": \"369bad28\",\\n', '   \"metadata\": {},\\n', '   \"outputs\": [\\n', '    {\\n', '     \"name\": \"stdout\",\\n', '     \"output_type\": \"stream\",\\n', '     \"text\": [\\n', '      \"True\\\\n\"\\n', '     ]\\n', '    }\\n', '   ],\\n', '   \"source\": [\\n', '    \"a=\\'ra123\\'\\\\n\",\\n', '    \"print(a.isalnum())\"\\n', '   ]\\n', '  },\\n', '  {\\n', '   \"cell_type\": \"code\",\\n', '   \"execution_count\": 14,\\n', '   \"id\": \"5f06ce93\",\\n', '   \"metadata\": {},\\n', '   \"outputs\": [\\n', '    {\\n', '     \"name\": \"stdout\",\\n', '     \"output_type\": \"stream\",\\n', '     \"text\": [\\n', '      \"False\\\\n\"\\n', '     ]\\n', '    }\\n', '   ],\\n', '   \"source\": [\\n', '    \"print(b.isdigit())\"\\n', '   ]\\n', '  },\\n', '  {\\n', '   \"cell_type\": \"code\",\\n', '   \"execution_count\": 15,\\n', '   \"id\": \"0d95f6d9\",\\n', '   \"metadata\": {},\\n', '   \"outputs\": [\\n', '    {\\n', '     \"name\": \"stdout\",\\n', '     \"output_type\": \"stream\",\\n', '     \"text\": [\\n', '      \"False\\\\n\"\\n', '     ]\\n', '    }\\n', '   ],\\n', '   \"source\": [\\n', '    \"print(a.isdigit())\"\\n', '   ]\\n', '  },\\n', '  {\\n', '   \"cell_type\": \"code\",\\n', '   \"execution_count\": 16,\\n', '   \"id\": \"c3258f38\",\\n', '   \"metadata\": {},\\n', '   \"outputs\": [\\n', '    {\\n', '     \"name\": \"stdout\",\\n', '     \"output_type\": \"stream\",\\n', '     \"text\": [\\n', '      \"True\\\\n\"\\n', '     ]\\n', '    }\\n', '   ],\\n', '   \"source\": [\\n', '    \"a=\\'123\\'\\\\n\",\\n', '    \"print(a.isdigit())\"\\n', '   ]\\n', '  },\\n', '  {\\n', '   \"cell_type\": \"code\",\\n', '   \"execution_count\": 17,\\n', '   \"id\": \"d8a94f81\",\\n', '   \"metadata\": {},\\n', '   \"outputs\": [\\n', '    {\\n', '     \"name\": \"stdout\",\\n', '     \"output_type\": \"stream\",\\n', '     \"text\": [\\n', '      \"False\\\\n\"\\n', '     ]\\n', '    }\\n', '   ],\\n', '   \"source\": [\\n', '    \"print(b.isspace())\"\\n', '   ]\\n', '  },\\n', '  {\\n', '   \"cell_type\": \"code\",\\n', '   \"execution_count\": 18,\\n', '   \"id\": \"a64f5f7a\",\\n', '   \"metadata\": {},\\n', '   \"outputs\": [\\n', '    {\\n', '     \"name\": \"stdout\",\\n', '     \"output_type\": \"stream\",\\n', '     \"text\": [\\n', '      \"True\\\\n\"\\n', '     ]\\n', '    }\\n', '   ],\\n', '   \"source\": [\\n', '    \"c=\\'     \\'\\\\n\",\\n', '    \"print(c.isspace())\"\\n', '   ]\\n', '  },\\n', '  {\\n', '   \"cell_type\": \"code\",\\n', '   \"execution_count\": 2,\\n', '   \"id\": \"d1b31c6c\",\\n', '   \"metadata\": {},\\n', '   \"outputs\": [\\n', '    {\\n', '     \"name\": \"stdout\",\\n', '     \"output_type\": \"stream\",\\n', '     \"text\": [\\n', '      \"hello\\\\n\",\\n', '      \"python\\\\n\"\\n', '     ]\\n', '    }\\n', '   ],\\n', '   \"source\": [\\n', '    \"print(\\\\\"hello\\\\\\\\npython\\\\\")\"\\n', '   ]\\n', '  },\\n', '  {\\n', '   \"cell_type\": \"code\",\\n', '   \"execution_count\": 3,\\n', '   \"id\": \"2e3897ad\",\\n', '   \"metadata\": {},\\n', '   \"outputs\": [\\n', '    {\\n', '     \"name\": \"stdout\",\\n', '     \"output_type\": \"stream\",\\n', '     \"text\": [\\n', '      \"hello\\\\tpython\\\\n\"\\n', '     ]\\n', '    }\\n', '   ],\\n', '   \"source\": [\\n', '    \"print((\\\\\"hello\\\\\\\\tpython\\\\\"))\"\\n', '   ]\\n', '  },\\n', '  {\\n', '   \"cell_type\": \"code\",\\n', '   \"execution_count\": 7,\\n', '   \"id\": \"1eace221\",\\n', '   \"metadata\": {},\\n', '   \"outputs\": [\\n', '    {\\n', '     \"name\": \"stdout\",\\n', '     \"output_type\": \"stream\",\\n', '     \"text\": [\\n', '      \"True\\\\n\"\\n', '     ]\\n', '    }\\n', '   ],\\n', '   \"source\": [\\n', '    \"a=\\\\\"Rakesh\\\\\"\\\\n\",\\n', '    \"print(a.startswith(\\'R\\'))\"\\n', '   ]\\n', '  },\\n', '  {\\n', '   \"cell_type\": \"code\",\\n', '   \"execution_count\": 9,\\n', '   \"id\": \"43628cff\",\\n', '   \"metadata\": {},\\n', '   \"outputs\": [\\n', '    {\\n', '     \"name\": \"stdout\",\\n', '     \"output_type\": \"stream\",\\n', '     \"text\": [\\n', '      \"False\\\\n\"\\n', '     ]\\n', '    }\\n', '   ],\\n', '   \"source\": [\\n', '    \"print(a.endswith(\\'H\\'))\"\\n', '   ]\\n', '  },\\n', '  {\\n', '   \"cell_type\": \"code\",\\n', '   \"execution_count\": 11,\\n', '   \"id\": \"609f647b\",\\n', '   \"metadata\": {},\\n', '   \"outputs\": [\\n', '    {\\n', '     \"name\": \"stdout\",\\n', '     \"output_type\": \"stream\",\\n', '     \"text\": [\\n', '      \"0\\\\n\"\\n', '     ]\\n', '    }\\n', '   ],\\n', '   \"source\": [\\n', '    \"print(a.find(\\'Ra\\'))\"\\n', '   ]\\n', '  },\\n', '  {\\n', '   \"cell_type\": \"code\",\\n', '   \"execution_count\": 12,\\n', '   \"id\": \"881d6238\",\\n', '   \"metadata\": {},\\n', '   \"outputs\": [\\n', '    {\\n', '     \"name\": \"stdout\",\\n', '     \"output_type\": \"stream\",\\n', '     \"text\": [\\n', '      \"6\\\\n\"\\n', '     ]\\n', '    }\\n', '   ],\\n', '   \"source\": [\\n', '    \"print(len(a))\"\\n', '   ]\\n', '  },\\n', '  {\\n', '   \"cell_type\": \"code\",\\n', '   \"execution_count\": 13,\\n', '   \"id\": \"5a6d4ac8\",\\n', '   \"metadata\": {},\\n', '   \"outputs\": [\\n', '    {\\n', '     \"name\": \"stdout\",\\n', '     \"output_type\": \"stream\",\\n', '     \"text\": [\\n', '      \"R\\\\n\"\\n', '     ]\\n', '    }\\n', '   ],\\n', '   \"source\": [\\n', '    \"print(min(a))\"\\n', '   ]\\n', '  },\\n', '  {\\n', '   \"cell_type\": \"code\",\\n', '   \"execution_count\": 14,\\n', '   \"id\": \"5d4914d9\",\\n', '   \"metadata\": {},\\n', '   \"outputs\": [\\n', '    {\\n', '     \"name\": \"stdout\",\\n', '     \"output_type\": \"stream\",\\n', '     \"text\": [\\n', '      \"s\\\\n\"\\n', '     ]\\n', '    }\\n', '   ],\\n', '   \"source\": [\\n', '    \"print(max(a))\"\\n', '   ]\\n', '  },\\n', '  {\\n', '   \"cell_type\": \"code\",\\n', '   \"execution_count\": 15,\\n', '   \"id\": \"20c0f2c8\",\\n', '   \"metadata\": {},\\n', '   \"outputs\": [\\n', '    {\\n', '     \"name\": \"stdout\",\\n', '     \"output_type\": \"stream\",\\n', '     \"text\": [\\n', '      \"valid\\\\n\",\\n', '      \" \\\\n\",\\n', '      \"y\\\\n\"\\n', '     ]\\n', '    }\\n', '   ],\\n', '   \"source\": [\\n', '    \"x=\\\\\"python is easy programming\\\\\"\\\\n\",\\n', '    \"if (x.startswith(\\'python\\')) and (x.endswith(\\'programming\\')):\\\\n\",\\n', '    \"    print(\\\\\"valid\\\\\")\\\\n\",\\n', '    \"else:\\\\n\",\\n', '    \"    print(\\\\\"invalid\\\\\")\\\\n\",\\n', '    \"print(min(x))\\\\n\",\\n', '    \"print(max(x))\\\\n\",\\n', '    \"    \"\\n', '   ]\\n', '  },\\n', '  {\\n', '   \"cell_type\": \"code\",\\n', '   \"execution_count\": 18,\\n', '   \"id\": \"04f2cc8a\",\\n', '   \"metadata\": {},\\n', '   \"outputs\": [\\n', '    {\\n', '     \"name\": \"stdout\",\\n', '     \"output_type\": \"stream\",\\n', '     \"text\": [\\n', '      \"!\\\\\"#$%&\\'()*+,-./:;<=>?@[\\\\\\\\]^_`{|}~\\\\n\",\\n', '      \"0123456789\\\\n\",\\n', '      \"0123456789abcdefghijklmnopqrstuvwxyzABCDEFGHIJKLMNOPQRSTUVWXYZ!\\\\\"#$%&\\'()*+,-./:;<=>?@[\\\\\\\\]^_`{|}~ \\\\t\\\\n\",\\n', '      \"\\\\r\",\\n', '      \"\\\\u000b\",\\n', '      \"\\\\f\",\\n', '      \"\\\\n\"\\n', '     ]\\n', '    }\\n', '   ],\\n', '   \"source\": [\\n', '    \"import string\\\\n\",\\n', '    \"print(string.punctuation)\\\\n\",\\n', '    \"print(string.digits)\\\\n\",\\n', '    \"print(string.printable)\"\\n', '   ]\\n', '  },\\n', '  {\\n', '   \"cell_type\": \"code\",\\n', '   \"execution_count\": 19,\\n', '   \"id\": \"994a2050\",\\n', '   \"metadata\": {},\\n', '   \"outputs\": [\\n', '    {\\n', '     \"name\": \"stdout\",\\n', '     \"output_type\": \"stream\",\\n', '     \"text\": [\\n', '      \"String after removing all Punctuation\\'s:  List  \\\\n\",\\n', '      \" tuple  \\\\n\",\\n', '      \" Dictionary  \\\\n\",\\n', '      \" Comment  \\\\n\",\\n', '      \" Multiply  \\\\n\",\\n', '      \" not  \\\\n\",\\n', '      \" and  \\\\n\",\\n', '      \" or  \\\\n\",\\n', '      \" format specifier  \\\\n\",\\n', '      \" String           \\\\n\"\\n', '     ]\\n', '    }\\n', '   ],\\n', '   \"source\": [\\n', '    \"import string\\\\n\",\\n', '    \"punctuations = string.punctuation\\\\n\",\\n', '    \"result = \\\\\" \\\\\"\\\\n\",\\n', '    \"str = \\\\\"List - []\\\\\\\\n tuple - ()\\\\\\\\n Dictionary - {}\\\\\\\\n Comment - #\\\\\\\\n Multiply - *\\\\\\\\n not - !\\\\\\\\n and - &\\\\\\\\n or - |\\\\\\\\n format specifier - %\\\\\\\\n String - \\\\\" \\\\\" $ @ ; : \\' / + = \\\\\"  \\\\n\",\\n', '    \"for i in str:\\\\n\",\\n', '    \"\\\\tif i not in punctuations:\\\\n\",\\n', '    \"\\\\t\\\\tresult = result + i\\\\n\",\\n', '    \"print(\\\\\"String after removing all Punctuation\\'s:\\\\\", result)\"\\n', '   ]\\n', '  },\\n', '  {\\n', '   \"cell_type\": \"code\",\\n', '   \"execution_count\": 20,\\n', '   \"id\": \"176b1f4d\",\\n', '   \"metadata\": {},\\n', '   \"outputs\": [\\n', '    {\\n', '     \"name\": \"stdout\",\\n', '     \"output_type\": \"stream\",\\n', '     \"text\": [\\n', '      \"141\\\\n\"\\n', '     ]\\n', '    }\\n', '   ],\\n', '   \"source\": [\\n', '    \"print(len(str))\"\\n', '   ]\\n', '  },\\n', '  {\\n', '   \"cell_type\": \"code\",\\n', '   \"execution_count\": 3,\\n', '   \"id\": \"0eb379bd\",\\n', '   \"metadata\": {},\\n', '   \"outputs\": [\\n', '    {\\n', '     \"name\": \"stdout\",\\n', '     \"output_type\": \"stream\",\\n', '     \"text\": [\\n', '      \"hello python!\\\\n\",\\n', '      \"h 2\\\\n\",\\n', '      \"e 1\\\\n\",\\n', '      \"l 2\\\\n\",\\n', '      \"l 2\\\\n\",\\n', '      \"o 2\\\\n\",\\n', '      \"  1\\\\n\",\\n', '      \"p 1\\\\n\",\\n', '      \"y 1\\\\n\",\\n', '      \"t 1\\\\n\",\\n', '      \"h 2\\\\n\",\\n', '      \"o 2\\\\n\",\\n', '      \"n 1\\\\n\",\\n', '      \"! 1\\\\n\",\\n', '      \"[\\' \\', \\'!\\', \\'e\\', \\'h\\', \\'h\\', \\'l\\', \\'l\\', \\'n\\', \\'o\\', \\'o\\', \\'p\\', \\'t\\', \\'y\\']\\\\n\"\\n', '     ]\\n', '    }\\n', '   ],\\n', '   \"source\": [\\n', '    \"a=(input())\\\\n\",\\n', '    \"for i in a:\\\\n\",\\n', '    \"    x=0\\\\n\",\\n', '    \"    for j in a:\\\\n\",\\n', '    \"        if i==j:\\\\n\",\\n', '    \"            x=x+1\\\\n\",\\n', '    \"    print(i,x)\\\\n\",\\n', '    \"    \\\\n\",\\n', '    \"        \\\\n\",\\n', '    \"    \\\\n\",\\n', '    \"print(sorted(list(a)))    \\\\n\"\\n', '   ]\\n', '  },\\n', '  {\\n', '   \"cell_type\": \"code\",\\n', '   \"execution_count\": 7,\\n', '   \"id\": \"771b9da3\",\\n', '   \"metadata\": {},\\n', '   \"outputs\": [\\n', '    {\\n', '     \"name\": \"stdout\",\\n', '     \"output_type\": \"stream\",\\n', '     \"text\": [\\n', '      \"[]\\\\n\"\\n', '     ]\\n', '    }\\n', '   ],\\n', '   \"source\": [\\n', '    \"b=[ ]\\\\n\",\\n', '    \"print(b)\"\\n', '   ]\\n', '  },\\n', '  {\\n', '   \"cell_type\": \"code\",\\n', '   \"execution_count\": 10,\\n', '   \"id\": \"304bb440\",\\n', '   \"metadata\": {},\\n', '   \"outputs\": [\\n', '    {\\n', '     \"name\": \"stdout\",\\n', '     \"output_type\": \"stream\",\\n', '     \"text\": [\\n', '      \"[5, 6, 7, 8, 9, 0]\\\\n\"\\n', '     ]\\n', '    }\\n', '   ],\\n', '   \"source\": [\\n', '    \"L1=[1,2,3,4]\\\\n\",\\n', '    \"b=L1[4:10]\\\\n\",\\n', '    \"print(b)\"\\n', '   ]\\n', '  },\\n', '  {\\n', '   \"cell_type\": \"code\",\\n', '   \"execution_count\": 12,\\n', '   \"id\": \"a0ca829c\",\\n', '   \"metadata\": {},\\n', '   \"outputs\": [\\n', '    {\\n', '     \"name\": \"stdout\",\\n', '     \"output_type\": \"stream\",\\n', '     \"text\": [\\n', '      \"[1, 2, 3, 4, 5, 6, 7, 8, 9, 0, 5, 6, 7, 8, 9]\\\\n\"\\n', '     ]\\n', '    }\\n', '   ],\\n', '   \"source\": [\\n', '    \"L2=[5,6,7,8,9]\\\\n\",\\n', '    \"print(L1+L2)\"\\n', '   ]\\n', '  },\\n', '  {\\n', '   \"cell_type\": \"code\",\\n', '   \"execution_count\": 16,\\n', '   \"id\": \"1fe96cb4\",\\n', '   \"metadata\": {},\\n', '   \"outputs\": [\\n', '    {\\n', '     \"name\": \"stdout\",\\n', '     \"output_type\": \"stream\",\\n', '     \"text\": [\\n', '      \"[1, 2, 3]\\\\n\"\\n', '     ]\\n', '    }\\n', '   ],\\n', '   \"source\": [\\n', '    \"a=[ 5,6,7  ]\\\\n\",\\n', '    \"a[0]=1\\\\n\",\\n', '    \"a[1]=2\\\\n\",\\n', '    \"a[2]=3\\\\n\",\\n', '    \"print(a)\"\\n', '   ]\\n', '  },\\n', '  {\\n', '   \"cell_type\": \"code\",\\n', '   \"execution_count\": 17,\\n', '   \"id\": \"64e1eee9\",\\n', '   \"metadata\": {},\\n', '   \"outputs\": [\\n', '    {\\n', '     \"name\": \"stdout\",\\n', '     \"output_type\": \"stream\",\\n', '     \"text\": [\\n', '      \"True\\\\n\"\\n', '     ]\\n', '    }\\n', '   ],\\n', '   \"source\": [\\n', '    \"print(1 in L1)\"\\n', '   ]\\n', '  },\\n', '  {\\n', '   \"cell_type\": \"code\",\\n', '   \"execution_count\": 20,\\n', '   \"id\": \"ac61f174\",\\n', '   \"metadata\": {},\\n', '   \"outputs\": [\\n', '    {\\n', '     \"name\": \"stdout\",\\n', '     \"output_type\": \"stream\",\\n', '     \"text\": [\\n', '      \"[1, 2, 3, 8, [8], 8]\\\\n\"\\n', '     ]\\n', '    }\\n', '   ],\\n', '   \"source\": [\\n', '    \"a.append(8)\\\\n\",\\n', '    \"print(a)\"\\n', '   ]\\n', '  },\\n', '  {\\n', '   \"cell_type\": \"code\",\\n', '   \"execution_count\": 25,\\n', '   \"id\": \"341538ee\",\\n', '   \"metadata\": {},\\n', '   \"outputs\": [\\n', '    {\\n', '     \"name\": \"stdout\",\\n', '     \"output_type\": \"stream\",\\n', '     \"text\": [\\n', '      \"[\\'c\\', \\'f\\', 3]\\\\n\"\\n', '     ]\\n', '    }\\n', '   ],\\n', '   \"source\": [\\n', '    \"x=[\\'a\\',\\'b\\',\\'c\\',\\'d\\',\\'e\\',\\'f\\',1,2,3,4,5,6,7,8]\\\\n\",\\n', '    \"print(x[2:11:3])\"\\n', '   ]\\n', '  },\\n', '  {\\n', '   \"cell_type\": \"code\",\\n', '   \"execution_count\": 1,\\n', '   \"id\": \"7b2e5bf3\",\\n', '   \"metadata\": {},\\n', '   \"outputs\": [\\n', '    {\\n', '     \"name\": \"stdout\",\\n', '     \"output_type\": \"stream\",\\n', '     \"text\": [\\n', '      \"[1, 100, 100, 100, 2, 3, 4, 5, 6, 7, 8]\\\\n\"\\n', '     ]\\n', '    }\\n', '   ],\\n', '   \"source\": [\\n', '    \"n=[1,2,3,4,5,6,7,8]\\\\n\",\\n', '    \"n[1:1]=[100,100,100]\\\\n\",\\n', '    \"print(n)\"\\n', '   ]\\n', '  },\\n', '  {\\n', '   \"cell_type\": \"code\",\\n', '   \"execution_count\": 3,\\n', '   \"id\": \"5955a02c\",\\n', '   \"metadata\": {},\\n', '   \"outputs\": [\\n', '    {\\n', '     \"name\": \"stdout\",\\n', '     \"output_type\": \"stream\",\\n', '     \"text\": [\\n', '      \"[5, 6, 7, 100, 100, 2, 3, 4, 5, 6, 7, 8]\\\\n\"\\n', '     ]\\n', '    }\\n', '   ],\\n', '   \"source\": [\\n', '    \"n[0:2]=[5,6,7]\\\\n\",\\n', '    \"print(n)\"\\n', '   ]\\n', '  },\\n', '  {\\n', '   \"cell_type\": \"code\",\\n', '   \"execution_count\": 9,\\n', '   \"id\": \"33dd009d\",\\n', '   \"metadata\": {},\\n', '   \"outputs\": [\\n', '    {\\n', '     \"name\": \"stdout\",\\n', '     \"output_type\": \"stream\",\\n', '     \"text\": [\\n', '      \"[5, 6, 2, 3, 4, 5, 6, 7, 8]\\\\n\"\\n', '     ]\\n', '    }\\n', '   ],\\n', '   \"source\": [\\n', '    \"n[2:2]=[ ]\\\\n\",\\n', '    \"print(n)\"\\n', '   ]\\n', '  },\\n', '  {\\n', '   \"cell_type\": \"code\",\\n', '   \"execution_count\": 9,\\n', '   \"id\": \"61fbab93\",\\n', '   \"metadata\": {},\\n', '   \"outputs\": [\\n', '    {\\n', '     \"name\": \"stdout\",\\n', '     \"output_type\": \"stream\",\\n', '     \"text\": [\\n', '      \"5\\\\n\",\\n', '      \"1\\\\n\",\\n', '      \"2\\\\n\",\\n', '      \"3\\\\n\",\\n', '      \"4\\\\n\",\\n', '      \"5\\\\n\",\\n', '      \"[1, 2, 3, 4, 5]\\\\n\",\\n', '      \"1\\\\n\"\\n', '     ]\\n', '    }\\n', '   ],\\n', '   \"source\": [\\n', '    \"b=[]\\\\n\",\\n', '    \"a=int(input(\\\\\"\\\\\"))\\\\n\",\\n', '    \"for i in range(a):\\\\n\",\\n', '    \"    x=int(input())\\\\n\",\\n', '    \"    b.append(x)\\\\n\",\\n', '    \"print(b)\\\\n\",\\n', '    \"if b[1]>b[-1]:\\\\n\",\\n', '    \"    print(max(b))\\\\n\",\\n', '    \"else:\\\\n\",\\n', '    \"    print(min(b))\\\\n\",\\n', '    \"    \\\\n\",\\n', '    \"    \\\\n\",\\n', '    \"    \\\\n\",\\n', '    \"    \\\\n\",\\n', '    \"\\\\n\"\\n', '   ]\\n', '  },\\n', '  {\\n', '   \"cell_type\": \"code\",\\n', '   \"execution_count\": 10,\\n', '   \"id\": \"36e5054d\",\\n', '   \"metadata\": {},\\n', '   \"outputs\": [\\n', '    {\\n', '     \"name\": \"stdout\",\\n', '     \"output_type\": \"stream\",\\n', '     \"text\": [\\n', '      \"5\\\\n\"\\n', '     ]\\n', '    }\\n', '   ],\\n', '   \"source\": [\\n', '    \"print(len(b))\"\\n', '   ]\\n', '  },\\n', '  {\\n', '   \"cell_type\": \"code\",\\n', '   \"execution_count\": 11,\\n', '   \"id\": \"439fb109\",\\n', '   \"metadata\": {},\\n', '   \"outputs\": [\\n', '    {\\n', '     \"name\": \"stdout\",\\n', '     \"output_type\": \"stream\",\\n', '     \"text\": [\\n', '      \"15\\\\n\"\\n', '     ]\\n', '    }\\n', '   ],\\n', '   \"source\": [\\n', '    \"print(sum(b))\\\\n\"\\n', '   ]\\n', '  },\\n', '  {\\n', '   \"cell_type\": \"code\",\\n', '   \"execution_count\": 12,\\n', '   \"id\": \"a76aaad0\",\\n', '   \"metadata\": {},\\n', '   \"outputs\": [\\n', '    {\\n', '     \"name\": \"stdout\",\\n', '     \"output_type\": \"stream\",\\n', '     \"text\": [\\n', '      \"[1, 2, 3, 4, 5]\\\\n\"\\n', '     ]\\n', '    }\\n', '   ],\\n', '   \"source\": [\\n', '    \"print(sorted(b))\"\\n', '   ]\\n', '  },\\n', '  {\\n', '   \"cell_type\": \"code\",\\n', '   \"execution_count\": 13,\\n', '   \"id\": \"55dfe2be\",\\n', '   \"metadata\": {},\\n', '   \"outputs\": [\\n', '    {\\n', '     \"name\": \"stdout\",\\n', '     \"output_type\": \"stream\",\\n', '     \"text\": [\\n', '      \"5\\\\n\",\\n', '      \"1\\\\n\"\\n', '     ]\\n', '    }\\n', '   ],\\n', '   \"source\": [\\n', '    \"print(max(b))\\\\n\",\\n', '    \"print(min(b))\"\\n', '   ]\\n', '  },\\n', '  {\\n', '   \"cell_type\": \"code\",\\n', '   \"execution_count\": 14,\\n', '   \"id\": \"2077070d\",\\n', '   \"metadata\": {},\\n', '   \"outputs\": [\\n', '    {\\n', '     \"name\": \"stdout\",\\n', '     \"output_type\": \"stream\",\\n', '     \"text\": [\\n', '      \"[\\'adhi\\', \\'rakesh\\']\\\\n\"\\n', '     ]\\n', '    }\\n', '   ],\\n', '   \"source\": [\\n', '    \"a=[\\'rakesh\\',\\'adhi\\']\\\\n\",\\n', '    \"print(sorted(a))\"\\n', '   ]\\n', '  },\\n', '  {\\n', '   \"cell_type\": \"code\",\\n', '   \"execution_count\": 15,\\n', '   \"id\": \"5533f51c\",\\n', '   \"metadata\": {},\\n', '   \"outputs\": [\\n', '    {\\n', '     \"name\": \"stdout\",\\n', '     \"output_type\": \"stream\",\\n', '     \"text\": [\\n', '      \"[\\'r\\', \\'a\\', \\'k\\', \\'e\\', \\'s\\', \\'h\\']\\\\n\"\\n', '     ]\\n', '    }\\n', '   ],\\n', '   \"source\": [\\n', '    \"b=\\'rakesh\\'\\\\n\",\\n', '    \"a=list(b)\\\\n\",\\n', '    \"print(a)\"\\n', '   ]\\n', '  },\\n', '  {\\n', '   \"cell_type\": \"code\",\\n', '   \"execution_count\": 17,\\n', '   \"id\": \"0ca8af31\",\\n', '   \"metadata\": {},\\n', '   \"outputs\": [\\n', '    {\\n', '     \"name\": \"stdout\",\\n', '     \"output_type\": \"stream\",\\n', '     \"text\": [\\n', '      \"[(0, \\'r\\'), (1, \\'a\\'), (2, \\'k\\'), (3, \\'e\\'), (4, \\'s\\'), (5, \\'h\\')]\\\\n\"\\n', '     ]\\n', '    }\\n', '   ],\\n', '   \"source\": [\\n', '    \"print(list(enumerate(b)))\"\\n', '   ]\\n', '  },\\n', '  {\\n', '   \"cell_type\": \"code\",\\n', '   \"execution_count\": 18,\\n', '   \"id\": \"c9700829\",\\n', '   \"metadata\": {},\\n', '   \"outputs\": [\\n', '    {\\n', '     \"name\": \"stdout\",\\n', '     \"output_type\": \"stream\",\\n', '     \"text\": [\\n', '      \"7\\\\n\"\\n', '     ]\\n', '    }\\n', '   ],\\n', '   \"source\": [\\n', '    \"n=[1,2,3,4,5,6,7,8]\\\\n\",\\n', '    \"print(max(n)-min(n))\"\\n', '   ]\\n', '  },\\n', '  {\\n', '   \"cell_type\": \"code\",\\n', '   \"execution_count\": 19,\\n', '   \"id\": \"b89260f3\",\\n', '   \"metadata\": {},\\n', '   \"outputs\": [\\n', '    {\\n', '     \"name\": \"stdout\",\\n', '     \"output_type\": \"stream\",\\n', '     \"text\": [\\n', '      \"[1, 2, 3, 4, 5, \\'a\\', \\'b\\', \\'r\\']\\\\n\"\\n', '     ]\\n', '    }\\n', '   ],\\n', '   \"source\": [\\n', '    \"a=[1,2,3,4,5,6,\\'a\\',\\'b\\',\\'r\\']\\\\n\",\\n', '    \"a.remove(6)\\\\n\",\\n', '    \"print(a)\\\\n\",\\n', '    \"   \"\\n', '   ]\\n', '  },\\n', '  {\\n', '   \"cell_type\": \"code\",\\n', '   \"execution_count\": 20,\\n', '   \"id\": \"7508298d\",\\n', '   \"metadata\": {},\\n', '   \"outputs\": [\\n', '    {\\n', '     \"name\": \"stdout\",\\n', '     \"output_type\": \"stream\",\\n', '     \"text\": [\\n', '      \"[1, 2, 3, 9, 4, 5, \\'a\\', \\'b\\', \\'r\\']\\\\n\"\\n', '     ]\\n', '    }\\n', '   ],\\n', '   \"source\": [\\n', '    \"a.insert(3,9)\\\\n\",\\n', '    \"print(a)\"\\n', '   ]\\n', '  },\\n', '  {\\n', '   \"cell_type\": \"code\",\\n', '   \"execution_count\": 22,\\n', '   \"id\": \"6132a01b\",\\n', '   \"metadata\": {},\\n', '   \"outputs\": [\\n', '    {\\n', '     \"name\": \"stdout\",\\n', '     \"output_type\": \"stream\",\\n', '     \"text\": [\\n', '      \"[1, 2, 3, 9, 4, \\'a\\', \\'b\\']\\\\n\"\\n', '     ]\\n', '    }\\n', '   ],\\n', '   \"source\": [\\n', '    \"a.pop()\\\\n\",\\n', '    \"print(a)\"\\n', '   ]\\n', '  },\\n', '  {\\n', '   \"cell_type\": \"code\",\\n', '   \"execution_count\": 23,\\n', '   \"id\": \"efa36571\",\\n', '   \"metadata\": {},\\n', '   \"outputs\": [\\n', '    {\\n', '     \"name\": \"stdout\",\\n', '     \"output_type\": \"stream\",\\n', '     \"text\": [\\n', '      \"[1, 2, 3, 9, 4, \\'a\\', \\'b\\']\\\\n\"\\n', '     ]\\n', '    }\\n', '   ],\\n', '   \"source\": [\\n', '    \"a.count(3)\\\\n\",\\n', '    \"print(a)\"\\n', '   ]\\n', '  },\\n', '  {\\n', '   \"cell_type\": \"code\",\\n', '   \"execution_count\": 3,\\n', '   \"id\": \"b5790ba4\",\\n', '   \"metadata\": {},\\n', '   \"outputs\": [\\n', '    {\\n', '     \"name\": \"stdout\",\\n', '     \"output_type\": \"stream\",\\n', '     \"text\": [\\n', '      \"[5, 4, 3, 2, 1]\\\\n\"\\n', '     ]\\n', '    }\\n', '   ],\\n', '   \"source\": [\\n', '    \"a=[1,2,3,4,5]\\\\n\",\\n', '    \"a.reverse()\\\\n\",\\n', '    \"print(a)\"\\n', '   ]\\n', '  },\\n', '  {\\n', '   \"cell_type\": \"code\",\\n', '   \"execution_count\": 11,\\n', '   \"id\": \"9fcbd21a\",\\n', '   \"metadata\": {},\\n', '   \"outputs\": [\\n', '    {\\n', '     \"name\": \"stdout\",\\n', '     \"output_type\": \"stream\",\\n', '     \"text\": [\\n', '      \"3\\\\n\"\\n', '     ]\\n', '    },\\n', '    {\\n', '     \"ename\": \"IndexError\",\\n', '     \"evalue\": \"list index out of range\",\\n', '     \"output_type\": \"error\",\\n', '     \"traceback\": [\\n', '      \"\\\\u001b[0;31m---------------------------------------------------------------------------\\\\u001b[0m\",\\n', '      \"\\\\u001b[0;31mIndexError\\\\u001b[0m                                Traceback (most recent call last)\",\\n', '      \"Input \\\\u001b[0;32mIn [11]\\\\u001b[0m, in \\\\u001b[0;36m<cell line: 2>\\\\u001b[0;34m()\\\\u001b[0m\\\\n\\\\u001b[1;32m      1\\\\u001b[0m a\\\\u001b[38;5;241m=\\\\u001b[39m[\\\\u001b[38;5;241m1\\\\u001b[39m,\\\\u001b[38;5;241m2\\\\u001b[39m,\\\\u001b[38;5;241m3\\\\u001b[39m,\\\\u001b[38;5;241m3\\\\u001b[39m,\\\\u001b[38;5;241m4\\\\u001b[39m,\\\\u001b[38;5;241m5\\\\u001b[39m]\\\\n\\\\u001b[1;32m      2\\\\u001b[0m \\\\u001b[38;5;28;01mfor\\\\u001b[39;00m i \\\\u001b[38;5;129;01min\\\\u001b[39;00m \\\\u001b[38;5;28mrange\\\\u001b[39m(\\\\u001b[38;5;241m0\\\\u001b[39m,\\\\u001b[38;5;28mlen\\\\u001b[39m(a)):\\\\n\\\\u001b[0;32m----> 3\\\\u001b[0m     \\\\u001b[38;5;28;01mif\\\\u001b[39;00m a[i]\\\\u001b[38;5;241m==\\\\u001b[39m\\\\u001b[43ma\\\\u001b[49m\\\\u001b[43m[\\\\u001b[49m\\\\u001b[43mi\\\\u001b[49m\\\\u001b[38;5;241;43m+\\\\u001b[39;49m\\\\u001b[38;5;241;43m1\\\\u001b[39;49m\\\\u001b[43m]\\\\u001b[49m:\\\\n\\\\u001b[1;32m      4\\\\u001b[0m         \\\\u001b[38;5;28mprint\\\\u001b[39m(a[i])\\\\n\",\\n', '      \"\\\\u001b[0;31mIndexError\\\\u001b[0m: list index out of range\"\\n', '     ]\\n', '    }\\n', '   ],\\n', '   \"source\": [\\n', '    \"a=[1,2,3,3,4,5]\\\\n\",\\n', '    \"for i in range(0,len(a)):\\\\n\",\\n', '    \"    if a[i]==a[i+1]:\\\\n\",\\n', '    \"        print(a[i])\\\\n\",\\n', '    \"        \"\\n', '   ]\\n', '  },\\n', '  {\\n', '   \"cell_type\": \"code\",\\n', '   \"execution_count\": 15,\\n', '   \"id\": \"75170b26\",\\n', '   \"metadata\": {},\\n', '   \"outputs\": [\\n', '    {\\n', '     \"name\": \"stdout\",\\n', '     \"output_type\": \"stream\",\\n', '     \"text\": [\\n', '      \"hello rakesh\\\\n\",\\n', '      \"h : <built-in method count of str object at 0x7fa3e0dea030>\\\\n\",\\n', '      \"e : <built-in method count of str object at 0x7fa3e0dea030>\\\\n\",\\n', '      \"l : <built-in method count of str object at 0x7fa3e0dea030>\\\\n\",\\n', '      \"l : <built-in method count of str object at 0x7fa3e0dea030>\\\\n\",\\n', '      \"o : <built-in method count of str object at 0x7fa3e0dea030>\\\\n\",\\n', '      \"  : <built-in method count of str object at 0x7fa3e0dea030>\\\\n\",\\n', '      \"r : <built-in method count of str object at 0x7fa3e0dea030>\\\\n\",\\n', '      \"a : <built-in method count of str object at 0x7fa3e0dea030>\\\\n\",\\n', '      \"k : <built-in method count of str object at 0x7fa3e0dea030>\\\\n\",\\n', '      \"e : <built-in method count of str object at 0x7fa3e0dea030>\\\\n\",\\n', '      \"s : <built-in method count of str object at 0x7fa3e0dea030>\\\\n\",\\n', '      \"h : <built-in method count of str object at 0x7fa3e0dea030>\\\\n\"\\n', '     ]\\n', '    }\\n', '   ],\\n', '   \"source\": [\\n', '    \"a=input()\\\\n\",\\n', '    \"for i in range(0,len(a)):\\\\n\",\\n', '    \"    n=a.count\\\\n\",\\n', '    \"    print(a[i],\\\\\":\\\\\",n)\"\\n', '   ]\\n', '  },\\n', '  {\\n', '   \"cell_type\": \"code\",\\n', '   \"execution_count\": 16,\\n', '   \"id\": \"69d46b08\",\\n', '   \"metadata\": {},\\n', '   \"outputs\": [\\n', '    {\\n', '     \"name\": \"stdout\",\\n', '     \"output_type\": \"stream\",\\n', '     \"text\": [\\n', '      \"hello python\\\\n\",\\n', '      \"[\\'hello python\\']\\\\n\",\\n', '      \"h 2\\\\n\",\\n', '      \"e 1\\\\n\",\\n', '      \"l 2\\\\n\",\\n', '      \"l 2\\\\n\",\\n', '      \"o 2\\\\n\",\\n', '      \"  1\\\\n\",\\n', '      \"p 1\\\\n\",\\n', '      \"y 1\\\\n\",\\n', '      \"t 1\\\\n\",\\n', '      \"h 2\\\\n\",\\n', '      \"o 2\\\\n\",\\n', '      \"n 1\\\\n\",\\n', '      \"[\\' \\', \\'e\\', \\'h\\', \\'h\\', \\'l\\', \\'l\\', \\'n\\', \\'o\\', \\'o\\', \\'p\\', \\'t\\', \\'y\\']\\\\n\"\\n', '     ]\\n', '    }\\n', '   ],\\n', '   \"source\": [\\n', '    \"lst=[]\\\\n\",\\n', '    \"a=(input())\\\\n\",\\n', '    \"lst.append(a)\\\\n\",\\n', '    \"print(lst)\\\\n\",\\n', '    \"for i in a:\\\\n\",\\n', '    \"    x=0\\\\n\",\\n', '    \"    for j in a:\\\\n\",\\n', '    \"        if i==j:\\\\n\",\\n', '    \"            x=x+1\\\\n\",\\n', '    \"    print(i,x)\\\\n\",\\n', '    \"    \\\\n\",\\n', '    \"        \\\\n\",\\n', '    \"    \\\\n\",\\n', '    \"print(sorted(list(a)))    \\\\n\"\\n', '   ]\\n', '  },\\n', '  {\\n', '   \"cell_type\": \"code\",\\n', '   \"execution_count\": 7,\\n', '   \"id\": \"63f9d409\",\\n', '   \"metadata\": {},\\n', '   \"outputs\": [\\n', '    {\\n', '     \"name\": \"stdout\",\\n', '     \"output_type\": \"stream\",\\n', '     \"text\": [\\n', '      \"given tuple:  (\\'i\\', \\'love\\', \\'python\\')\\\\n\",\\n', '      \"[\\'i\\', \\'love\\', \\'python\\']\\\\n\",\\n', '      \"[\\'i\\', \\'practice\\', \\'python\\']\\\\n\",\\n', '      \"(\\'i\\', \\'practice\\', \\'python\\')\\\\n\"\\n', '     ]\\n', '    }\\n', '   ],\\n', '   \"source\": [\\n', '    \"a=(\\'i\\',\\'love\\',\\'python\\')\\\\n\",\\n', '    \"print(\\\\\"given tuple: \\\\\",a)\\\\n\",\\n', '    \"b=list(a)\\\\n\",\\n', '    \"print(b)\\\\n\",\\n', '    \"b[1]=\\'practice\\'\\\\n\",\\n', '    \"print(b)\\\\n\",\\n', '    \"c=tuple(b)\\\\n\",\\n', '    \"print(c)\\\\n\"\\n', '   ]\\n', '  },\\n', '  {\\n', '   \"cell_type\": \"code\",\\n', '   \"execution_count\": 10,\\n', '   \"id\": \"829eba48\",\\n', '   \"metadata\": {},\\n', '   \"outputs\": [\\n', '    {\\n', '     \"name\": \"stdout\",\\n', '     \"output_type\": \"stream\",\\n', '     \"text\": [\\n', '      \"6\\\\n\"\\n', '     ]\\n', '    }\\n', '   ],\\n', '   \"source\": [\\n', '    \"x=(91,2,2,3,4,5)\\\\n\",\\n', '    \"print(len(x))\"\\n', '   ]\\n', '  },\\n', '  {\\n', '   \"cell_type\": \"code\",\\n', '   \"execution_count\": 11,\\n', '   \"id\": \"3ccd0d06\",\\n', '   \"metadata\": {},\\n', '   \"outputs\": [\\n', '    {\\n', '     \"name\": \"stdout\",\\n', '     \"output_type\": \"stream\",\\n', '     \"text\": [\\n', '      \"2\\\\n\"\\n', '     ]\\n', '    }\\n', '   ],\\n', '   \"source\": [\\n', '    \"print(x.count(2))\"\\n', '   ]\\n', '  },\\n', '  {\\n', '   \"cell_type\": \"code\",\\n', '   \"execution_count\": 12,\\n', '   \"id\": \"7b535f13\",\\n', '   \"metadata\": {},\\n', '   \"outputs\": [\\n', '    {\\n', '     \"name\": \"stdout\",\\n', '     \"output_type\": \"stream\",\\n', '     \"text\": [\\n', '      \"enter element that has to be counted: 2\\\\n\",\\n', '      \"2\\\\n\"\\n', '     ]\\n', '    }\\n', '   ],\\n', '   \"source\": [\\n', '    \"a=(1,2,2,3,4,4,4,5,6,7,8)\\\\n\",\\n', '    \"b=int(input(\\\\\"enter element that has to be counted: \\\\\"))\\\\n\",\\n', '    \"print(b)\"\\n', '   ]\\n', '  },\\n', '  {\\n', '   \"cell_type\": \"code\",\\n', '   \"execution_count\": 14,\\n', '   \"id\": \"552be7f8\",\\n', '   \"metadata\": {},\\n', '   \"outputs\": [\\n', '    {\\n', '     \"name\": \"stdout\",\\n', '     \"output_type\": \"stream\",\\n', '     \"text\": [\\n', '      \"tuple: (1, 2, 34, 5, 6, 78, 34, 67, 27)\\\\n\",\\n', '      \"sum: 254\\\\n\"\\n', '     ]\\n', '    }\\n', '   ],\\n', '   \"source\": [\\n', '    \"a=(1,2,34,5,6,78,34,67,27)\\\\n\",\\n', '    \"print(\\\\\"tuple:\\\\\",a)\\\\n\",\\n', '    \"print(\\\\\"sum:\\\\\",sum(a))\"\\n', '   ]\\n', '  },\\n', '  {\\n', '   \"cell_type\": \"code\",\\n', '   \"execution_count\": 15,\\n', '   \"id\": \"69c14a9a\",\\n', '   \"metadata\": {},\\n', '   \"outputs\": [\\n', '    {\\n', '     \"name\": \"stdout\",\\n', '     \"output_type\": \"stream\",\\n', '     \"text\": [\\n', '      \"max: 78\\\\n\"\\n', '     ]\\n', '    }\\n', '   ],\\n', '   \"source\": [\\n', '    \"print(\\\\\"max:\\\\\",max(a))\"\\n', '   ]\\n', '  },\\n', '  {\\n', '   \"cell_type\": \"code\",\\n', '   \"execution_count\": 16,\\n', '   \"id\": \"447fa56e\",\\n', '   \"metadata\": {},\\n', '   \"outputs\": [\\n', '    {\\n', '     \"name\": \"stdout\",\\n', '     \"output_type\": \"stream\",\\n', '     \"text\": [\\n', '      \"True\\\\n\"\\n', '     ]\\n', '    }\\n', '   ],\\n', '   \"source\": [\\n', '    \"print(all(a))\"\\n', '   ]\\n', '  },\\n', '  {\\n', '   \"cell_type\": \"code\",\\n', '   \"execution_count\": 17,\\n', '   \"id\": \"e116add0\",\\n', '   \"metadata\": {},\\n', '   \"outputs\": [\\n', '    {\\n', '     \"name\": \"stdout\",\\n', '     \"output_type\": \"stream\",\\n', '     \"text\": [\\n', '      \"True\\\\n\"\\n', '     ]\\n', '    }\\n', '   ],\\n', '   \"source\": [\\n', '    \"print(any(a))\"\\n', '   ]\\n', '  },\\n', '  {\\n', '   \"cell_type\": \"code\",\\n', '   \"execution_count\": 29,\\n', '   \"id\": \"6d3a5a55\",\\n', '   \"metadata\": {},\\n', '   \"outputs\": [\\n', '    {\\n', '     \"name\": \"stdout\",\\n', '     \"output_type\": \"stream\",\\n', '     \"text\": [\\n', '      \"{\\'id\\': 1, \\'name\\': \\'xyz\\', \\'sec\\': \\'k22kp\\', \\'fee\\': 120000}\\\\n\",\\n', '      \"{\\'id\\': 2, \\'name\\': \\'pqr\\', \\'sec\\': \\'k0c24\\', \\'fee\\': 120000}\\\\n\"\\n', '     ]\\n', '    }\\n', '   ],\\n', '   \"source\": [\\n', '    \"student1={\\'id\\':1,\\'name\\':\\'xyz\\',\\'sec\\': \\'k22kp\\',\\'fee\\':120000}\\\\n\",\\n', '    \"student2={\\'id\\':2,\\'name\\':\\'pqr\\',\\'sec\\': \\'k0c24\\',\\'fee\\':120000}\\\\n\",\\n', '    \"print(student1)\\\\n\",\\n', '    \"print(student2)\"\\n', '   ]\\n', '  },\\n', '  {\\n', '   \"cell_type\": \"code\",\\n', '   \"execution_count\": 30,\\n', '   \"id\": \"dfedf2b7\",\\n', '   \"metadata\": {},\\n', '   \"outputs\": [\\n', '    {\\n', '     \"name\": \"stdout\",\\n', '     \"output_type\": \"stream\",\\n', '     \"text\": [\\n', '      \"<class \\'dict\\'>\\\\n\"\\n', '     ]\\n', '    }\\n', '   ],\\n', '   \"source\": [\\n', '    \"print(type(a))\"\\n', '   ]\\n', '  },\\n', '  {\\n', '   \"cell_type\": \"code\",\\n', '   \"execution_count\": 28,\\n', '   \"id\": \"7210cbd7\",\\n', '   \"metadata\": {},\\n', '   \"outputs\": [\\n', '    {\\n', '     \"name\": \"stdout\",\\n', '     \"output_type\": \"stream\",\\n', '     \"text\": [\\n', '      \"1\\\\n\",\\n', '      \"2\\\\n\"\\n', '     ]\\n', '    }\\n', '   ],\\n', '   \"source\": [\\n', '    \"print(student1[\\'id\\'])\\\\n\",\\n', '    \"print(student2[\\'id\\'])\"\\n', '   ]\\n', '  },\\n', '  {\\n', '   \"cell_type\": \"code\",\\n', '   \"execution_count\": 31,\\n', '   \"id\": \"c183e1a6\",\\n', '   \"metadata\": {},\\n', '   \"outputs\": [\\n', '    {\\n', '     \"name\": \"stdout\",\\n', '     \"output_type\": \"stream\",\\n', '     \"text\": [\\n', '      \"[\\'fee\\', \\'id\\', \\'name\\', \\'sec\\']\\\\n\"\\n', '     ]\\n', '    }\\n', '   ],\\n', '   \"source\": [\\n', '    \"print(sorted(student1))\"\\n', '   ]\\n', '  },\\n', '  {\\n', '   \"cell_type\": \"code\",\\n', '   \"execution_count\": 32,\\n', '   \"id\": \"0e8edee1\",\\n', '   \"metadata\": {},\\n', '   \"outputs\": [\\n', '    {\\n', '     \"name\": \"stdout\",\\n', '     \"output_type\": \"stream\",\\n', '     \"text\": [\\n', '      \"4\\\\n\"\\n', '     ]\\n', '    }\\n', '   ],\\n', '   \"source\": [\\n', '    \"print(len(student1))\"\\n', '   ]\\n', '  },\\n', '  {\\n', '   \"cell_type\": \"code\",\\n', '   \"execution_count\": 33,\\n', '   \"id\": \"d58cccbb\",\\n', '   \"metadata\": {},\\n', '   \"outputs\": [\\n', '    {\\n', '     \"name\": \"stdout\",\\n', '     \"output_type\": \"stream\",\\n', '     \"text\": [\\n', '      \"True\\\\n\"\\n', '     ]\\n', '    }\\n', '   ],\\n', '   \"source\": [\\n', '    \"print(any(student2))\"\\n', '   ]\\n', '  },\\n', '  {\\n', '   \"cell_type\": \"code\",\\n', '   \"execution_count\": 34,\\n', '   \"id\": \"de3df3de\",\\n', '   \"metadata\": {},\\n', '   \"outputs\": [\\n', '    {\\n', '     \"name\": \"stdout\",\\n', '     \"output_type\": \"stream\",\\n', '     \"text\": [\\n', '      \"True\\\\n\"\\n', '     ]\\n', '    }\\n', '   ],\\n', '   \"source\": [\\n', '    \"print(all(student2))\"\\n', '   ]\\n', '  },\\n', '  {\\n', '   \"cell_type\": \"code\",\\n', '   \"execution_count\": 1,\\n', '   \"id\": \"8a271318\",\\n', '   \"metadata\": {},\\n', '   \"outputs\": [\\n', '    {\\n', '     \"name\": \"stdout\",\\n', '     \"output_type\": \"stream\",\\n', '     \"text\": [\\n', '      \"data1: rem\\\\n\",\\n', '      \"data2: jyr\\\\n\",\\n', '      \"True\\\\n\",\\n', '      \"[\\'rem\\']\\\\n\"\\n', '     ]\\n', '    }\\n', '   ],\\n', '   \"source\": [\\n', '    \"a=input(\\'data1: \\').split(\\',\\')\\\\n\",\\n', '    \"b=input(\\'data2: \\').split(\\',\\')\\\\n\",\\n', '    \"dict1=a\\\\n\",\\n', '    \"print(any(a))\\\\n\",\\n', '    \"print(sorted(dict1))\"\\n', '   ]\\n', '  },\\n', '  {\\n', '   \"cell_type\": \"code\",\\n', '   \"execution_count\": 4,\\n', '   \"id\": \"dd47e983\",\\n', '   \"metadata\": {},\\n', '   \"outputs\": [\\n', '    {\\n', '     \"name\": \"stdout\",\\n', '     \"output_type\": \"stream\",\\n', '     \"text\": [\\n', '      \"None\\\\n\"\\n', '     ]\\n', '    }\\n', '   ],\\n', '   \"source\": [\\n', '    \"student1={\\'id\\':1,\\'name\\':\\'xyz\\',\\'sec\\': \\'k22kp\\',\\'fee\\':120000}\\\\n\",\\n', '    \"dict1=student1.clear()\\\\n\",\\n', '    \"print(dict1)\"\\n', '   ]\\n', '  },\\n', '  {\\n', '   \"cell_type\": \"code\",\\n', '   \"execution_count\": 5,\\n', '   \"id\": \"e7f4cc6a\",\\n', '   \"metadata\": {},\\n', '   \"outputs\": [\\n', '    {\\n', '     \"name\": \"stdout\",\\n', '     \"output_type\": \"stream\",\\n', '     \"text\": [\\n', '      \"{}\\\\n\"\\n', '     ]\\n', '    }\\n', '   ],\\n', '   \"source\": [\\n', '    \"dict2=student1.copy()\\\\n\",\\n', '    \"print(dict2)\"\\n', '   ]\\n', '  },\\n', '  {\\n', '   \"cell_type\": \"code\",\\n', '   \"execution_count\": 1,\\n', '   \"id\": \"7ab2e367\",\\n', '   \"metadata\": {},\\n', '   \"outputs\": [\\n', '    {\\n', '     \"name\": \"stdout\",\\n', '     \"output_type\": \"stream\",\\n', '     \"text\": [\\n', '      \"{\\'one\\': 10, \\'two\\': 10, \\'three\\': 10}\\\\n\"\\n', '     ]\\n', '    }\\n', '   ],\\n', '   \"source\": [\\n', '    \"seq=(\\'one\\',\\'two\\',\\'three\\')\\\\n\",\\n', '    \"dict=dict.fromkeys(seq,10)\\\\n\",\\n', '    \"print(str(dict))\\\\n\"\\n', '   ]\\n', '  },\\n', '  {\\n', '   \"cell_type\": \"code\",\\n', '   \"execution_count\": 2,\\n', '   \"id\": \"edd60ac1\",\\n', '   \"metadata\": {},\\n', '   \"outputs\": [\\n', '    {\\n', '     \"name\": \"stdout\",\\n', '     \"output_type\": \"stream\",\\n', '     \"text\": [\\n', '      \"10\\\\n\"\\n', '     ]\\n', '    }\\n', '   ],\\n', '   \"source\": [\\n', '    \"print(dict.get(\\'one\\'))\"\\n', '   ]\\n', '  },\\n', '  {\\n', '   \"cell_type\": \"code\",\\n', '   \"execution_count\": 3,\\n', '   \"id\": \"03948079\",\\n', '   \"metadata\": {},\\n', '   \"outputs\": [\\n', '    {\\n', '     \"name\": \"stdout\",\\n', '     \"output_type\": \"stream\",\\n', '     \"text\": [\\n', '      \"dict_items([(\\'one\\', 10), (\\'two\\', 10), (\\'three\\', 10)])\\\\n\"\\n', '     ]\\n', '    }\\n', '   ],\\n', '   \"source\": [\\n', '    \"print(dict.items())\"\\n', '   ]\\n', '  },\\n', '  {\\n', '   \"cell_type\": \"code\",\\n', '   \"execution_count\": 4,\\n', '   \"id\": \"ed335e97\",\\n', '   \"metadata\": {},\\n', '   \"outputs\": [\\n', '    {\\n', '     \"name\": \"stdout\",\\n', '     \"output_type\": \"stream\",\\n', '     \"text\": [\\n', '      \"dict_keys([\\'one\\', \\'two\\', \\'three\\'])\\\\n\"\\n', '     ]\\n', '    }\\n', '   ],\\n', '   \"source\": [\\n', '    \"print(dict.keys())\"\\n', '   ]\\n', '  },\\n', '  {\\n', '   \"cell_type\": \"code\",\\n', '   \"execution_count\": 6,\\n', '   \"id\": \"7a94eac5\",\\n', '   \"metadata\": {},\\n', '   \"outputs\": [\\n', '    {\\n', '     \"name\": \"stdout\",\\n', '     \"output_type\": \"stream\",\\n', '     \"text\": [\\n', '      \"{\\'id\\': 1, \\'name\\': \\'xyz\\', \\'sec\\': \\'k22kp\\', \\'fee\\': 120000, \\'hostel\\': \\'bh2\\'}\\\\n\"\\n', '     ]\\n', '    }\\n', '   ],\\n', '   \"source\": [\\n', '    \"d1={\\'id\\':1,\\'name\\':\\'xyz\\',\\'sec\\': \\'k22kp\\',\\'fee\\':120000}\\\\n\",\\n', '    \"d1.setdefault(\\'hostel\\',\\'bh2\\')\\\\n\",\\n', '    \"print(d1)\"\\n', '   ]\\n', '  },\\n', '  {\\n', '   \"cell_type\": \"code\",\\n', '   \"execution_count\": 8,\\n', '   \"id\": \"eb5de3d0\",\\n', '   \"metadata\": {},\\n', '   \"outputs\": [\\n', '    {\\n', '     \"name\": \"stdout\",\\n', '     \"output_type\": \"stream\",\\n', '     \"text\": [\\n', '      \"{\\'id\\': 1, \\'name\\': \\'pqe\\', \\'sec\\': \\'k22kp\\', \\'fee\\': 120000, \\'hostel\\': \\'bh2\\'}\\\\n\"\\n', '     ]\\n', '    }\\n', '   ],\\n', '   \"source\": [\\n', '    \"d2={\\'id\\':1,\\'name\\':\\'pqe\\',\\'sec\\': \\'k22kp\\',\\'fee\\':120000}\\\\n\",\\n', '    \"d1.update(d2)\\\\n\",\\n', '    \"print(d1)\"\\n', '   ]\\n', '  },\\n', '  {\\n', '   \"cell_type\": \"code\",\\n', '   \"execution_count\": 9,\\n', '   \"id\": \"6ae07d0c\",\\n', '   \"metadata\": {},\\n', '   \"outputs\": [\\n', '    {\\n', '     \"name\": \"stdout\",\\n', '     \"output_type\": \"stream\",\\n', '     \"text\": [\\n', '      \"dict_values([1, \\'pqe\\', \\'k22kp\\', 120000])\\\\n\"\\n', '     ]\\n', '    }\\n', '   ],\\n', '   \"source\": [\\n', '    \"print(d2.values())\"\\n', '   ]\\n', '  },\\n', '  {\\n', '   \"cell_type\": \"code\",\\n', '   \"execution_count\": 6,\\n', '   \"id\": \"bd650ece\",\\n', '   \"metadata\": {},\\n', '   \"outputs\": [\\n', '    {\\n', '     \"data\": {\\n', '      \"text/plain\": [\\n', '       \"dict_items\"\\n', '      ]\\n', '     },\\n', '     \"execution_count\": 6,\\n', '     \"metadata\": {},\\n', '     \"output_type\": \"execute_result\"\\n', '    }\\n', '   ],\\n', '   \"source\": [\\n', '    \"dct={\\'id\\':1,\\'name\\':\\'xyz\\',\\'sec\\': \\'k22kp\\',\\'fee\\':120000}\\\\n\",\\n', '    \"dct_view=dct.items()\\\\n\",\\n', '    \"type(dct_view)\\\\n\"\\n', '   ]\\n', '  },\\n', '  {\\n', '   \"cell_type\": \"code\",\\n', '   \"execution_count\": 8,\\n', '   \"id\": \"baad5ac4\",\\n', '   \"metadata\": {},\\n', '   \"outputs\": [\\n', '    {\\n', '     \"name\": \"stdout\",\\n', '     \"output_type\": \"stream\",\\n', '     \"text\": [\\n', '      \"dict_items([(\\'id\\', 1), (\\'name\\', \\'xyz\\'), (\\'sec\\', \\'k22kp\\'), (\\'fee\\', 120000)])\\\\n\"\\n', '     ]\\n', '    }\\n', '   ],\\n', '   \"source\": [\\n', '    \"print(dct_view)\"\\n', '   ]\\n', '  },\\n', '  {\\n', '   \"cell_type\": \"code\",\\n', '   \"execution_count\": 12,\\n', '   \"id\": \"dccd8d0c\",\\n', '   \"metadata\": {},\\n', '   \"outputs\": [\\n', '    {\\n', '     \"name\": \"stdout\",\\n', '     \"output_type\": \"stream\",\\n', '     \"text\": [\\n', '      \"[(\\'id\\', 1), (\\'name\\', \\'xyz\\'), (\\'sec\\', \\'k22kp\\'), (\\'fee\\', 120000)]\\\\n\"\\n', '     ]\\n', '    }\\n', '   ],\\n', '   \"source\": [\\n', '    \"dct_view_list=list(dct_view)\\\\n\",\\n', '    \"print(dct_view_list)\"\\n', '   ]\\n', '  },\\n', '  {\\n', '   \"cell_type\": \"code\",\\n', '   \"execution_count\": 16,\\n', '   \"id\": \"ef441936\",\\n', '   \"metadata\": {},\\n', '   \"outputs\": [\\n', '    {\\n', '     \"name\": \"stdout\",\\n', '     \"output_type\": \"stream\",\\n', '     \"text\": [\\n', '      \"<class \\'list\\'>\\\\n\",\\n', '      \"dict_keys([\\'id\\', \\'name\\', \\'sec\\', \\'fee\\'])\\\\n\",\\n', '      \"dict_values([1, \\'xyz\\', \\'k22kp\\', 120000])\\\\n\",\\n', '      \"[1, \\'xyz\\', \\'k22kp\\', 120000]\\\\n\"\\n', '     ]\\n', '    }\\n', '   ],\\n', '   \"source\": [\\n', '    \"print(type(dct_view_list))\\\\n\",\\n', '    \"dct_keys=dct.keys()\\\\n\",\\n', '    \"print(dct_keys)\\\\n\",\\n', '    \"dct_values=dct.values()\\\\n\",\\n', '    \"print(dct_values)\\\\n\",\\n', '    \"dct_values_list=list(dct_values)\\\\n\",\\n', '    \"print(dct_values_list)\\\\n\",\\n', '    \"\\\\n\"\\n', '   ]\\n', '  },\\n', '  {\\n', '   \"cell_type\": \"code\",\\n', '   \"execution_count\": 22,\\n', '   \"id\": \"c55d6902\",\\n', '   \"metadata\": {},\\n', '   \"outputs\": [\\n', '    {\\n', '     \"name\": \"stdout\",\\n', '     \"output_type\": \"stream\",\\n', '     \"text\": [\\n', '      \"[(1, 7), (2, 8), (3, 9), (4, 0), (5, 3)]\\\\n\"\\n', '     ]\\n', '    }\\n', '   ],\\n', '   \"source\": [\\n', '    \"l1=[1,2,3,4,5]\\\\n\",\\n', '    \"l2=[7,8,9,0,3]\\\\n\",\\n', '    \"l1_l2dict=zip(l1,l2)\\\\n\",\\n', '    \"l1_l2=list(l1_l2dict)\\\\n\",\\n', '    \"print(l1_l2)\"\\n', '   ]\\n', '  },\\n', '  {\\n', '   \"cell_type\": \"code\",\\n', '   \"execution_count\": 26,\\n', '   \"id\": \"425f2a3c\",\\n', '   \"metadata\": {},\\n', '   \"outputs\": [\\n', '    {\\n', '     \"name\": \"stdout\",\\n', '     \"output_type\": \"stream\",\\n', '     \"text\": [\\n', '      \"{1: 7, 2: 8, 3: 9, 4: 0, 5: 3}\\\\n\"\\n', '     ]\\n', '    }\\n', '   ],\\n', '   \"source\": [\\n', '    \"\\\\n\",\\n', '    \"print(dict(l1_l2))\"\\n', '   ]\\n', '  },\\n', '  {\\n', '   \"cell_type\": \"code\",\\n', '   \"execution_count\": 2,\\n', '   \"id\": \"01a84cfc\",\\n', '   \"metadata\": {},\\n', '   \"outputs\": [\\n', '    {\\n', '     \"name\": \"stdout\",\\n', '     \"output_type\": \"stream\",\\n', '     \"text\": [\\n', '      \"1\\\\n\",\\n', '      \"2\\\\n\",\\n', '      \"3\\\\n\",\\n', '      \"4\\\\n\",\\n', '      \"5\\\\n\",\\n', '      \"6\\\\n\",\\n', '      \"7\\\\n\",\\n', '      \"8\\\\n\",\\n', '      \"9\\\\n\",\\n', '      \"0\\\\n\",\\n', '      \"0\\\\n\",\\n', '      \"9\\\\n\",\\n', '      \"8\\\\n\",\\n', '      \"7\\\\n\",\\n', '      \"6\\\\n\",\\n', '      \"5\\\\n\",\\n', '      \"3\\\\n\",\\n', '      \"2\\\\n\",\\n', '      \"1\\\\n\",\\n', '      \"[\\'1\\', \\'2\\', \\'3\\', \\'4\\', \\'5\\', \\'6\\', \\'7\\', \\'8\\', \\'9\\', \\'0\\', \\'0\\', \\'9\\', \\'8\\', \\'7\\', \\'6\\', \\'5\\', \\'3\\', \\'2\\', \\'1\\']\\\\n\"\\n', '     ]\\n', '    }\\n', '   ],\\n', '   \"source\": [\\n', '    \"a=[]\\\\n\",\\n', '    \"for i in range(1,20):\\\\n\",\\n', '    \"    x=input()\\\\n\",\\n', '    \"    a.append(x)\\\\n\",\\n', '    \"print(a)    \"\\n', '   ]\\n', '  },\\n', '  {\\n', '   \"cell_type\": \"markdown\",\\n', '   \"id\": \"63f9924b\",\\n', '   \"metadata\": {},\\n', '   \"source\": [\\n', '    \"l1=\"\\n', '   ]\\n', '  },\\n', '  {\\n', '   \"cell_type\": \"code\",\\n', '   \"execution_count\": 4,\\n', '   \"id\": \"44c370bc\",\\n', '   \"metadata\": {},\\n', '   \"outputs\": [\\n', '    {\\n', '     \"name\": \"stdout\",\\n', '     \"output_type\": \"stream\",\\n', '     \"text\": [\\n', '      \"[1, 2, 3, 4, 5]\\\\n\"\\n', '     ]\\n', '    }\\n', '   ],\\n', '   \"source\": [\\n', '    \"l1=[i for i in range(1,6)]\\\\n\",\\n', '    \"print(l1)\"\\n', '   ]\\n', '  },\\n', '  {\\n', '   \"cell_type\": \"code\",\\n', '   \"execution_count\": 5,\\n', '   \"id\": \"086e03d4\",\\n', '   \"metadata\": {},\\n', '   \"outputs\": [\\n', '    {\\n', '     \"name\": \"stdout\",\\n', '     \"output_type\": \"stream\",\\n', '     \"text\": [\\n', '      \"[\\'even\\']\\\\n\"\\n', '     ]\\n', '    }\\n', '   ],\\n', '   \"source\": [\\n', '    \"n=10\\\\n\",\\n', '    \"l1=[\\\\\"even\\\\\" if(n%2) ==0 else \\\\\"odd\\\\\"]\\\\n\",\\n', '    \"print(l1)\"\\n', '   ]\\n', '  },\\n', '  {\\n', '   \"cell_type\": \"code\",\\n', '   \"execution_count\": 7,\\n', '   \"id\": \"1a51b3ff\",\\n', '   \"metadata\": {},\\n', '   \"outputs\": [\\n', '    {\\n', '     \"name\": \"stdout\",\\n', '     \"output_type\": \"stream\",\\n', '     \"text\": [\\n', '      \"str: PYTHON\\\\n\",\\n', '      \"P Y T H O N \"\\n', '     ]\\n', '    }\\n', '   ],\\n', '   \"source\": [\\n', '    \"a=input(\\\\\"str: \\\\\")\\\\n\",\\n', '    \"for i in a:\\\\n\",\\n', '    \"    print(i,end=\\\\\" \\\\\")\"\\n', '   ]\\n', '  },\\n', '  {\\n', '   \"cell_type\": \"code\",\\n', '   \"execution_count\": 12,\\n', '   \"id\": \"fd03487a\",\\n', '   \"metadata\": {},\\n', '   \"outputs\": [\\n', '    {\\n', '     \"name\": \"stdout\",\\n', '     \"output_type\": \"stream\",\\n', '     \"text\": [\\n', '      \"[10, 20, 30, 20, 40, 60, 30, 60, 90]\\\\n\"\\n', '     ]\\n', '    }\\n', '   ],\\n', '   \"source\": [\\n', '    \"l1=[a*b for a in [1,2,3] for b in (10,20,30)]\\\\n\",\\n', '    \"print(l1)\\\\n\",\\n', '    \"\\\\n\"\\n', '   ]\\n', '  },\\n', '  {\\n', '   \"cell_type\": \"code\",\\n', '   \"execution_count\": 2,\\n', '   \"id\": \"c29a1284\",\\n', '   \"metadata\": {},\\n', '   \"outputs\": [\\n', '    {\\n', '     \"name\": \"stdout\",\\n', '     \"output_type\": \"stream\",\\n', '     \"text\": [\\n', '      \"[11, 22, 33, 44, 55, 66, 77, 88, 99, 110, 121, 132, 143, 154, 165, 176, 187, 198, 209, 220]\\\\n\"\\n', '     ]\\n', '    }\\n', '   ],\\n', '   \"source\": [\\n', '    \"l1=[a*b for a in [11] for b in range(1,21)]\\\\n\",\\n', '    \"print(l1)\"\\n', '   ]\\n', '  },\\n', '  {\\n', '   \"cell_type\": \"code\",\\n', '   \"execution_count\": 3,\\n', '   \"id\": \"ca22bef5\",\\n', '   \"metadata\": {},\\n', '   \"outputs\": [\\n', '    {\\n', '     \"name\": \"stdout\",\\n', '     \"output_type\": \"stream\",\\n', '     \"text\": [\\n', '      \"{0: 10, 1: 20, 2: 30}\\\\n\"\\n', '     ]\\n', '    }\\n', '   ],\\n', '   \"source\": [\\n', '    \"l1=[10,20,30]\\\\n\",\\n', '    \"dict1={key: value for key,value in enumerate(l1)}\\\\n\",\\n', '    \"print(dict1)\"\\n', '   ]\\n', '  },\\n', '  {\\n', '   \"cell_type\": \"code\",\\n', '   \"execution_count\": 4,\\n', '   \"id\": \"3c3a884f\",\\n', '   \"metadata\": {},\\n', '   \"outputs\": [\\n', '    {\\n', '     \"name\": \"stdout\",\\n', '     \"output_type\": \"stream\",\\n', '     \"text\": [\\n', '      \"{1: 1, 2: 4, 3: 9, 4: 16}\\\\n\"\\n', '     ]\\n', '    }\\n', '   ],\\n', '   \"source\": [\\n', '    \"dict2={i:i**2 for i in range(1,5)}\\\\n\",\\n', '    \"print(dict2)\"\\n', '   ]\\n', '  },\\n', '  {\\n', '   \"cell_type\": \"code\",\\n', '   \"execution_count\": 5,\\n', '   \"id\": \"11e9ae01\",\\n', '   \"metadata\": {},\\n', '   \"outputs\": [\\n', '    {\\n', '     \"name\": \"stdout\",\\n', '     \"output_type\": \"stream\",\\n', '     \"text\": [\\n', '      \"{\\'p\\': \\'rakesh\\', \\'y\\': \\'rakesh\\', \\'t\\': \\'rakesh\\', \\'h\\': \\'rakesh\\', \\'o\\': \\'rakesh\\', \\'m\\': \\'rakesh\\'}\\\\n\"\\n', '     ]\\n', '    }\\n', '   ],\\n', '   \"source\": [\\n', '    \"dict3={i:\\\\\"rakesh\\\\\" for i in \\\\\"pythom\\\\\"}\\\\n\",\\n', '    \"print(dict3)\"\\n', '   ]\\n', '  },\\n', '  {\\n', '   \"cell_type\": \"code\",\\n', '   \"execution_count\": 6,\\n', '   \"id\": \"fbac36c7\",\\n', '   \"metadata\": {},\\n', '   \"outputs\": [\\n', '    {\\n', '     \"name\": \"stdout\",\\n', '     \"output_type\": \"stream\",\\n', '     \"text\": [\\n', '      \"{\\'r\\': \\'R\\', \\'a\\': \\'A\\', \\'k\\': \\'K\\', \\'e\\': \\'E\\', \\'s\\': \\'S\\', \\'h\\': \\'H\\'}\\\\n\"\\n', '     ]\\n', '    }\\n', '   ],\\n', '   \"source\": [\\n', '    \"dict4={i.lower() : i for i in \\\\\"RAKESH\\\\\"}\\\\n\",\\n', '    \"print(dict4)\"\\n', '   ]\\n', '  },\\n', '  {\\n', '   \"cell_type\": \"code\",\\n', '   \"execution_count\": null,\\n', '   \"id\": \"ad6aa89d\",\\n', '   \"metadata\": {},\\n', '   \"outputs\": [],\\n', '   \"source\": [\\n', '    \"a=[1,2,3,4,5]\\\\n\",\\n', '    \"b=a\\\\n\",\\n', '    \"c=a[:]\\\\n\",\\n', '    \"d=list(a)\\\\n\",\\n', '    \"e=a.copy\"\\n', '   ]\\n', '  },\\n', '  {\\n', '   \"cell_type\": \"code\",\\n', '   \"execution_count\": 6,\\n', '   \"id\": \"5dc00fcf\",\\n', '   \"metadata\": {},\\n', '   \"outputs\": [\\n', '    {\\n', '     \"name\": \"stdout\",\\n', '     \"output_type\": \"stream\",\\n', '     \"text\": [\\n', '      \"2\\\\n\",\\n', '      \"3\\\\n\",\\n', '      \"[[4, 4, 4], [4, 4, 4]]\\\\n\"\\n', '     ]\\n', '    }\\n', '   ],\\n', '   \"source\": [\\n', '    \"rows=int(input())\\\\n\",\\n', '    \"cols=int(input())\\\\n\",\\n', '    \"compressMatrix = [[4 for i in range(cols)] for j in range(rows)]\\\\n\",\\n', '    \"print(compressMatrix)\\\\n\"\\n', '   ]\\n', '  },\\n', '  {\\n', '   \"cell_type\": \"code\",\\n', '   \"execution_count\": 1,\\n', '   \"id\": \"92043268\",\\n', '   \"metadata\": {},\\n', '   \"outputs\": [\\n', '    {\\n', '     \"name\": \"stdout\",\\n', '     \"output_type\": \"stream\",\\n', '     \"text\": [\\n', '      \"Enter row size: 2\\\\n\",\\n', '      \"Enter col size: 3\\\\n\",\\n', '      \"Enter elements:\\\\n\",\\n', '      \"2\\\\n\",\\n', '      \"3\\\\n\",\\n', '      \"4\\\\n\",\\n', '      \"5\\\\n\",\\n', '      \"6\\\\n\",\\n', '      \"7\\\\n\",\\n', '      \"Sparse matrix is:\\\\n\",\\n', '      \"2 \\\\n\",\\n', '      \"3 \\\\n\",\\n', '      \"4 \\\\n\",\\n', '      \"5 \\\\n\",\\n', '      \"6 \\\\n\",\\n', '      \"7 \\\\n\",\\n', '      \"Sparse representation:\\\\n\",\\n', '      \"[0, 0, 0, 0, 0, 0]\\\\n\",\\n', '      \"[0, 0, 0, 0, 0, 0]\\\\n\",\\n', '      \"[2, 0, 0, 0, 0, 0]\\\\n\"\\n', '     ]\\n', '    },\\n', '    {\\n', '     \"ename\": \"TypeError\",\\n', '     \"evalue\": \"list indices must be integers or slices, not list\",\\n', '     \"output_type\": \"error\",\\n', '     \"traceback\": [\\n', '      \"\\\\u001b[0;31m---------------------------------------------------------------------------\\\\u001b[0m\",\\n', '      \"\\\\u001b[0;31mTypeError\\\\u001b[0m                                 Traceback (most recent call last)\",\\n', '      \"Input \\\\u001b[0;32mIn [1]\\\\u001b[0m, in \\\\u001b[0;36m<cell line: 31>\\\\u001b[0;34m()\\\\u001b[0m\\\\n\\\\u001b[1;32m     29\\\\u001b[0m         \\\\u001b[38;5;28mprint\\\\u001b[39m(mat[i][j],end \\\\u001b[38;5;241m=\\\\u001b[39m \\\\u001b[38;5;124m\\\\\"\\\\u001b[39m\\\\u001b[38;5;124m \\\\u001b[39m\\\\u001b[38;5;124m\\\\\"\\\\u001b[39m)\\\\n\\\\u001b[1;32m     30\\\\u001b[0m         \\\\u001b[38;5;28mprint\\\\u001b[39m()\\\\n\\\\u001b[0;32m---> 31\\\\u001b[0m \\\\u001b[43msparseMatrix\\\\u001b[49m\\\\u001b[43m(\\\\u001b[49m\\\\u001b[43mmat\\\\u001b[49m\\\\u001b[43m,\\\\u001b[49m\\\\u001b[43m \\\\u001b[49m\\\\u001b[43mm\\\\u001b[49m\\\\u001b[43m,\\\\u001b[49m\\\\u001b[43m \\\\u001b[49m\\\\u001b[43mn\\\\u001b[49m\\\\u001b[43m)\\\\u001b[49m\\\\n\",\\n', '      \"Input \\\\u001b[0;32mIn [1]\\\\u001b[0m, in \\\\u001b[0;36msparseMatrix\\\\u001b[0;34m(sparseMatrix, m, n)\\\\u001b[0m\\\\n\\\\u001b[1;32m     11\\\\u001b[0m \\\\u001b[38;5;28;01mfor\\\\u001b[39;00m i \\\\u001b[38;5;129;01min\\\\u001b[39;00m \\\\u001b[38;5;28mrange\\\\u001b[39m(m):\\\\n\\\\u001b[1;32m     12\\\\u001b[0m     \\\\u001b[38;5;28;01mfor\\\\u001b[39;00m j \\\\u001b[38;5;129;01min\\\\u001b[39;00m \\\\u001b[38;5;28mrange\\\\u001b[39m(n):\\\\n\\\\u001b[0;32m---> 13\\\\u001b[0m         \\\\u001b[38;5;28;01mif\\\\u001b[39;00m (\\\\u001b[43msparseMatrix\\\\u001b[49m\\\\u001b[43m[\\\\u001b[49m\\\\u001b[43mi\\\\u001b[49m\\\\u001b[43m]\\\\u001b[49m[j] \\\\u001b[38;5;241m!=\\\\u001b[39m \\\\u001b[38;5;241m0\\\\u001b[39m):\\\\n\\\\u001b[1;32m     14\\\\u001b[0m             compressMatrix[\\\\u001b[38;5;241m0\\\\u001b[39m][k] \\\\u001b[38;5;241m=\\\\u001b[39m i\\\\n\\\\u001b[1;32m     15\\\\u001b[0m             compressMatrix[\\\\u001b[38;5;241m1\\\\u001b[39m][k] \\\\u001b[38;5;241m=\\\\u001b[39m j\\\\n\",\\n', '      \"\\\\u001b[0;31mTypeError\\\\u001b[0m: list indices must be integers or slices, not list\"\\n', '     ]\\n', '    }\\n', '   ],\\n', '   \"source\": [\\n', '    \"\\\\n\",\\n', '    \"\\\\n\",\\n', '    \"\\\\n\",\\n', '    \"\\\\n\",\\n', '    \"def sparseMatrix(sparseMatrix, m, n):\\\\n\",\\n', '    \"    size = 0\\\\n\",\\n', '    \"    for i in range(m):\\\\n\",\\n', '    \"        for j in range(n):\\\\n\",\\n', '    \"            if (sparseMatrix[i][j] != 0):\\\\n\",\\n', '    \"                size += 1\\\\n\",\\n', '    \"\\\\n\",\\n', '    \"    rows, cols = (3, size)\\\\n\",\\n', '    \"    compressMatrix = [[0 for i in range(cols)] for j in range(rows)]\\\\n\",\\n', '    \"    k = 0\\\\n\",\\n', '    \"    for i in range(m):\\\\n\",\\n', '    \"        for j in range(n):\\\\n\",\\n', '    \"            if (sparseMatrix[i][j] != 0):\\\\n\",\\n', '    \"                compressMatrix[0][k] = i\\\\n\",\\n', '    \"                compressMatrix[1][k] = j\\\\n\",\\n', '    \"                compressMatrix[2][k] = sparseMatrix[i][j]\\\\n\",\\n', '    \"                k += 1\\\\n\",\\n', '    \"                print(\\\\\"Sparse representation:\\\\\")\\\\n\",\\n', '    \"                for i in compressMatrix:\\\\n\",\\n', '    \"                    print(i)\\\\n\",\\n', '    \"\\\\n\",\\n', '    \"m = int(input(\\\\\"Enter row size: \\\\\"))\\\\n\",\\n', '    \"n = int(input(\\\\\"Enter col size: \\\\\"))\\\\n\",\\n', '    \"print(\\\\\"Enter elements:\\\\\")\\\\n\",\\n', '    \"mat = [[int(input()) for x in range (n)] for y in range(m)]\\\\n\",\\n', '    \"print(\\\\\"Sparse matrix is:\\\\\")\\\\n\",\\n', '    \"for i in range(m):\\\\n\",\\n', '    \"    for j in range(n):\\\\n\",\\n', '    \"        print(mat[i][j],end = \\\\\" \\\\\")\\\\n\",\\n', '    \"        print()\\\\n\",\\n', '    \"sparseMatrix(mat, m, n)\\\\n\",\\n', '    \"\\\\n\",\\n', '    \"\\\\n\"\\n', '   ]\\n', '  },\\n', '  {\\n', '   \"cell_type\": \"markdown\",\\n', '   \"id\": \"c7605e02\",\\n', '   \"metadata\": {},\\n', '   \"source\": [\\n', '    \" \"\\n', '   ]\\n', '  },\\n', '  {\\n', '   \"cell_type\": \"code\",\\n', '   \"execution_count\": null,\\n', '   \"id\": \"b878e987\",\\n', '   \"metadata\": {},\\n', '   \"outputs\": [\\n', '    {\\n', '     \"name\": \"stdout\",\\n', '     \"output_type\": \"stream\",\\n', '     \"text\": [\\n', '      \"matrix:\\\\n\",\\n', '      \"[[1, 2, 3, 4], [5, 6, 7, 8], [9, 0, 12, 34]]\\\\n\",\\n', '      \"transpotation using nested while:\\\\n\",\\n', '      \"[[1]]\\\\n\",\\n', '      \"[[1, 6], [1, 6]]\\\\n\",\\n', '      \"[[1, 6, 12], [1, 6, 12], [1, 6, 12]]\\\\n\"\\n', '     ]\\n', '    }\\n', '   ],\\n', '   \"source\": [\\n', '    \"matrix=[[1,2,3,4],[5,6,7,8],[9,0,12,34]]\\\\n\",\\n', '    \"transposed = []\\\\n\",\\n', '    \"print(\\\\\"matrix:\\\\\")\\\\n\",\\n', '    \"print(matrix)\\\\n\",\\n', '    \"print(\\\\\"transpotation using nested while:\\\\\")\\\\n\",\\n', '    \"i = 0\\\\n\",\\n', '    \"while(i < len(matrix[0])):\\\\n\",\\n', '    \"    j=0\\\\n\",\\n', '    \"    lx=[]\\\\n\",\\n', '    \"    while(i< len(matrix)):\\\\n\",\\n', '    \"        lx.append(matrix[j][i])\\\\n\",\\n', '    \"        j = j+1\\\\n\",\\n', '    \"        transposed.append(lx)\\\\n\",\\n', '    \"        i=i+1\\\\n\",\\n', '    \"        print(transposed)\"\\n', '   ]\\n', '  },\\n', '  {\\n', '   \"cell_type\": \"code\",\\n', '   \"execution_count\": 1,\\n', '   \"id\": \"95bd422c\",\\n', '   \"metadata\": {},\\n', '   \"outputs\": [\\n', '    {\\n', '     \"name\": \"stdout\",\\n', '     \"output_type\": \"stream\",\\n', '     \"text\": [\\n', '      \"10\\\\n\"\\n', '     ]\\n', '    }\\n', '   ],\\n', '   \"source\": [\\n', '    \"class myclass:\\\\n\",\\n', '    \"    a=10\\\\n\",\\n', '    \"    b=20\\\\n\",\\n', '    \"    def sum(x,y):\\\\n\",\\n', '    \"        \\\\n\",\\n', '    \"        self.sum=sum\\\\n\",\\n', '    \"obj1=myclass()\\\\n\",\\n', '    \"print(obj1.a)\\\\n\"\\n', '   ]\\n', '  },\\n', '  {\\n', '   \"cell_type\": \"code\",\\n', '   \"execution_count\": 7,\\n', '   \"id\": \"bbe865de\",\\n', '   \"metadata\": {},\\n', '   \"outputs\": [\\n', '    {\\n', '     \"name\": \"stdout\",\\n', '     \"output_type\": \"stream\",\\n', '     \"text\": [\\n', '      \"chay\\\\n\",\\n', '      \"rakesh\\\\n\"\\n', '     ]\\n', '    }\\n', '   ],\\n', '   \"source\": [\\n', '    \"class sum1:\\\\n\",\\n', '    \"    a=5\\\\n\",\\n', '    \"    b=6\\\\n\",\\n', '    \"    def __init__(self,firstname,lastname):\\\\n\",\\n', '    \"        self.Fname=firstname\\\\n\",\\n', '    \"        self.Lname=lastname\\\\n\",\\n', '    \"obj1=sum1(\\'chay\\',\\'rakesh\\')\\\\n\",\\n', '    \"print(obj1.Fname)\\\\n\",\\n', '    \"print(obj1.Lname)\"\\n', '   ]\\n', '  },\\n', '  {\\n', '   \"cell_type\": \"code\",\\n', '   \"execution_count\": 8,\\n', '   \"id\": \"6b887fda\",\\n', '   \"metadata\": {},\\n', '   \"outputs\": [\\n', '    {\\n', '     \"name\": \"stdout\",\\n', '     \"output_type\": \"stream\",\\n', '     \"text\": [\\n', '      \"name:rakesh\\\\n\",\\n', '      \"age:19\\\\n\",\\n', '      \"degree:engineer\\\\n\",\\n', '      \"stud_1.name: rakesh\\\\n\",\\n', '      \"stud_1.age: 19\\\\n\",\\n', '      \"stud_1.degree: engineer\\\\n\"\\n', '     ]\\n', '    }\\n', '   ],\\n', '   \"source\": [\\n', '    \"class Student:\\\\n\",\\n', '    \"    a=input(\\'name:\\')\\\\n\",\\n', '    \"    b=input(\\'age:\\')\\\\n\",\\n', '    \"    c=input(\\'degree:\\')\\\\n\",\\n', '    \"    print(\\\\\"stud_1.name:\\\\\",a)\\\\n\",\\n', '    \"    print(\\\\\"stud_1.age:\\\\\",b)\\\\n\",\\n', '    \"    print(\\\\\"stud_1.degree:\\\\\",c)\"\\n', '   ]\\n', '  },\\n', '  {\\n', '   \"cell_type\": \"code\",\\n', '   \"execution_count\": 5,\\n', '   \"id\": \"e0123ca4\",\\n', '   \"metadata\": {},\\n', '   \"outputs\": [\\n', '    {\\n', '     \"name\": \"stdout\",\\n', '     \"output_type\": \"stream\",\\n', '     \"text\": [\\n', '      \"stud_1 details= sri 20 ram@sh\\\\n\",\\n', '      \"stud_2 details= lak 21 lak@ram\\\\n\"\\n', '     ]\\n', '    }\\n', '   ],\\n', '   \"source\": [\\n', '    \"class student:\\\\n\",\\n', '    \"    def __init__(self,name,age,email):\\\\n\",\\n', '    \"        self.name=name\\\\n\",\\n', '    \"        self.age=age\\\\n\",\\n', '    \"        self.email=email\\\\n\",\\n', '    \"stud_1=student(\\'sri\\',20,\\'ram@sh\\')\\\\n\",\\n', '    \"stud_2=student(\\'lak\\',21,\\'lak@ram\\')\\\\n\",\\n', '    \"print(\\'stud_1 details=\\',stud_1.name,stud_1.age,stud_1.email)\\\\n\",\\n', '    \"print(\\'stud_2 details=\\',stud_2.name,stud_2.age,stud_2.email)\\\\n\"\\n', '   ]\\n', '  },\\n', '  {\\n', '   \"cell_type\": \"code\",\\n', '   \"execution_count\": 1,\\n', '   \"id\": \"50bee8a4\",\\n', '   \"metadata\": {},\\n', '   \"outputs\": [\\n', '    {\\n', '     \"data\": {\\n', '      \"text/plain\": [\\n', '       \"\\'rolls royce\\'\"\\n', '      ]\\n', '     },\\n', '     \"execution_count\": 1,\\n', '     \"metadata\": {},\\n', '     \"output_type\": \"execute_result\"\\n', '    }\\n', '   ],\\n', '   \"source\": [\\n', '    \"class cars:\\\\n\",\\n', '    \"    def method1(self,model,regno):\\\\n\",\\n', '    \"        self.model=model\\\\n\",\\n', '    \"        self.regno=regno\\\\n\",\\n', '    \"    def method2(self):\\\\n\",\\n', '    \"        return(self.model)\\\\n\",\\n', '    \"    def method3(self):\\\\n\",\\n', '    \"        return(self.regno)\\\\n\",\\n', '    \"car1=cars()\\\\n\",\\n', '    \"\\\\n\",\\n', '    \"car1.method1(\\'porsche\\',\\'rolls royce\\')\\\\n\",\\n', '    \"car1.method2()\\\\n\",\\n', '    \"car1.method3()\\\\n\"\\n', '   ]\\n', '  },\\n', '  {\\n', '   \"cell_type\": \"code\",\\n', '   \"execution_count\": 5,\\n', '   \"id\": \"60cd525c\",\\n', '   \"metadata\": {},\\n', '   \"outputs\": [\\n', '    {\\n', '     \"name\": \"stdout\",\\n', '     \"output_type\": \"stream\",\\n', '     \"text\": [\\n', '      \"bugatti\\\\n\"\\n', '     ]\\n', '    },\\n', '    {\\n', '     \"data\": {\\n', '      \"text/plain\": [\\n', '       \"\\'bugatti\\'\"\\n', '      ]\\n', '     },\\n', '     \"execution_count\": 5,\\n', '     \"metadata\": {},\\n', '     \"output_type\": \"execute_result\"\\n', '    }\\n', '   ],\\n', '   \"source\": [\\n', '    \"class car:\\\\n\",\\n', '    \"    def setname(self,name):\\\\n\",\\n', '    \"        self.name=name\\\\n\",\\n', '    \"    def getname(self):\\\\n\",\\n', '    \"        return(self.name)\\\\n\",\\n', '    \"name=input()\\\\n\",\\n', '    \"honda=car()\\\\n\",\\n', '    \"honda.setname(name)\\\\n\",\\n', '    \"honda.getname()\"\\n', '   ]\\n', '  },\\n', '  {\\n', '   \"cell_type\": \"code\",\\n', '   \"execution_count\": 9,\\n', '   \"id\": \"9a4e259b\",\\n', '   \"metadata\": {},\\n', '   \"outputs\": [\\n', '    {\\n', '     \"name\": \"stdout\",\\n', '     \"output_type\": \"stream\",\\n', '     \"text\": [\\n', '      \"stud_1 details= sri 20 ram@sh\\\\n\",\\n', '      \"stud_2 details= lak 21 lak@ram\\\\n\"\\n', '     ]\\n', '    }\\n', '   ],\\n', '   \"source\": [\\n', '    \"class student:\\\\n\",\\n', '    \"    def __init__(self,name,age,email):\\\\n\",\\n', '    \"        self.name=name\\\\n\",\\n', '    \"        self.age=age\\\\n\",\\n', '    \"        self.email=email\\\\n\",\\n', '    \"stud_1=student(\\'sri\\',20,\\'ram@sh\\')\\\\n\",\\n', '    \"stud_2=student(\\'lak\\',21,\\'lak@ram\\')\\\\n\",\\n', '    \"print(\\'stud_1 details=\\',stud_1.name,stud_1.age,stud_1.email)\\\\n\",\\n', '    \"print(\\'stud_2 details=\\',stud_2.name,stud_2.age,stud_2.email)\\\\n\"\\n', '   ]\\n', '  },\\n', '  {\\n', '   \"cell_type\": \"code\",\\n', '   \"execution_count\": null,\\n', '   \"id\": \"e52a5730\",\\n', '   \"metadata\": {},\\n', '   \"outputs\": [],\\n', '   \"source\": []\\n', '  },\\n', '  {\\n', '   \"cell_type\": \"code\",\\n', '   \"execution_count\": null,\\n', '   \"id\": \"b1494193\",\\n', '   \"metadata\": {},\\n', '   \"outputs\": [],\\n', '   \"source\": []\\n', '  },\\n', '  {\\n', '   \"cell_type\": \"code\",\\n', '   \"execution_count\": null,\\n', '   \"id\": \"118f71df\",\\n', '   \"metadata\": {},\\n', '   \"outputs\": [],\\n', '   \"source\": []\\n', '  },\\n', '  {\\n', '   \"cell_type\": \"code\",\\n', '   \"execution_count\": null,\\n', '   \"id\": \"d0ac682e\",\\n', '   \"metadata\": {},\\n', '   \"outputs\": [],\\n', '   \"source\": []\\n', '  },\\n', '  {\\n', '   \"cell_type\": \"code\",\\n', '   \"execution_count\": null,\\n', '   \"id\": \"f642f111\",\\n', '   \"metadata\": {},\\n', '   \"outputs\": [],\\n', '   \"source\": []\\n', '  },\\n', '  {\\n', '   \"cell_type\": \"code\",\\n', '   \"execution_count\": null,\\n', '   \"id\": \"ddb053a9\",\\n', '   \"metadata\": {},\\n', '   \"outputs\": [],\\n', '   \"source\": []\\n', '  },\\n', '  {\\n', '   \"cell_type\": \"code\",\\n', '   \"execution_count\": null,\\n', '   \"id\": \"e2145ae3\",\\n', '   \"metadata\": {},\\n', '   \"outputs\": [],\\n', '   \"source\": []\\n', '  },\\n', '  {\\n', '   \"cell_type\": \"code\",\\n', '   \"execution_count\": null,\\n', '   \"id\": \"0b427a2d\",\\n', '   \"metadata\": {},\\n', '   \"outputs\": [],\\n', '   \"source\": []\\n', '  },\\n', '  {\\n', '   \"cell_type\": \"code\",\\n', '   \"execution_count\": null,\\n', '   \"id\": \"247e83a2\",\\n', '   \"metadata\": {},\\n', '   \"outputs\": [],\\n', '   \"source\": []\\n', '  },\\n', '  {\\n', '   \"cell_type\": \"code\",\\n', '   \"execution_count\": 15,\\n', '   \"id\": \"be178fb5\",\\n', '   \"metadata\": {},\\n', '   \"outputs\": [\\n', '    {\\n', '     \"data\": {\\n', '      \"text/plain\": [\\n', '       \"\\'chay\\'\"\\n', '      ]\\n', '     },\\n', '     \"execution_count\": 15,\\n', '     \"metadata\": {},\\n', '     \"output_type\": \"execute_result\"\\n', '    }\\n', '   ],\\n', '   \"source\": [\\n', '    \"class person:\\\\n\",\\n', '    \"    def setname(self,name):\\\\n\",\\n', '    \"        self.name=name\\\\n\",\\n', '    \"    def getname(self):\\\\n\",\\n', '    \"        return(self.name)\\\\n\",\\n', '    \"p1=person()\\\\n\",\\n', '    \"p2=person()\\\\n\",\\n', '    \"p1.setname(\\'rakesh\\')\\\\n\",\\n', '    \"p2.setname(\\'chay\\')\\\\n\",\\n', '    \"p1.getname()\\\\n\",\\n', '    \"p2.getname()\\\\n\"\\n', '   ]\\n', '  },\\n', '  {\\n', '   \"cell_type\": \"code\",\\n', '   \"execution_count\": 6,\\n', '   \"id\": \"9645bd4d\",\\n', '   \"metadata\": {},\\n', '   \"outputs\": [\\n', '    {\\n', '     \"ename\": \"FileNotFoundError\",\\n', '     \"evalue\": \"[Errno 2] No such file or directory: \\'PROJECT4.HTML\\'\",\\n', '     \"output_type\": \"error\",\\n', '     \"traceback\": [\\n', '      \"\\\\u001b[0;31m---------------------------------------------------------------------------\\\\u001b[0m\",\\n', '      \"\\\\u001b[0;31mFileNotFoundError\\\\u001b[0m                         Traceback (most recent call last)\",\\n', '      \"Input \\\\u001b[0;32mIn [6]\\\\u001b[0m, in \\\\u001b[0;36m<cell line: 1>\\\\u001b[0;34m()\\\\u001b[0m\\\\n\\\\u001b[0;32m----> 1\\\\u001b[0m f \\\\u001b[38;5;241m=\\\\u001b[39m \\\\u001b[38;5;28;43mopen\\\\u001b[39;49m\\\\u001b[43m(\\\\u001b[49m\\\\u001b[38;5;124;43m\\'\\\\u001b[39;49m\\\\u001b[38;5;124;43mPROJECT4.HTML\\\\u001b[39;49m\\\\u001b[38;5;124;43m\\'\\\\u001b[39;49m\\\\u001b[43m,\\\\u001b[49m\\\\u001b[38;5;124;43m\\'\\\\u001b[39;49m\\\\u001b[38;5;124;43mr\\\\u001b[39;49m\\\\u001b[38;5;124;43m\\'\\\\u001b[39;49m\\\\u001b[43m)\\\\u001b[49m\\\\n\\\\u001b[1;32m      2\\\\u001b[0m \\\\u001b[38;5;28mprint\\\\u001b[39m(f\\\\u001b[38;5;241m.\\\\u001b[39mreadlines())\\\\n\",\\n', '      \"\\\\u001b[0;31mFileNotFoundError\\\\u001b[0m: [Errno 2] No such file or directory: \\'PROJECT4.HTML\\'\"\\n', '     ]\\n', '    }\\n', '   ],\\n', '   \"source\": [\\n', '    \"\\\\n\",\\n', '    \"f = open(\\'PROJECT4.HTML\\',\\'r\\')\\\\n\",\\n', '    \"print(f.readlines())\"\\n', '   ]\\n', '  },\\n', '  {\\n', '   \"cell_type\": \"code\",\\n', '   \"execution_count\": null,\\n', '   \"id\": \"a7260cdf\",\\n', '   \"metadata\": {},\\n', '   \"outputs\": [],\\n', '   \"source\": []\\n', '  },\\n', '  {\\n', '   \"cell_type\": \"code\",\\n', '   \"execution_count\": null,\\n', '   \"id\": \"21e9cd2f\",\\n', '   \"metadata\": {},\\n', '   \"outputs\": [],\\n', '   \"source\": []\\n', '  },\\n', '  {\\n', '   \"cell_type\": \"code\",\\n', '   \"execution_count\": null,\\n', '   \"id\": \"adbf860a\",\\n', '   \"metadata\": {},\\n', '   \"outputs\": [],\\n', '   \"source\": []\\n', '  },\\n', '  {\\n', '   \"cell_type\": \"code\",\\n', '   \"execution_count\": null,\\n', '   \"id\": \"01c13a9d\",\\n', '   \"metadata\": {},\\n', '   \"outputs\": [],\\n', '   \"source\": []\\n', '  },\\n', '  {\\n', '   \"cell_type\": \"code\",\\n', '   \"execution_count\": null,\\n', '   \"id\": \"daeaa239\",\\n', '   \"metadata\": {},\\n', '   \"outputs\": [],\\n', '   \"source\": []\\n', '  },\\n', '  {\\n', '   \"cell_type\": \"code\",\\n', '   \"execution_count\": null,\\n', '   \"id\": \"a666acf4\",\\n', '   \"metadata\": {},\\n', '   \"outputs\": [],\\n', '   \"source\": []\\n', '  },\\n', '  {\\n', '   \"cell_type\": \"code\",\\n', '   \"execution_count\": null,\\n', '   \"id\": \"f5c50927\",\\n', '   \"metadata\": {},\\n', '   \"outputs\": [],\\n', '   \"source\": []\\n', '  }\\n', ' ],\\n', ' \"metadata\": {\\n', '  \"kernelspec\": {\\n', '   \"display_name\": \"Python 3 (ipykernel)\",\\n', '   \"language\": \"python\",\\n', '   \"name\": \"python3\"\\n', '  },\\n', '  \"language_info\": {\\n', '   \"codemirror_mode\": {\\n', '    \"name\": \"ipython\",\\n', '    \"version\": 3\\n', '   },\\n', '   \"file_extension\": \".py\",\\n', '   \"mimetype\": \"text/x-python\",\\n', '   \"name\": \"python\",\\n', '   \"nbconvert_exporter\": \"python\",\\n', '   \"pygments_lexer\": \"ipython3\",\\n', '   \"version\": \"3.9.12\"\\n', '  }\\n', ' },\\n', ' \"nbformat\": 4,\\n', ' \"nbformat_minor\": 5\\n', '}\\n']\n"
     ]
    }
   ],
   "source": [
    "\n",
    "f = open('Untitled6.ipynb','r')\n",
    "print(f.readlines())"
   ]
  },
  {
   "cell_type": "code",
   "execution_count": null,
   "id": "a7260cdf",
   "metadata": {},
   "outputs": [],
   "source": []
  },
  {
   "cell_type": "code",
   "execution_count": null,
   "id": "21e9cd2f",
   "metadata": {},
   "outputs": [],
   "source": []
  },
  {
   "cell_type": "code",
   "execution_count": null,
   "id": "adbf860a",
   "metadata": {},
   "outputs": [],
   "source": []
  },
  {
   "cell_type": "code",
   "execution_count": null,
   "id": "01c13a9d",
   "metadata": {},
   "outputs": [],
   "source": []
  },
  {
   "cell_type": "code",
   "execution_count": null,
   "id": "daeaa239",
   "metadata": {},
   "outputs": [],
   "source": []
  },
  {
   "cell_type": "code",
   "execution_count": null,
   "id": "a666acf4",
   "metadata": {},
   "outputs": [],
   "source": []
  },
  {
   "cell_type": "code",
   "execution_count": null,
   "id": "f5c50927",
   "metadata": {},
   "outputs": [],
   "source": []
  }
 ],
 "metadata": {
  "kernelspec": {
   "display_name": "Python 3 (ipykernel)",
   "language": "python",
   "name": "python3"
  },
  "language_info": {
   "codemirror_mode": {
    "name": "ipython",
    "version": 3
   },
   "file_extension": ".py",
   "mimetype": "text/x-python",
   "name": "python",
   "nbconvert_exporter": "python",
   "pygments_lexer": "ipython3",
   "version": "3.9.12"
  }
 },
 "nbformat": 4,
 "nbformat_minor": 5
}
